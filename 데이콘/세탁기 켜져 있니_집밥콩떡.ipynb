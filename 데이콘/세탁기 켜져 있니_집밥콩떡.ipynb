{
 "cells": [
  {
   "cell_type": "code",
   "execution_count": 1,
   "metadata": {},
   "outputs": [],
   "source": [
    "import pandas as pd\n",
    "import glob\n",
    "\n",
    "# files=glob.glob('온도*.txt')\n",
    "\n",
    "# temp = []\n",
    "# for filename in files:\n",
    "#     temp.append(pd.read_csv(filename, sep='\\t', encoding='cp949'))\n",
    "\n",
    "\n",
    "# temp = pd.concat(temp, ignore_index=True)\n",
    "\n",
    "files=glob.glob('전력*.txt')\n",
    "\n",
    "ele = []\n",
    "for filename in files:\n",
    "    ele.append(pd.read_csv(filename, sep='\\t', encoding='cp949'))\n",
    "\n",
    "\n",
    "ele = pd.concat(ele, ignore_index=True)"
   ]
  },
  {
   "cell_type": "code",
   "execution_count": 418,
   "metadata": {},
   "outputs": [],
   "source": [
    "# ele_drop.to_csv('ele_tttt.csv', index=False, encoding='euc-kr')\n"
   ]
  },
  {
   "cell_type": "code",
   "execution_count": 2,
   "metadata": {},
   "outputs": [],
   "source": [
    "ele_drop = ele.drop(['HA','APT_TF','M2','PersonCount'], axis=1)\n",
    "\n",
    "ele_num = ele_drop['H_ID'] == 3\n",
    "elenum = ele_drop[ele_num]\n",
    "\n",
    "temp_1 = elenum['PointName'] == '전력총합'\n",
    "temp_2 = elenum['PointName'] == '세탁기' \n",
    "ele_total = elenum[temp_1]\n",
    "ele_se = elenum[temp_2]\n",
    "\n",
    "ele_total = ele_total.sort_values(['ST_DATE'])\n",
    "ele_se = ele_se.sort_values(['ST_DATE'])\n"
   ]
  },
  {
   "cell_type": "code",
   "execution_count": 4,
   "metadata": {},
   "outputs": [],
   "source": [
    "ele_merge = pd.merge(ele_total, ele_se, on = 'ST_DATE')"
   ]
  },
  {
   "cell_type": "code",
   "execution_count": 5,
   "metadata": {},
   "outputs": [],
   "source": [
    "title = ['H_ID_x', 'ST_DATE', 'PointName_x']"
   ]
  },
  {
   "cell_type": "code",
   "execution_count": 6,
   "metadata": {},
   "outputs": [],
   "source": [
    "for i in range(144) :\n",
    "    title.append('x')"
   ]
  },
  {
   "cell_type": "code",
   "execution_count": 7,
   "metadata": {},
   "outputs": [],
   "source": [
    "title.append('H_ID_y')"
   ]
  },
  {
   "cell_type": "code",
   "execution_count": 8,
   "metadata": {},
   "outputs": [],
   "source": [
    "title.append('PointName_y')"
   ]
  },
  {
   "cell_type": "code",
   "execution_count": 9,
   "metadata": {},
   "outputs": [],
   "source": [
    "for i in range(144) :\n",
    "    title.append('x')"
   ]
  },
  {
   "cell_type": "code",
   "execution_count": 10,
   "metadata": {},
   "outputs": [
    {
     "output_type": "execute_result",
     "data": {
      "text/plain": [
       "293"
      ]
     },
     "metadata": {},
     "execution_count": 10
    }
   ],
   "source": [
    "len(title)"
   ]
  },
  {
   "cell_type": "code",
   "execution_count": 164,
   "metadata": {},
   "outputs": [
    {
     "output_type": "execute_result",
     "data": {
      "text/plain": [
       "     H_ID_x     ST_DATE PointName_x      x      x      x      x      x      x  \\\n",
       "0         3  2011-12-13        전력총합  0.054  0.063  0.049  0.046  0.043  0.068   \n",
       "1         3  2011-12-15        전력총합  0.044  0.040  0.045  0.043  0.046  0.049   \n",
       "2         3  2011-12-17        전력총합  0.061  0.039  0.016  0.031  0.042  0.008   \n",
       "3         3  2011-12-19        전력총합  0.045  0.009  0.037  0.037  0.075  0.008   \n",
       "4         3  2011-12-20        전력총합  0.053  0.035  0.048  0.060  0.057  0.022   \n",
       "..      ...         ...         ...    ...    ...    ...    ...    ...    ...   \n",
       "99        3  2012-04-24        전력총합  0.026  0.042  0.039  0.068  0.053  0.044   \n",
       "100       3  2012-04-25        전력총합  0.044  0.043  0.045  0.043  0.045  0.044   \n",
       "101       3  2012-04-26        전력총합  0.014  0.050  0.023  0.034  0.040  0.053   \n",
       "102       3  2012-04-27        전력총합  0.068  0.063  0.038  0.058  0.037  0.059   \n",
       "103       3  2012-04-28        전력총합  0.071  0.035  0.031  0.050  0.079  0.052   \n",
       "\n",
       "         x  ...      x      x      x      x      x      x      x      x  \\\n",
       "0    0.064  ...  0.000  0.000  0.000  0.001  0.000  0.000  0.000  0.000   \n",
       "1    0.032  ...  0.001  0.000  0.000  0.000  0.000  0.000  0.000  0.001   \n",
       "2    0.021  ...  0.007  0.008  0.006  0.007  0.004  0.005  0.006  0.004   \n",
       "3    0.065  ...  0.000  0.000  0.000  0.000  0.000  0.001  0.000  0.000   \n",
       "4    0.068  ...  0.000  0.041  0.036  0.033  0.016  0.025  0.010  0.017   \n",
       "..     ...  ...    ...    ...    ...    ...    ...    ...    ...    ...   \n",
       "99   0.064  ...  0.000  0.000  0.001  0.000  0.000  0.000  0.000  0.001   \n",
       "100  0.062  ...  0.000  0.000  0.006  0.001  0.004  0.042  0.042  0.022   \n",
       "101  0.032  ...  0.007  0.008  0.006  0.007  0.004  0.005  0.006  0.000   \n",
       "102  0.067  ...  0.007  0.008  0.006  0.007  0.004  0.005  0.006  0.004   \n",
       "103  0.063  ...  0.007  0.008  0.006  0.007  0.004  0.005  0.006  0.004   \n",
       "\n",
       "         x      x  \n",
       "0    0.000  0.000  \n",
       "1    0.000  0.000  \n",
       "2    0.003  0.003  \n",
       "3    0.000  0.000  \n",
       "4    0.023  0.033  \n",
       "..     ...    ...  \n",
       "99   0.000  0.000  \n",
       "100  0.015  0.003  \n",
       "101  0.000  0.003  \n",
       "102  0.003  0.003  \n",
       "103  0.003  0.003  \n",
       "\n",
       "[104 rows x 293 columns]"
      ],
      "text/html": "<div>\n<style scoped>\n    .dataframe tbody tr th:only-of-type {\n        vertical-align: middle;\n    }\n\n    .dataframe tbody tr th {\n        vertical-align: top;\n    }\n\n    .dataframe thead th {\n        text-align: right;\n    }\n</style>\n<table border=\"1\" class=\"dataframe\">\n  <thead>\n    <tr style=\"text-align: right;\">\n      <th></th>\n      <th>H_ID_x</th>\n      <th>ST_DATE</th>\n      <th>PointName_x</th>\n      <th>x</th>\n      <th>x</th>\n      <th>x</th>\n      <th>x</th>\n      <th>x</th>\n      <th>x</th>\n      <th>x</th>\n      <th>...</th>\n      <th>x</th>\n      <th>x</th>\n      <th>x</th>\n      <th>x</th>\n      <th>x</th>\n      <th>x</th>\n      <th>x</th>\n      <th>x</th>\n      <th>x</th>\n      <th>x</th>\n    </tr>\n  </thead>\n  <tbody>\n    <tr>\n      <th>0</th>\n      <td>3</td>\n      <td>2011-12-13</td>\n      <td>전력총합</td>\n      <td>0.054</td>\n      <td>0.063</td>\n      <td>0.049</td>\n      <td>0.046</td>\n      <td>0.043</td>\n      <td>0.068</td>\n      <td>0.064</td>\n      <td>...</td>\n      <td>0.000</td>\n      <td>0.000</td>\n      <td>0.000</td>\n      <td>0.001</td>\n      <td>0.000</td>\n      <td>0.000</td>\n      <td>0.000</td>\n      <td>0.000</td>\n      <td>0.000</td>\n      <td>0.000</td>\n    </tr>\n    <tr>\n      <th>1</th>\n      <td>3</td>\n      <td>2011-12-15</td>\n      <td>전력총합</td>\n      <td>0.044</td>\n      <td>0.040</td>\n      <td>0.045</td>\n      <td>0.043</td>\n      <td>0.046</td>\n      <td>0.049</td>\n      <td>0.032</td>\n      <td>...</td>\n      <td>0.001</td>\n      <td>0.000</td>\n      <td>0.000</td>\n      <td>0.000</td>\n      <td>0.000</td>\n      <td>0.000</td>\n      <td>0.000</td>\n      <td>0.001</td>\n      <td>0.000</td>\n      <td>0.000</td>\n    </tr>\n    <tr>\n      <th>2</th>\n      <td>3</td>\n      <td>2011-12-17</td>\n      <td>전력총합</td>\n      <td>0.061</td>\n      <td>0.039</td>\n      <td>0.016</td>\n      <td>0.031</td>\n      <td>0.042</td>\n      <td>0.008</td>\n      <td>0.021</td>\n      <td>...</td>\n      <td>0.007</td>\n      <td>0.008</td>\n      <td>0.006</td>\n      <td>0.007</td>\n      <td>0.004</td>\n      <td>0.005</td>\n      <td>0.006</td>\n      <td>0.004</td>\n      <td>0.003</td>\n      <td>0.003</td>\n    </tr>\n    <tr>\n      <th>3</th>\n      <td>3</td>\n      <td>2011-12-19</td>\n      <td>전력총합</td>\n      <td>0.045</td>\n      <td>0.009</td>\n      <td>0.037</td>\n      <td>0.037</td>\n      <td>0.075</td>\n      <td>0.008</td>\n      <td>0.065</td>\n      <td>...</td>\n      <td>0.000</td>\n      <td>0.000</td>\n      <td>0.000</td>\n      <td>0.000</td>\n      <td>0.000</td>\n      <td>0.001</td>\n      <td>0.000</td>\n      <td>0.000</td>\n      <td>0.000</td>\n      <td>0.000</td>\n    </tr>\n    <tr>\n      <th>4</th>\n      <td>3</td>\n      <td>2011-12-20</td>\n      <td>전력총합</td>\n      <td>0.053</td>\n      <td>0.035</td>\n      <td>0.048</td>\n      <td>0.060</td>\n      <td>0.057</td>\n      <td>0.022</td>\n      <td>0.068</td>\n      <td>...</td>\n      <td>0.000</td>\n      <td>0.041</td>\n      <td>0.036</td>\n      <td>0.033</td>\n      <td>0.016</td>\n      <td>0.025</td>\n      <td>0.010</td>\n      <td>0.017</td>\n      <td>0.023</td>\n      <td>0.033</td>\n    </tr>\n    <tr>\n      <th>...</th>\n      <td>...</td>\n      <td>...</td>\n      <td>...</td>\n      <td>...</td>\n      <td>...</td>\n      <td>...</td>\n      <td>...</td>\n      <td>...</td>\n      <td>...</td>\n      <td>...</td>\n      <td>...</td>\n      <td>...</td>\n      <td>...</td>\n      <td>...</td>\n      <td>...</td>\n      <td>...</td>\n      <td>...</td>\n      <td>...</td>\n      <td>...</td>\n      <td>...</td>\n      <td>...</td>\n    </tr>\n    <tr>\n      <th>99</th>\n      <td>3</td>\n      <td>2012-04-24</td>\n      <td>전력총합</td>\n      <td>0.026</td>\n      <td>0.042</td>\n      <td>0.039</td>\n      <td>0.068</td>\n      <td>0.053</td>\n      <td>0.044</td>\n      <td>0.064</td>\n      <td>...</td>\n      <td>0.000</td>\n      <td>0.000</td>\n      <td>0.001</td>\n      <td>0.000</td>\n      <td>0.000</td>\n      <td>0.000</td>\n      <td>0.000</td>\n      <td>0.001</td>\n      <td>0.000</td>\n      <td>0.000</td>\n    </tr>\n    <tr>\n      <th>100</th>\n      <td>3</td>\n      <td>2012-04-25</td>\n      <td>전력총합</td>\n      <td>0.044</td>\n      <td>0.043</td>\n      <td>0.045</td>\n      <td>0.043</td>\n      <td>0.045</td>\n      <td>0.044</td>\n      <td>0.062</td>\n      <td>...</td>\n      <td>0.000</td>\n      <td>0.000</td>\n      <td>0.006</td>\n      <td>0.001</td>\n      <td>0.004</td>\n      <td>0.042</td>\n      <td>0.042</td>\n      <td>0.022</td>\n      <td>0.015</td>\n      <td>0.003</td>\n    </tr>\n    <tr>\n      <th>101</th>\n      <td>3</td>\n      <td>2012-04-26</td>\n      <td>전력총합</td>\n      <td>0.014</td>\n      <td>0.050</td>\n      <td>0.023</td>\n      <td>0.034</td>\n      <td>0.040</td>\n      <td>0.053</td>\n      <td>0.032</td>\n      <td>...</td>\n      <td>0.007</td>\n      <td>0.008</td>\n      <td>0.006</td>\n      <td>0.007</td>\n      <td>0.004</td>\n      <td>0.005</td>\n      <td>0.006</td>\n      <td>0.000</td>\n      <td>0.000</td>\n      <td>0.003</td>\n    </tr>\n    <tr>\n      <th>102</th>\n      <td>3</td>\n      <td>2012-04-27</td>\n      <td>전력총합</td>\n      <td>0.068</td>\n      <td>0.063</td>\n      <td>0.038</td>\n      <td>0.058</td>\n      <td>0.037</td>\n      <td>0.059</td>\n      <td>0.067</td>\n      <td>...</td>\n      <td>0.007</td>\n      <td>0.008</td>\n      <td>0.006</td>\n      <td>0.007</td>\n      <td>0.004</td>\n      <td>0.005</td>\n      <td>0.006</td>\n      <td>0.004</td>\n      <td>0.003</td>\n      <td>0.003</td>\n    </tr>\n    <tr>\n      <th>103</th>\n      <td>3</td>\n      <td>2012-04-28</td>\n      <td>전력총합</td>\n      <td>0.071</td>\n      <td>0.035</td>\n      <td>0.031</td>\n      <td>0.050</td>\n      <td>0.079</td>\n      <td>0.052</td>\n      <td>0.063</td>\n      <td>...</td>\n      <td>0.007</td>\n      <td>0.008</td>\n      <td>0.006</td>\n      <td>0.007</td>\n      <td>0.004</td>\n      <td>0.005</td>\n      <td>0.006</td>\n      <td>0.004</td>\n      <td>0.003</td>\n      <td>0.003</td>\n    </tr>\n  </tbody>\n</table>\n<p>104 rows × 293 columns</p>\n</div>"
     },
     "metadata": {},
     "execution_count": 164
    }
   ],
   "source": [
    "ele_merge"
   ]
  },
  {
   "cell_type": "code",
   "execution_count": 11,
   "metadata": {},
   "outputs": [],
   "source": [
    "ele_merge.columns = title"
   ]
  },
  {
   "cell_type": "code",
   "execution_count": 12,
   "metadata": {},
   "outputs": [],
   "source": [
    "ele_x = ele_merge.iloc[:, [3, 149]]"
   ]
  },
  {
   "cell_type": "code",
   "execution_count": 13,
   "metadata": {},
   "outputs": [],
   "source": [
    "cnt = 3\n",
    "cnt1 = 149\n",
    "ele_x = ele_merge.iloc[:, [cnt, cnt1]]\n",
    "\n",
    "while cnt < 146 :\n",
    "    cnt = cnt + 1\n",
    "    cnt1 = cnt1 + 1 \n",
    "    plus = ele_merge.iloc[:, [cnt, cnt1]]\n",
    "    ele_x = ele_x.append(plus)\n",
    "    "
   ]
  },
  {
   "cell_type": "code",
   "execution_count": 14,
   "metadata": {},
   "outputs": [
    {
     "output_type": "execute_result",
     "data": {
      "text/plain": [
       "         x      x\n",
       "0    0.054  0.004\n",
       "1    0.044  0.000\n",
       "2    0.061  0.010\n",
       "3    0.045  0.000\n",
       "4    0.053  0.000\n",
       "..     ...    ...\n",
       "99   0.041  0.000\n",
       "100  0.033  0.003\n",
       "101  0.034  0.003\n",
       "102  0.012  0.003\n",
       "103  0.044  0.003\n",
       "\n",
       "[14976 rows x 2 columns]"
      ],
      "text/html": "<div>\n<style scoped>\n    .dataframe tbody tr th:only-of-type {\n        vertical-align: middle;\n    }\n\n    .dataframe tbody tr th {\n        vertical-align: top;\n    }\n\n    .dataframe thead th {\n        text-align: right;\n    }\n</style>\n<table border=\"1\" class=\"dataframe\">\n  <thead>\n    <tr style=\"text-align: right;\">\n      <th></th>\n      <th>x</th>\n      <th>x</th>\n    </tr>\n  </thead>\n  <tbody>\n    <tr>\n      <th>0</th>\n      <td>0.054</td>\n      <td>0.004</td>\n    </tr>\n    <tr>\n      <th>1</th>\n      <td>0.044</td>\n      <td>0.000</td>\n    </tr>\n    <tr>\n      <th>2</th>\n      <td>0.061</td>\n      <td>0.010</td>\n    </tr>\n    <tr>\n      <th>3</th>\n      <td>0.045</td>\n      <td>0.000</td>\n    </tr>\n    <tr>\n      <th>4</th>\n      <td>0.053</td>\n      <td>0.000</td>\n    </tr>\n    <tr>\n      <th>...</th>\n      <td>...</td>\n      <td>...</td>\n    </tr>\n    <tr>\n      <th>99</th>\n      <td>0.041</td>\n      <td>0.000</td>\n    </tr>\n    <tr>\n      <th>100</th>\n      <td>0.033</td>\n      <td>0.003</td>\n    </tr>\n    <tr>\n      <th>101</th>\n      <td>0.034</td>\n      <td>0.003</td>\n    </tr>\n    <tr>\n      <th>102</th>\n      <td>0.012</td>\n      <td>0.003</td>\n    </tr>\n    <tr>\n      <th>103</th>\n      <td>0.044</td>\n      <td>0.003</td>\n    </tr>\n  </tbody>\n</table>\n<p>14976 rows × 2 columns</p>\n</div>"
     },
     "metadata": {},
     "execution_count": 14
    }
   ],
   "source": [
    "ele_x"
   ]
  },
  {
   "cell_type": "code",
   "execution_count": 15,
   "metadata": {},
   "outputs": [],
   "source": [
    "ele_x['hour'] = 3"
   ]
  },
  {
   "cell_type": "code",
   "execution_count": 16,
   "metadata": {},
   "outputs": [],
   "source": [
    "num = []\n",
    "for a in range(0,24) :\n",
    "    num.append(a)\n",
    "    num.append(a)\n",
    "    num.append(a)\n",
    "    num.append(a)\n",
    "    num.append(a)\n",
    "    num.append(a)"
   ]
  },
  {
   "cell_type": "code",
   "execution_count": 18,
   "metadata": {
    "tags": []
   },
   "outputs": [],
   "source": [
    "cnt3 = 0\n",
    "for b in range(14976) :\n",
    "    ele_x.iloc[b, 2] = num[cnt3]\n",
    "    cnt3 += 1\n",
    "    if cnt3 == 144 :\n",
    "        cnt3 = 0"
   ]
  },
  {
   "cell_type": "code",
   "execution_count": 20,
   "metadata": {},
   "outputs": [
    {
     "output_type": "execute_result",
     "data": {
      "text/plain": [
       "         x      x  hour\n",
       "0    0.054  0.004     0\n",
       "1    0.044  0.000     0\n",
       "2    0.061  0.010     0\n",
       "3    0.045  0.000     0\n",
       "4    0.053  0.000     0\n",
       "..     ...    ...   ...\n",
       "99   0.041  0.000    23\n",
       "100  0.033  0.003    23\n",
       "101  0.034  0.003    23\n",
       "102  0.012  0.003    23\n",
       "103  0.044  0.003    23\n",
       "\n",
       "[14976 rows x 3 columns]"
      ],
      "text/html": "<div>\n<style scoped>\n    .dataframe tbody tr th:only-of-type {\n        vertical-align: middle;\n    }\n\n    .dataframe tbody tr th {\n        vertical-align: top;\n    }\n\n    .dataframe thead th {\n        text-align: right;\n    }\n</style>\n<table border=\"1\" class=\"dataframe\">\n  <thead>\n    <tr style=\"text-align: right;\">\n      <th></th>\n      <th>x</th>\n      <th>x</th>\n      <th>hour</th>\n    </tr>\n  </thead>\n  <tbody>\n    <tr>\n      <th>0</th>\n      <td>0.054</td>\n      <td>0.004</td>\n      <td>0</td>\n    </tr>\n    <tr>\n      <th>1</th>\n      <td>0.044</td>\n      <td>0.000</td>\n      <td>0</td>\n    </tr>\n    <tr>\n      <th>2</th>\n      <td>0.061</td>\n      <td>0.010</td>\n      <td>0</td>\n    </tr>\n    <tr>\n      <th>3</th>\n      <td>0.045</td>\n      <td>0.000</td>\n      <td>0</td>\n    </tr>\n    <tr>\n      <th>4</th>\n      <td>0.053</td>\n      <td>0.000</td>\n      <td>0</td>\n    </tr>\n    <tr>\n      <th>...</th>\n      <td>...</td>\n      <td>...</td>\n      <td>...</td>\n    </tr>\n    <tr>\n      <th>99</th>\n      <td>0.041</td>\n      <td>0.000</td>\n      <td>23</td>\n    </tr>\n    <tr>\n      <th>100</th>\n      <td>0.033</td>\n      <td>0.003</td>\n      <td>23</td>\n    </tr>\n    <tr>\n      <th>101</th>\n      <td>0.034</td>\n      <td>0.003</td>\n      <td>23</td>\n    </tr>\n    <tr>\n      <th>102</th>\n      <td>0.012</td>\n      <td>0.003</td>\n      <td>23</td>\n    </tr>\n    <tr>\n      <th>103</th>\n      <td>0.044</td>\n      <td>0.003</td>\n      <td>23</td>\n    </tr>\n  </tbody>\n</table>\n<p>14976 rows × 3 columns</p>\n</div>"
     },
     "metadata": {},
     "execution_count": 20
    }
   ],
   "source": [
    "ele_x"
   ]
  },
  {
   "cell_type": "code",
   "execution_count": 22,
   "metadata": {},
   "outputs": [],
   "source": [
    "ele_y = ele_x.iloc[:, 1]\n",
    "ele_X = ele_x.iloc[:, [0,2]]\n"
   ]
  },
  {
   "cell_type": "code",
   "execution_count": 33,
   "metadata": {},
   "outputs": [],
   "source": [
    "ele_Y = ele_y"
   ]
  },
  {
   "cell_type": "code",
   "execution_count": 39,
   "metadata": {},
   "outputs": [],
   "source": [
    "for i in range(14976) :\n",
    "    if ele_y.iloc[i] > 0.007 :\n",
    "        ele_Y.iloc[i] = 1\n",
    "    else :\n",
    "        ele_Y.iloc[i] = 0"
   ]
  },
  {
   "cell_type": "code",
   "execution_count": 40,
   "metadata": {},
   "outputs": [
    {
     "output_type": "execute_result",
     "data": {
      "text/plain": [
       "0      0.0\n",
       "1      0.0\n",
       "2      1.0\n",
       "3      0.0\n",
       "4      0.0\n",
       "      ... \n",
       "99     0.0\n",
       "100    0.0\n",
       "101    0.0\n",
       "102    0.0\n",
       "103    0.0\n",
       "Name: x, Length: 14976, dtype: float64"
      ]
     },
     "metadata": {},
     "execution_count": 40
    }
   ],
   "source": [
    "ele_Y"
   ]
  },
  {
   "cell_type": "code",
   "execution_count": 118,
   "metadata": {},
   "outputs": [],
   "source": [
    "# 5_label = ['5m_lable.txt']\n",
    "test = []\n",
    "for filename in ['5m_lable.txt']:\n",
    "    test.append(pd.read_csv(filename, sep='\\t', encoding='cp949'))\n",
    "\n",
    "\n",
    "test = pd.concat(test, ignore_index=True)"
   ]
  },
  {
   "cell_type": "code",
   "execution_count": 119,
   "metadata": {},
   "outputs": [],
   "source": [
    "test_drop = test.drop(['HA','APT_TF','M2','PersonCount'], axis=1)\n",
    "\n",
    "test_num = test_drop['H_ID'] == 3\n",
    "testnum = test_drop[test_num]\n",
    "\n",
    "temp_1 = testnum['PointName'] == '전력총합'\n",
    "temp_2 = testnum['PointName'] == '세탁기' \n",
    "test_x = testnum[temp_1]\n",
    "test_y = testnum[temp_2]\n",
    "\n",
    "test_x = test_x.sort_values(['ST_DATE'])\n",
    "test_y = test_y.sort_values(['ST_DATE'])\n"
   ]
  },
  {
   "cell_type": "code",
   "execution_count": 121,
   "metadata": {},
   "outputs": [
    {
     "output_type": "execute_result",
     "data": {
      "text/plain": [
       "     H_ID     ST_DATE PointName  H00_1  H00_2  H00_3  H00_4  H00_5  H00_6  \\\n",
       "193     3  2012-05-01       세탁기  0.004  0.003  0.003  0.002  0.002  0.001   \n",
       "199     3  2012-05-02       세탁기  0.000  0.000  0.001  0.000  0.000  0.000   \n",
       "205     3  2012-05-03       세탁기  0.001  0.000  0.000  0.000  0.000  0.001   \n",
       "211     3  2012-05-04       세탁기  0.004  0.003  0.003  0.002  0.002  0.001   \n",
       "217     3  2012-05-05       세탁기  0.004  0.003  0.003  0.002  0.002  0.001   \n",
       "223     3  2012-05-06       세탁기  0.000  0.000  0.000  0.000  0.001  0.000   \n",
       "229     3  2012-05-07       세탁기  0.000  0.000  0.001  0.000  0.002  0.001   \n",
       "235     3  2012-05-08       세탁기  0.004  0.003  0.003  0.002  0.002  0.001   \n",
       "241     3  2012-05-09       세탁기  0.004  0.003  0.003  0.002  0.002  0.001   \n",
       "247     3  2012-05-10       세탁기  0.000  0.000  0.000  0.000  0.001  0.000   \n",
       "253     3  2012-05-11       세탁기  0.001  0.000  0.000  0.000  0.000  0.001   \n",
       "259     3  2012-05-12       세탁기  0.000  0.001  0.000  0.000  0.000  0.000   \n",
       "265     3  2012-05-13       세탁기  0.040  0.042  0.042  0.024  0.019  0.021   \n",
       "271     3  2012-05-14       세탁기  0.000  0.001  0.000  0.000  0.000  0.000   \n",
       "277     3  2012-05-15       세탁기  0.000  0.000  0.001  0.000  0.000  0.000   \n",
       "283     3  2012-05-16       세탁기  0.001  0.000  0.000  0.000  0.000  0.000   \n",
       "289     3  2012-05-17       세탁기  0.000  0.000  0.001  0.000  0.000  0.000   \n",
       "295     3  2012-05-18       세탁기  0.000  0.000  0.000  0.000  0.042  0.039   \n",
       "301     3  2012-05-19       세탁기  0.004  0.003  0.003  0.002  0.002  0.001   \n",
       "307     3  2012-05-20       세탁기  0.004  0.000  0.003  0.000  0.001  0.000   \n",
       "313     3  2012-05-21       세탁기  0.004  0.003  0.003  0.002  0.002  0.000   \n",
       "319     3  2012-05-22       세탁기  0.004  0.003  0.003  0.002  0.002  0.001   \n",
       "325     3  2012-05-23       세탁기  0.000  0.000  0.001  0.000  0.000  0.000   \n",
       "331     3  2012-05-24       세탁기  0.000  0.000  0.003  0.002  0.002  0.001   \n",
       "337     3  2012-05-25       세탁기  0.042  0.003  0.016  0.034  0.002  0.001   \n",
       "343     3  2012-05-26       세탁기  0.004  0.001  0.003  0.002  0.002  0.001   \n",
       "349     3  2012-05-27       세탁기  0.000  0.000  0.000  0.001  0.000  0.000   \n",
       "355     3  2012-05-28       세탁기  0.004  0.000  0.000  0.000  0.002  0.001   \n",
       "361     3  2012-05-29       세탁기  0.004  0.003  0.003  0.000  0.001  0.000   \n",
       "367     3  2012-05-30       세탁기  0.000  0.001  0.000  0.000  0.000  0.000   \n",
       "373     3  2012-05-31       세탁기  0.004  0.003  0.003  0.002  0.002  0.001   \n",
       "\n",
       "     H01_1  ...  H22_3  H22_4  H22_5  H22_6  H23_1  H23_2  H23_3  H23_4  \\\n",
       "193  0.001  ...  0.007  0.000  0.001  0.000  0.000  0.000  0.006  0.001   \n",
       "199  0.000  ...  0.018  0.011  0.009  0.011  0.000  0.001  0.000  0.000   \n",
       "205  0.000  ...  0.007  0.008  0.006  0.042  0.004  0.005  0.006  0.004   \n",
       "211  0.001  ...  0.007  0.008  0.006  0.007  0.000  0.005  0.006  0.004   \n",
       "217  0.001  ...  0.000  0.000  0.000  0.000  0.001  0.000  0.000  0.000   \n",
       "223  0.000  ...  0.007  0.000  0.001  0.000  0.000  0.000  0.000  0.001   \n",
       "229  0.001  ...  0.007  0.008  0.006  0.007  0.000  0.000  0.000  0.001   \n",
       "235  0.001  ...  0.007  0.008  0.000  0.007  0.004  0.005  0.006  0.004   \n",
       "241  0.001  ...  0.000  0.000  0.000  0.001  0.000  0.000  0.000  0.000   \n",
       "247  0.000  ...  0.001  0.000  0.000  0.000  0.000  0.001  0.000  0.000   \n",
       "253  0.000  ...  0.000  0.001  0.000  0.000  0.000  0.000  0.001  0.000   \n",
       "259  0.000  ...  0.012  0.042  0.042  0.042  0.004  0.000  0.000  0.000   \n",
       "265  0.007  ...  0.026  0.039  0.000  0.000  0.000  0.000  0.001  0.004   \n",
       "271  0.001  ...  0.000  0.000  0.001  0.000  0.000  0.000  0.000  0.001   \n",
       "277  0.000  ...  0.001  0.000  0.000  0.000  0.000  0.001  0.000  0.000   \n",
       "283  0.001  ...  0.000  0.001  0.000  0.000  0.000  0.000  0.000  0.001   \n",
       "289  0.000  ...  0.007  0.008  0.019  0.011  0.001  0.000  0.000  0.000   \n",
       "295  0.001  ...  0.007  0.008  0.006  0.007  0.004  0.005  0.006  0.004   \n",
       "301  0.001  ...  0.000  0.008  0.006  0.007  0.004  0.005  0.000  0.000   \n",
       "307  0.001  ...  0.010  0.039  0.001  0.000  0.001  0.000  0.000  0.000   \n",
       "313  0.001  ...  0.007  0.008  0.006  0.000  0.004  0.005  0.006  0.004   \n",
       "319  0.001  ...  0.000  0.000  0.001  0.000  0.000  0.000  0.000  0.001   \n",
       "325  0.000  ...  0.007  0.000  0.001  0.000  0.000  0.000  0.006  0.001   \n",
       "331  0.001  ...  0.024  0.011  0.001  0.000  0.000  0.005  0.036  0.000   \n",
       "337  0.040  ...  0.007  0.008  0.000  0.007  0.000  0.005  0.001  0.000   \n",
       "343  0.001  ...  0.000  0.000  0.000  0.001  0.000  0.000  0.000  0.000   \n",
       "349  0.001  ...  0.007  0.008  0.006  0.007  0.004  0.005  0.006  0.004   \n",
       "355  0.001  ...  0.000  0.000  0.000  0.001  0.019  0.005  0.006  0.004   \n",
       "361  0.000  ...  0.000  0.008  0.000  0.000  0.000  0.000  0.001  0.000   \n",
       "367  0.001  ...  0.007  0.008  0.006  0.007  0.004  0.005  0.006  0.004   \n",
       "373  0.001  ...  0.000  0.008  0.006  0.000  0.000  0.000  0.000  0.001   \n",
       "\n",
       "     H23_5  H23_6  \n",
       "193  0.000  0.003  \n",
       "199  0.000  0.000  \n",
       "205  0.003  0.000  \n",
       "211  0.003  0.003  \n",
       "217  0.000  0.001  \n",
       "223  0.000  0.000  \n",
       "229  0.003  0.000  \n",
       "235  0.003  0.003  \n",
       "241  0.001  0.000  \n",
       "247  0.000  0.000  \n",
       "253  0.000  0.000  \n",
       "259  0.000  0.001  \n",
       "265  0.003  0.003  \n",
       "271  0.000  0.000  \n",
       "277  0.000  0.000  \n",
       "283  0.000  0.000  \n",
       "289  0.000  0.001  \n",
       "295  0.003  0.003  \n",
       "301  0.003  0.003  \n",
       "307  0.000  0.001  \n",
       "313  0.003  0.003  \n",
       "319  0.000  0.000  \n",
       "325  0.000  0.000  \n",
       "331  0.013  0.003  \n",
       "337  0.000  0.000  \n",
       "343  0.001  0.000  \n",
       "349  0.003  0.003  \n",
       "355  0.003  0.003  \n",
       "361  0.000  0.000  \n",
       "367  0.003  0.003  \n",
       "373  0.000  0.000  \n",
       "\n",
       "[31 rows x 147 columns]"
      ],
      "text/html": "<div>\n<style scoped>\n    .dataframe tbody tr th:only-of-type {\n        vertical-align: middle;\n    }\n\n    .dataframe tbody tr th {\n        vertical-align: top;\n    }\n\n    .dataframe thead th {\n        text-align: right;\n    }\n</style>\n<table border=\"1\" class=\"dataframe\">\n  <thead>\n    <tr style=\"text-align: right;\">\n      <th></th>\n      <th>H_ID</th>\n      <th>ST_DATE</th>\n      <th>PointName</th>\n      <th>H00_1</th>\n      <th>H00_2</th>\n      <th>H00_3</th>\n      <th>H00_4</th>\n      <th>H00_5</th>\n      <th>H00_6</th>\n      <th>H01_1</th>\n      <th>...</th>\n      <th>H22_3</th>\n      <th>H22_4</th>\n      <th>H22_5</th>\n      <th>H22_6</th>\n      <th>H23_1</th>\n      <th>H23_2</th>\n      <th>H23_3</th>\n      <th>H23_4</th>\n      <th>H23_5</th>\n      <th>H23_6</th>\n    </tr>\n  </thead>\n  <tbody>\n    <tr>\n      <th>193</th>\n      <td>3</td>\n      <td>2012-05-01</td>\n      <td>세탁기</td>\n      <td>0.004</td>\n      <td>0.003</td>\n      <td>0.003</td>\n      <td>0.002</td>\n      <td>0.002</td>\n      <td>0.001</td>\n      <td>0.001</td>\n      <td>...</td>\n      <td>0.007</td>\n      <td>0.000</td>\n      <td>0.001</td>\n      <td>0.000</td>\n      <td>0.000</td>\n      <td>0.000</td>\n      <td>0.006</td>\n      <td>0.001</td>\n      <td>0.000</td>\n      <td>0.003</td>\n    </tr>\n    <tr>\n      <th>199</th>\n      <td>3</td>\n      <td>2012-05-02</td>\n      <td>세탁기</td>\n      <td>0.000</td>\n      <td>0.000</td>\n      <td>0.001</td>\n      <td>0.000</td>\n      <td>0.000</td>\n      <td>0.000</td>\n      <td>0.000</td>\n      <td>...</td>\n      <td>0.018</td>\n      <td>0.011</td>\n      <td>0.009</td>\n      <td>0.011</td>\n      <td>0.000</td>\n      <td>0.001</td>\n      <td>0.000</td>\n      <td>0.000</td>\n      <td>0.000</td>\n      <td>0.000</td>\n    </tr>\n    <tr>\n      <th>205</th>\n      <td>3</td>\n      <td>2012-05-03</td>\n      <td>세탁기</td>\n      <td>0.001</td>\n      <td>0.000</td>\n      <td>0.000</td>\n      <td>0.000</td>\n      <td>0.000</td>\n      <td>0.001</td>\n      <td>0.000</td>\n      <td>...</td>\n      <td>0.007</td>\n      <td>0.008</td>\n      <td>0.006</td>\n      <td>0.042</td>\n      <td>0.004</td>\n      <td>0.005</td>\n      <td>0.006</td>\n      <td>0.004</td>\n      <td>0.003</td>\n      <td>0.000</td>\n    </tr>\n    <tr>\n      <th>211</th>\n      <td>3</td>\n      <td>2012-05-04</td>\n      <td>세탁기</td>\n      <td>0.004</td>\n      <td>0.003</td>\n      <td>0.003</td>\n      <td>0.002</td>\n      <td>0.002</td>\n      <td>0.001</td>\n      <td>0.001</td>\n      <td>...</td>\n      <td>0.007</td>\n      <td>0.008</td>\n      <td>0.006</td>\n      <td>0.007</td>\n      <td>0.000</td>\n      <td>0.005</td>\n      <td>0.006</td>\n      <td>0.004</td>\n      <td>0.003</td>\n      <td>0.003</td>\n    </tr>\n    <tr>\n      <th>217</th>\n      <td>3</td>\n      <td>2012-05-05</td>\n      <td>세탁기</td>\n      <td>0.004</td>\n      <td>0.003</td>\n      <td>0.003</td>\n      <td>0.002</td>\n      <td>0.002</td>\n      <td>0.001</td>\n      <td>0.001</td>\n      <td>...</td>\n      <td>0.000</td>\n      <td>0.000</td>\n      <td>0.000</td>\n      <td>0.000</td>\n      <td>0.001</td>\n      <td>0.000</td>\n      <td>0.000</td>\n      <td>0.000</td>\n      <td>0.000</td>\n      <td>0.001</td>\n    </tr>\n    <tr>\n      <th>223</th>\n      <td>3</td>\n      <td>2012-05-06</td>\n      <td>세탁기</td>\n      <td>0.000</td>\n      <td>0.000</td>\n      <td>0.000</td>\n      <td>0.000</td>\n      <td>0.001</td>\n      <td>0.000</td>\n      <td>0.000</td>\n      <td>...</td>\n      <td>0.007</td>\n      <td>0.000</td>\n      <td>0.001</td>\n      <td>0.000</td>\n      <td>0.000</td>\n      <td>0.000</td>\n      <td>0.000</td>\n      <td>0.001</td>\n      <td>0.000</td>\n      <td>0.000</td>\n    </tr>\n    <tr>\n      <th>229</th>\n      <td>3</td>\n      <td>2012-05-07</td>\n      <td>세탁기</td>\n      <td>0.000</td>\n      <td>0.000</td>\n      <td>0.001</td>\n      <td>0.000</td>\n      <td>0.002</td>\n      <td>0.001</td>\n      <td>0.001</td>\n      <td>...</td>\n      <td>0.007</td>\n      <td>0.008</td>\n      <td>0.006</td>\n      <td>0.007</td>\n      <td>0.000</td>\n      <td>0.000</td>\n      <td>0.000</td>\n      <td>0.001</td>\n      <td>0.003</td>\n      <td>0.000</td>\n    </tr>\n    <tr>\n      <th>235</th>\n      <td>3</td>\n      <td>2012-05-08</td>\n      <td>세탁기</td>\n      <td>0.004</td>\n      <td>0.003</td>\n      <td>0.003</td>\n      <td>0.002</td>\n      <td>0.002</td>\n      <td>0.001</td>\n      <td>0.001</td>\n      <td>...</td>\n      <td>0.007</td>\n      <td>0.008</td>\n      <td>0.000</td>\n      <td>0.007</td>\n      <td>0.004</td>\n      <td>0.005</td>\n      <td>0.006</td>\n      <td>0.004</td>\n      <td>0.003</td>\n      <td>0.003</td>\n    </tr>\n    <tr>\n      <th>241</th>\n      <td>3</td>\n      <td>2012-05-09</td>\n      <td>세탁기</td>\n      <td>0.004</td>\n      <td>0.003</td>\n      <td>0.003</td>\n      <td>0.002</td>\n      <td>0.002</td>\n      <td>0.001</td>\n      <td>0.001</td>\n      <td>...</td>\n      <td>0.000</td>\n      <td>0.000</td>\n      <td>0.000</td>\n      <td>0.001</td>\n      <td>0.000</td>\n      <td>0.000</td>\n      <td>0.000</td>\n      <td>0.000</td>\n      <td>0.001</td>\n      <td>0.000</td>\n    </tr>\n    <tr>\n      <th>247</th>\n      <td>3</td>\n      <td>2012-05-10</td>\n      <td>세탁기</td>\n      <td>0.000</td>\n      <td>0.000</td>\n      <td>0.000</td>\n      <td>0.000</td>\n      <td>0.001</td>\n      <td>0.000</td>\n      <td>0.000</td>\n      <td>...</td>\n      <td>0.001</td>\n      <td>0.000</td>\n      <td>0.000</td>\n      <td>0.000</td>\n      <td>0.000</td>\n      <td>0.001</td>\n      <td>0.000</td>\n      <td>0.000</td>\n      <td>0.000</td>\n      <td>0.000</td>\n    </tr>\n    <tr>\n      <th>253</th>\n      <td>3</td>\n      <td>2012-05-11</td>\n      <td>세탁기</td>\n      <td>0.001</td>\n      <td>0.000</td>\n      <td>0.000</td>\n      <td>0.000</td>\n      <td>0.000</td>\n      <td>0.001</td>\n      <td>0.000</td>\n      <td>...</td>\n      <td>0.000</td>\n      <td>0.001</td>\n      <td>0.000</td>\n      <td>0.000</td>\n      <td>0.000</td>\n      <td>0.000</td>\n      <td>0.001</td>\n      <td>0.000</td>\n      <td>0.000</td>\n      <td>0.000</td>\n    </tr>\n    <tr>\n      <th>259</th>\n      <td>3</td>\n      <td>2012-05-12</td>\n      <td>세탁기</td>\n      <td>0.000</td>\n      <td>0.001</td>\n      <td>0.000</td>\n      <td>0.000</td>\n      <td>0.000</td>\n      <td>0.000</td>\n      <td>0.000</td>\n      <td>...</td>\n      <td>0.012</td>\n      <td>0.042</td>\n      <td>0.042</td>\n      <td>0.042</td>\n      <td>0.004</td>\n      <td>0.000</td>\n      <td>0.000</td>\n      <td>0.000</td>\n      <td>0.000</td>\n      <td>0.001</td>\n    </tr>\n    <tr>\n      <th>265</th>\n      <td>3</td>\n      <td>2012-05-13</td>\n      <td>세탁기</td>\n      <td>0.040</td>\n      <td>0.042</td>\n      <td>0.042</td>\n      <td>0.024</td>\n      <td>0.019</td>\n      <td>0.021</td>\n      <td>0.007</td>\n      <td>...</td>\n      <td>0.026</td>\n      <td>0.039</td>\n      <td>0.000</td>\n      <td>0.000</td>\n      <td>0.000</td>\n      <td>0.000</td>\n      <td>0.001</td>\n      <td>0.004</td>\n      <td>0.003</td>\n      <td>0.003</td>\n    </tr>\n    <tr>\n      <th>271</th>\n      <td>3</td>\n      <td>2012-05-14</td>\n      <td>세탁기</td>\n      <td>0.000</td>\n      <td>0.001</td>\n      <td>0.000</td>\n      <td>0.000</td>\n      <td>0.000</td>\n      <td>0.000</td>\n      <td>0.001</td>\n      <td>...</td>\n      <td>0.000</td>\n      <td>0.000</td>\n      <td>0.001</td>\n      <td>0.000</td>\n      <td>0.000</td>\n      <td>0.000</td>\n      <td>0.000</td>\n      <td>0.001</td>\n      <td>0.000</td>\n      <td>0.000</td>\n    </tr>\n    <tr>\n      <th>277</th>\n      <td>3</td>\n      <td>2012-05-15</td>\n      <td>세탁기</td>\n      <td>0.000</td>\n      <td>0.000</td>\n      <td>0.001</td>\n      <td>0.000</td>\n      <td>0.000</td>\n      <td>0.000</td>\n      <td>0.000</td>\n      <td>...</td>\n      <td>0.001</td>\n      <td>0.000</td>\n      <td>0.000</td>\n      <td>0.000</td>\n      <td>0.000</td>\n      <td>0.001</td>\n      <td>0.000</td>\n      <td>0.000</td>\n      <td>0.000</td>\n      <td>0.000</td>\n    </tr>\n    <tr>\n      <th>283</th>\n      <td>3</td>\n      <td>2012-05-16</td>\n      <td>세탁기</td>\n      <td>0.001</td>\n      <td>0.000</td>\n      <td>0.000</td>\n      <td>0.000</td>\n      <td>0.000</td>\n      <td>0.000</td>\n      <td>0.001</td>\n      <td>...</td>\n      <td>0.000</td>\n      <td>0.001</td>\n      <td>0.000</td>\n      <td>0.000</td>\n      <td>0.000</td>\n      <td>0.000</td>\n      <td>0.000</td>\n      <td>0.001</td>\n      <td>0.000</td>\n      <td>0.000</td>\n    </tr>\n    <tr>\n      <th>289</th>\n      <td>3</td>\n      <td>2012-05-17</td>\n      <td>세탁기</td>\n      <td>0.000</td>\n      <td>0.000</td>\n      <td>0.001</td>\n      <td>0.000</td>\n      <td>0.000</td>\n      <td>0.000</td>\n      <td>0.000</td>\n      <td>...</td>\n      <td>0.007</td>\n      <td>0.008</td>\n      <td>0.019</td>\n      <td>0.011</td>\n      <td>0.001</td>\n      <td>0.000</td>\n      <td>0.000</td>\n      <td>0.000</td>\n      <td>0.000</td>\n      <td>0.001</td>\n    </tr>\n    <tr>\n      <th>295</th>\n      <td>3</td>\n      <td>2012-05-18</td>\n      <td>세탁기</td>\n      <td>0.000</td>\n      <td>0.000</td>\n      <td>0.000</td>\n      <td>0.000</td>\n      <td>0.042</td>\n      <td>0.039</td>\n      <td>0.001</td>\n      <td>...</td>\n      <td>0.007</td>\n      <td>0.008</td>\n      <td>0.006</td>\n      <td>0.007</td>\n      <td>0.004</td>\n      <td>0.005</td>\n      <td>0.006</td>\n      <td>0.004</td>\n      <td>0.003</td>\n      <td>0.003</td>\n    </tr>\n    <tr>\n      <th>301</th>\n      <td>3</td>\n      <td>2012-05-19</td>\n      <td>세탁기</td>\n      <td>0.004</td>\n      <td>0.003</td>\n      <td>0.003</td>\n      <td>0.002</td>\n      <td>0.002</td>\n      <td>0.001</td>\n      <td>0.001</td>\n      <td>...</td>\n      <td>0.000</td>\n      <td>0.008</td>\n      <td>0.006</td>\n      <td>0.007</td>\n      <td>0.004</td>\n      <td>0.005</td>\n      <td>0.000</td>\n      <td>0.000</td>\n      <td>0.003</td>\n      <td>0.003</td>\n    </tr>\n    <tr>\n      <th>307</th>\n      <td>3</td>\n      <td>2012-05-20</td>\n      <td>세탁기</td>\n      <td>0.004</td>\n      <td>0.000</td>\n      <td>0.003</td>\n      <td>0.000</td>\n      <td>0.001</td>\n      <td>0.000</td>\n      <td>0.001</td>\n      <td>...</td>\n      <td>0.010</td>\n      <td>0.039</td>\n      <td>0.001</td>\n      <td>0.000</td>\n      <td>0.001</td>\n      <td>0.000</td>\n      <td>0.000</td>\n      <td>0.000</td>\n      <td>0.000</td>\n      <td>0.001</td>\n    </tr>\n    <tr>\n      <th>313</th>\n      <td>3</td>\n      <td>2012-05-21</td>\n      <td>세탁기</td>\n      <td>0.004</td>\n      <td>0.003</td>\n      <td>0.003</td>\n      <td>0.002</td>\n      <td>0.002</td>\n      <td>0.000</td>\n      <td>0.001</td>\n      <td>...</td>\n      <td>0.007</td>\n      <td>0.008</td>\n      <td>0.006</td>\n      <td>0.000</td>\n      <td>0.004</td>\n      <td>0.005</td>\n      <td>0.006</td>\n      <td>0.004</td>\n      <td>0.003</td>\n      <td>0.003</td>\n    </tr>\n    <tr>\n      <th>319</th>\n      <td>3</td>\n      <td>2012-05-22</td>\n      <td>세탁기</td>\n      <td>0.004</td>\n      <td>0.003</td>\n      <td>0.003</td>\n      <td>0.002</td>\n      <td>0.002</td>\n      <td>0.001</td>\n      <td>0.001</td>\n      <td>...</td>\n      <td>0.000</td>\n      <td>0.000</td>\n      <td>0.001</td>\n      <td>0.000</td>\n      <td>0.000</td>\n      <td>0.000</td>\n      <td>0.000</td>\n      <td>0.001</td>\n      <td>0.000</td>\n      <td>0.000</td>\n    </tr>\n    <tr>\n      <th>325</th>\n      <td>3</td>\n      <td>2012-05-23</td>\n      <td>세탁기</td>\n      <td>0.000</td>\n      <td>0.000</td>\n      <td>0.001</td>\n      <td>0.000</td>\n      <td>0.000</td>\n      <td>0.000</td>\n      <td>0.000</td>\n      <td>...</td>\n      <td>0.007</td>\n      <td>0.000</td>\n      <td>0.001</td>\n      <td>0.000</td>\n      <td>0.000</td>\n      <td>0.000</td>\n      <td>0.006</td>\n      <td>0.001</td>\n      <td>0.000</td>\n      <td>0.000</td>\n    </tr>\n    <tr>\n      <th>331</th>\n      <td>3</td>\n      <td>2012-05-24</td>\n      <td>세탁기</td>\n      <td>0.000</td>\n      <td>0.000</td>\n      <td>0.003</td>\n      <td>0.002</td>\n      <td>0.002</td>\n      <td>0.001</td>\n      <td>0.001</td>\n      <td>...</td>\n      <td>0.024</td>\n      <td>0.011</td>\n      <td>0.001</td>\n      <td>0.000</td>\n      <td>0.000</td>\n      <td>0.005</td>\n      <td>0.036</td>\n      <td>0.000</td>\n      <td>0.013</td>\n      <td>0.003</td>\n    </tr>\n    <tr>\n      <th>337</th>\n      <td>3</td>\n      <td>2012-05-25</td>\n      <td>세탁기</td>\n      <td>0.042</td>\n      <td>0.003</td>\n      <td>0.016</td>\n      <td>0.034</td>\n      <td>0.002</td>\n      <td>0.001</td>\n      <td>0.040</td>\n      <td>...</td>\n      <td>0.007</td>\n      <td>0.008</td>\n      <td>0.000</td>\n      <td>0.007</td>\n      <td>0.000</td>\n      <td>0.005</td>\n      <td>0.001</td>\n      <td>0.000</td>\n      <td>0.000</td>\n      <td>0.000</td>\n    </tr>\n    <tr>\n      <th>343</th>\n      <td>3</td>\n      <td>2012-05-26</td>\n      <td>세탁기</td>\n      <td>0.004</td>\n      <td>0.001</td>\n      <td>0.003</td>\n      <td>0.002</td>\n      <td>0.002</td>\n      <td>0.001</td>\n      <td>0.001</td>\n      <td>...</td>\n      <td>0.000</td>\n      <td>0.000</td>\n      <td>0.000</td>\n      <td>0.001</td>\n      <td>0.000</td>\n      <td>0.000</td>\n      <td>0.000</td>\n      <td>0.000</td>\n      <td>0.001</td>\n      <td>0.000</td>\n    </tr>\n    <tr>\n      <th>349</th>\n      <td>3</td>\n      <td>2012-05-27</td>\n      <td>세탁기</td>\n      <td>0.000</td>\n      <td>0.000</td>\n      <td>0.000</td>\n      <td>0.001</td>\n      <td>0.000</td>\n      <td>0.000</td>\n      <td>0.001</td>\n      <td>...</td>\n      <td>0.007</td>\n      <td>0.008</td>\n      <td>0.006</td>\n      <td>0.007</td>\n      <td>0.004</td>\n      <td>0.005</td>\n      <td>0.006</td>\n      <td>0.004</td>\n      <td>0.003</td>\n      <td>0.003</td>\n    </tr>\n    <tr>\n      <th>355</th>\n      <td>3</td>\n      <td>2012-05-28</td>\n      <td>세탁기</td>\n      <td>0.004</td>\n      <td>0.000</td>\n      <td>0.000</td>\n      <td>0.000</td>\n      <td>0.002</td>\n      <td>0.001</td>\n      <td>0.001</td>\n      <td>...</td>\n      <td>0.000</td>\n      <td>0.000</td>\n      <td>0.000</td>\n      <td>0.001</td>\n      <td>0.019</td>\n      <td>0.005</td>\n      <td>0.006</td>\n      <td>0.004</td>\n      <td>0.003</td>\n      <td>0.003</td>\n    </tr>\n    <tr>\n      <th>361</th>\n      <td>3</td>\n      <td>2012-05-29</td>\n      <td>세탁기</td>\n      <td>0.004</td>\n      <td>0.003</td>\n      <td>0.003</td>\n      <td>0.000</td>\n      <td>0.001</td>\n      <td>0.000</td>\n      <td>0.000</td>\n      <td>...</td>\n      <td>0.000</td>\n      <td>0.008</td>\n      <td>0.000</td>\n      <td>0.000</td>\n      <td>0.000</td>\n      <td>0.000</td>\n      <td>0.001</td>\n      <td>0.000</td>\n      <td>0.000</td>\n      <td>0.000</td>\n    </tr>\n    <tr>\n      <th>367</th>\n      <td>3</td>\n      <td>2012-05-30</td>\n      <td>세탁기</td>\n      <td>0.000</td>\n      <td>0.001</td>\n      <td>0.000</td>\n      <td>0.000</td>\n      <td>0.000</td>\n      <td>0.000</td>\n      <td>0.001</td>\n      <td>...</td>\n      <td>0.007</td>\n      <td>0.008</td>\n      <td>0.006</td>\n      <td>0.007</td>\n      <td>0.004</td>\n      <td>0.005</td>\n      <td>0.006</td>\n      <td>0.004</td>\n      <td>0.003</td>\n      <td>0.003</td>\n    </tr>\n    <tr>\n      <th>373</th>\n      <td>3</td>\n      <td>2012-05-31</td>\n      <td>세탁기</td>\n      <td>0.004</td>\n      <td>0.003</td>\n      <td>0.003</td>\n      <td>0.002</td>\n      <td>0.002</td>\n      <td>0.001</td>\n      <td>0.001</td>\n      <td>...</td>\n      <td>0.000</td>\n      <td>0.008</td>\n      <td>0.006</td>\n      <td>0.000</td>\n      <td>0.000</td>\n      <td>0.000</td>\n      <td>0.000</td>\n      <td>0.001</td>\n      <td>0.000</td>\n      <td>0.000</td>\n    </tr>\n  </tbody>\n</table>\n<p>31 rows × 147 columns</p>\n</div>"
     },
     "metadata": {},
     "execution_count": 121
    }
   ],
   "source": [
    "test_y"
   ]
  },
  {
   "cell_type": "code",
   "execution_count": 120,
   "metadata": {},
   "outputs": [
    {
     "output_type": "execute_result",
     "data": {
      "text/plain": [
       "     H_ID     ST_DATE PointName  H00_1  H00_2  H00_3  H00_4  H00_5  H00_6  \\\n",
       "194     3  2012-05-01      전력총합  0.044  0.043  0.045  0.043  0.045  0.043   \n",
       "200     3  2012-05-02      전력총합  0.044  0.031  0.045  0.043  0.045  0.075   \n",
       "206     3  2012-05-03      전력총합  0.052  0.063  0.073  0.035  0.047  0.053   \n",
       "212     3  2012-05-04      전력총합  0.014  0.010  0.046  0.025  0.053  0.045   \n",
       "218     3  2012-05-05      전력총합  0.021  0.044  0.026  0.027  0.043  0.021   \n",
       "224     3  2012-05-06      전력총합  0.021  0.049  0.018  0.035  0.037  0.020   \n",
       "230     3  2012-05-07      전력총합  0.057  0.044  0.044  0.054  0.068  0.032   \n",
       "236     3  2012-05-08      전력총합  0.032  0.039  0.068  0.041  0.060  0.043   \n",
       "242     3  2012-05-09      전력총합  0.059  0.041  0.051  0.082  0.057  0.060   \n",
       "248     3  2012-05-10      전력총합  0.020  0.068  0.046  0.072  0.053  0.052   \n",
       "254     3  2012-05-11      전력총합  0.072  0.040  0.061  0.054  0.033  0.058   \n",
       "260     3  2012-05-12      전력총합  0.064  0.038  0.043  0.063  0.041  0.036   \n",
       "266     3  2012-05-13      전력총합  0.035  0.050  0.034  0.036  0.042  0.049   \n",
       "272     3  2012-05-14      전력총합  0.044  0.049  0.071  0.039  0.046  0.069   \n",
       "278     3  2012-05-15      전력총합  0.062  0.075  0.051  0.044  0.060  0.066   \n",
       "284     3  2012-05-16      전력총합  0.032  0.058  0.076  0.026  0.060  0.063   \n",
       "290     3  2012-05-17      전력총합  0.061  0.084  0.063  0.065  0.052  0.031   \n",
       "296     3  2012-05-18      전력총합  0.072  0.056  0.052  0.080  0.030  0.004   \n",
       "302     3  2012-05-19      전력총합  0.064  0.035  0.055  0.042  0.046  0.055   \n",
       "308     3  2012-05-20      전력총합  0.037  0.043  0.072  0.051  0.072  0.079   \n",
       "314     3  2012-05-21      전력총합  0.053  0.056  0.044  0.070  0.044  0.023   \n",
       "320     3  2012-05-22      전력총합  0.046  0.061  0.078  0.042  0.057  0.039   \n",
       "326     3  2012-05-23      전력총합  0.045  0.068  0.035  0.062  0.051  0.059   \n",
       "332     3  2012-05-24      전력총합  0.071  0.038  0.067  0.044  0.058  0.041   \n",
       "338     3  2012-05-25      전력총합  0.024  0.035  0.069  0.057  0.045  0.026   \n",
       "344     3  2012-05-26      전력총합  0.036  0.043  0.033  0.043  0.045  0.043   \n",
       "350     3  2012-05-27      전력총합  0.052  0.031  0.058  0.032  0.045  0.044   \n",
       "356     3  2012-05-28      전력총합  0.046  0.041  0.034  0.059  0.030  0.046   \n",
       "362     3  2012-05-29      전력총합  0.041  0.051  0.022  0.080  0.046  0.047   \n",
       "368     3  2012-05-30      전력총합  0.060  0.006  0.042  0.037  0.041  0.058   \n",
       "374     3  2012-05-31      전력총합  0.018  0.063  0.071  0.038  0.033  0.050   \n",
       "\n",
       "     H01_1  ...  H22_3  H22_4  H22_5  H22_6  H23_1  H23_2  H23_3  H23_4  \\\n",
       "194  0.041  ...  0.047  0.027  0.021  0.049  0.074  0.041  0.003  0.035   \n",
       "200  0.062  ...  0.019  0.031  0.078  0.006  0.058  0.064  0.078  0.036   \n",
       "206  0.029  ...  0.039  0.039  0.013  0.029  0.040  0.041  0.042  0.060   \n",
       "212  0.045  ...  0.021  0.040  0.028  0.029  0.044  0.021  0.044  0.024   \n",
       "218  0.045  ...  0.026  0.046  0.016  0.040  0.031  0.025  0.048  0.016   \n",
       "224  0.045  ...  0.076  0.064  0.038  0.061  0.038  0.047  0.053  0.036   \n",
       "230  0.042  ...  0.028  0.047  0.017  0.054  0.072  0.019  0.075  0.053   \n",
       "236  0.050  ...  0.040  0.022  0.036  0.078  0.012  0.068  0.046  0.067   \n",
       "242  0.032  ...  0.047  0.023  0.024  0.014  0.072  0.007  0.011  0.040   \n",
       "248  0.055  ...  0.074  0.018  0.068  0.074  0.040  0.054  0.028  0.075   \n",
       "254  0.046  ...  0.039  0.039  0.020  0.035  0.035  0.043  0.063  0.059   \n",
       "260  0.066  ...  0.024  0.076  0.041  0.040  0.026  0.042  0.034  0.042   \n",
       "266  0.069  ...  0.067  0.031  0.035  0.048  0.012  0.015  0.033  0.024   \n",
       "272  0.045  ...  0.016  0.041  0.016  0.020  0.020  0.065  0.074  0.037   \n",
       "278  0.035  ...  0.005  0.017  0.058  0.036  0.067  0.046  0.064  0.062   \n",
       "284  0.044  ...  0.070  0.052  0.024  0.058  0.074  0.016  0.054  0.038   \n",
       "290  0.049  ...  0.039  0.081  0.006  0.060  0.061  0.075  0.045  0.065   \n",
       "296  0.050  ...  0.066  0.047  0.066  0.052  0.052  0.071  0.043  0.069   \n",
       "302  0.030  ...  0.042  0.017  0.077  0.047  0.046  0.070  0.011  0.071   \n",
       "308  0.006  ...  0.060  0.061  0.066  0.040  0.055  0.078  0.053  0.060   \n",
       "314  0.032  ...  0.039  0.041  0.020  0.048  0.011  0.025  0.078  0.010   \n",
       "320  0.064  ...  0.079  0.037  0.051  0.075  0.069  0.050  0.072  0.046   \n",
       "326  0.057  ...  0.061  0.045  0.031  0.068  0.042  0.061  0.002  0.062   \n",
       "332  0.040  ...  0.017  0.032  0.029  0.040  0.046  0.022  0.024  0.075   \n",
       "338  0.037  ...  0.038  0.038  0.010  0.026  0.037  0.024  0.029  0.053   \n",
       "344  0.026  ...  0.055  0.037  0.044  0.045  0.031  0.059  0.031  0.052   \n",
       "350  0.035  ...  0.039  0.052  0.026  0.056  0.035  0.043  0.045  0.030   \n",
       "356  0.042  ...  0.024  0.004  0.029  0.030  0.008  0.023  0.033  0.032   \n",
       "362  0.076  ...  0.035  0.012  0.061  0.045  0.020  0.076  0.010  0.033   \n",
       "368  0.046  ...  0.036  0.032  0.039  0.069  0.024  0.028  0.043  0.041   \n",
       "374  0.060  ...  0.006  0.027  0.024  0.043  0.025  0.008  0.011  0.040   \n",
       "\n",
       "     H23_5  H23_6  \n",
       "194  0.044  0.044  \n",
       "200  0.067  0.039  \n",
       "206  0.026  0.037  \n",
       "212  0.029  0.043  \n",
       "218  0.038  0.035  \n",
       "224  0.064  0.029  \n",
       "230  0.037  0.044  \n",
       "236  0.031  0.076  \n",
       "242  0.077  0.058  \n",
       "248  0.054  0.030  \n",
       "254  0.036  0.056  \n",
       "260  0.050  0.072  \n",
       "266  0.042  0.001  \n",
       "272  0.067  0.047  \n",
       "278  0.051  0.074  \n",
       "284  0.019  0.037  \n",
       "290  0.066  0.046  \n",
       "296  0.066  0.048  \n",
       "302  0.046  0.034  \n",
       "308  0.040  0.061  \n",
       "314  0.040  0.072  \n",
       "320  0.052  0.056  \n",
       "326  0.041  0.071  \n",
       "332  0.027  0.059  \n",
       "338  0.012  0.016  \n",
       "344  0.036  0.039  \n",
       "350  0.060  0.032  \n",
       "356  0.071  0.078  \n",
       "362  0.040  0.045  \n",
       "368  0.039  0.009  \n",
       "374  0.074  0.014  \n",
       "\n",
       "[31 rows x 147 columns]"
      ],
      "text/html": "<div>\n<style scoped>\n    .dataframe tbody tr th:only-of-type {\n        vertical-align: middle;\n    }\n\n    .dataframe tbody tr th {\n        vertical-align: top;\n    }\n\n    .dataframe thead th {\n        text-align: right;\n    }\n</style>\n<table border=\"1\" class=\"dataframe\">\n  <thead>\n    <tr style=\"text-align: right;\">\n      <th></th>\n      <th>H_ID</th>\n      <th>ST_DATE</th>\n      <th>PointName</th>\n      <th>H00_1</th>\n      <th>H00_2</th>\n      <th>H00_3</th>\n      <th>H00_4</th>\n      <th>H00_5</th>\n      <th>H00_6</th>\n      <th>H01_1</th>\n      <th>...</th>\n      <th>H22_3</th>\n      <th>H22_4</th>\n      <th>H22_5</th>\n      <th>H22_6</th>\n      <th>H23_1</th>\n      <th>H23_2</th>\n      <th>H23_3</th>\n      <th>H23_4</th>\n      <th>H23_5</th>\n      <th>H23_6</th>\n    </tr>\n  </thead>\n  <tbody>\n    <tr>\n      <th>194</th>\n      <td>3</td>\n      <td>2012-05-01</td>\n      <td>전력총합</td>\n      <td>0.044</td>\n      <td>0.043</td>\n      <td>0.045</td>\n      <td>0.043</td>\n      <td>0.045</td>\n      <td>0.043</td>\n      <td>0.041</td>\n      <td>...</td>\n      <td>0.047</td>\n      <td>0.027</td>\n      <td>0.021</td>\n      <td>0.049</td>\n      <td>0.074</td>\n      <td>0.041</td>\n      <td>0.003</td>\n      <td>0.035</td>\n      <td>0.044</td>\n      <td>0.044</td>\n    </tr>\n    <tr>\n      <th>200</th>\n      <td>3</td>\n      <td>2012-05-02</td>\n      <td>전력총합</td>\n      <td>0.044</td>\n      <td>0.031</td>\n      <td>0.045</td>\n      <td>0.043</td>\n      <td>0.045</td>\n      <td>0.075</td>\n      <td>0.062</td>\n      <td>...</td>\n      <td>0.019</td>\n      <td>0.031</td>\n      <td>0.078</td>\n      <td>0.006</td>\n      <td>0.058</td>\n      <td>0.064</td>\n      <td>0.078</td>\n      <td>0.036</td>\n      <td>0.067</td>\n      <td>0.039</td>\n    </tr>\n    <tr>\n      <th>206</th>\n      <td>3</td>\n      <td>2012-05-03</td>\n      <td>전력총합</td>\n      <td>0.052</td>\n      <td>0.063</td>\n      <td>0.073</td>\n      <td>0.035</td>\n      <td>0.047</td>\n      <td>0.053</td>\n      <td>0.029</td>\n      <td>...</td>\n      <td>0.039</td>\n      <td>0.039</td>\n      <td>0.013</td>\n      <td>0.029</td>\n      <td>0.040</td>\n      <td>0.041</td>\n      <td>0.042</td>\n      <td>0.060</td>\n      <td>0.026</td>\n      <td>0.037</td>\n    </tr>\n    <tr>\n      <th>212</th>\n      <td>3</td>\n      <td>2012-05-04</td>\n      <td>전력총합</td>\n      <td>0.014</td>\n      <td>0.010</td>\n      <td>0.046</td>\n      <td>0.025</td>\n      <td>0.053</td>\n      <td>0.045</td>\n      <td>0.045</td>\n      <td>...</td>\n      <td>0.021</td>\n      <td>0.040</td>\n      <td>0.028</td>\n      <td>0.029</td>\n      <td>0.044</td>\n      <td>0.021</td>\n      <td>0.044</td>\n      <td>0.024</td>\n      <td>0.029</td>\n      <td>0.043</td>\n    </tr>\n    <tr>\n      <th>218</th>\n      <td>3</td>\n      <td>2012-05-05</td>\n      <td>전력총합</td>\n      <td>0.021</td>\n      <td>0.044</td>\n      <td>0.026</td>\n      <td>0.027</td>\n      <td>0.043</td>\n      <td>0.021</td>\n      <td>0.045</td>\n      <td>...</td>\n      <td>0.026</td>\n      <td>0.046</td>\n      <td>0.016</td>\n      <td>0.040</td>\n      <td>0.031</td>\n      <td>0.025</td>\n      <td>0.048</td>\n      <td>0.016</td>\n      <td>0.038</td>\n      <td>0.035</td>\n    </tr>\n    <tr>\n      <th>224</th>\n      <td>3</td>\n      <td>2012-05-06</td>\n      <td>전력총합</td>\n      <td>0.021</td>\n      <td>0.049</td>\n      <td>0.018</td>\n      <td>0.035</td>\n      <td>0.037</td>\n      <td>0.020</td>\n      <td>0.045</td>\n      <td>...</td>\n      <td>0.076</td>\n      <td>0.064</td>\n      <td>0.038</td>\n      <td>0.061</td>\n      <td>0.038</td>\n      <td>0.047</td>\n      <td>0.053</td>\n      <td>0.036</td>\n      <td>0.064</td>\n      <td>0.029</td>\n    </tr>\n    <tr>\n      <th>230</th>\n      <td>3</td>\n      <td>2012-05-07</td>\n      <td>전력총합</td>\n      <td>0.057</td>\n      <td>0.044</td>\n      <td>0.044</td>\n      <td>0.054</td>\n      <td>0.068</td>\n      <td>0.032</td>\n      <td>0.042</td>\n      <td>...</td>\n      <td>0.028</td>\n      <td>0.047</td>\n      <td>0.017</td>\n      <td>0.054</td>\n      <td>0.072</td>\n      <td>0.019</td>\n      <td>0.075</td>\n      <td>0.053</td>\n      <td>0.037</td>\n      <td>0.044</td>\n    </tr>\n    <tr>\n      <th>236</th>\n      <td>3</td>\n      <td>2012-05-08</td>\n      <td>전력총합</td>\n      <td>0.032</td>\n      <td>0.039</td>\n      <td>0.068</td>\n      <td>0.041</td>\n      <td>0.060</td>\n      <td>0.043</td>\n      <td>0.050</td>\n      <td>...</td>\n      <td>0.040</td>\n      <td>0.022</td>\n      <td>0.036</td>\n      <td>0.078</td>\n      <td>0.012</td>\n      <td>0.068</td>\n      <td>0.046</td>\n      <td>0.067</td>\n      <td>0.031</td>\n      <td>0.076</td>\n    </tr>\n    <tr>\n      <th>242</th>\n      <td>3</td>\n      <td>2012-05-09</td>\n      <td>전력총합</td>\n      <td>0.059</td>\n      <td>0.041</td>\n      <td>0.051</td>\n      <td>0.082</td>\n      <td>0.057</td>\n      <td>0.060</td>\n      <td>0.032</td>\n      <td>...</td>\n      <td>0.047</td>\n      <td>0.023</td>\n      <td>0.024</td>\n      <td>0.014</td>\n      <td>0.072</td>\n      <td>0.007</td>\n      <td>0.011</td>\n      <td>0.040</td>\n      <td>0.077</td>\n      <td>0.058</td>\n    </tr>\n    <tr>\n      <th>248</th>\n      <td>3</td>\n      <td>2012-05-10</td>\n      <td>전력총합</td>\n      <td>0.020</td>\n      <td>0.068</td>\n      <td>0.046</td>\n      <td>0.072</td>\n      <td>0.053</td>\n      <td>0.052</td>\n      <td>0.055</td>\n      <td>...</td>\n      <td>0.074</td>\n      <td>0.018</td>\n      <td>0.068</td>\n      <td>0.074</td>\n      <td>0.040</td>\n      <td>0.054</td>\n      <td>0.028</td>\n      <td>0.075</td>\n      <td>0.054</td>\n      <td>0.030</td>\n    </tr>\n    <tr>\n      <th>254</th>\n      <td>3</td>\n      <td>2012-05-11</td>\n      <td>전력총합</td>\n      <td>0.072</td>\n      <td>0.040</td>\n      <td>0.061</td>\n      <td>0.054</td>\n      <td>0.033</td>\n      <td>0.058</td>\n      <td>0.046</td>\n      <td>...</td>\n      <td>0.039</td>\n      <td>0.039</td>\n      <td>0.020</td>\n      <td>0.035</td>\n      <td>0.035</td>\n      <td>0.043</td>\n      <td>0.063</td>\n      <td>0.059</td>\n      <td>0.036</td>\n      <td>0.056</td>\n    </tr>\n    <tr>\n      <th>260</th>\n      <td>3</td>\n      <td>2012-05-12</td>\n      <td>전력총합</td>\n      <td>0.064</td>\n      <td>0.038</td>\n      <td>0.043</td>\n      <td>0.063</td>\n      <td>0.041</td>\n      <td>0.036</td>\n      <td>0.066</td>\n      <td>...</td>\n      <td>0.024</td>\n      <td>0.076</td>\n      <td>0.041</td>\n      <td>0.040</td>\n      <td>0.026</td>\n      <td>0.042</td>\n      <td>0.034</td>\n      <td>0.042</td>\n      <td>0.050</td>\n      <td>0.072</td>\n    </tr>\n    <tr>\n      <th>266</th>\n      <td>3</td>\n      <td>2012-05-13</td>\n      <td>전력총합</td>\n      <td>0.035</td>\n      <td>0.050</td>\n      <td>0.034</td>\n      <td>0.036</td>\n      <td>0.042</td>\n      <td>0.049</td>\n      <td>0.069</td>\n      <td>...</td>\n      <td>0.067</td>\n      <td>0.031</td>\n      <td>0.035</td>\n      <td>0.048</td>\n      <td>0.012</td>\n      <td>0.015</td>\n      <td>0.033</td>\n      <td>0.024</td>\n      <td>0.042</td>\n      <td>0.001</td>\n    </tr>\n    <tr>\n      <th>272</th>\n      <td>3</td>\n      <td>2012-05-14</td>\n      <td>전력총합</td>\n      <td>0.044</td>\n      <td>0.049</td>\n      <td>0.071</td>\n      <td>0.039</td>\n      <td>0.046</td>\n      <td>0.069</td>\n      <td>0.045</td>\n      <td>...</td>\n      <td>0.016</td>\n      <td>0.041</td>\n      <td>0.016</td>\n      <td>0.020</td>\n      <td>0.020</td>\n      <td>0.065</td>\n      <td>0.074</td>\n      <td>0.037</td>\n      <td>0.067</td>\n      <td>0.047</td>\n    </tr>\n    <tr>\n      <th>278</th>\n      <td>3</td>\n      <td>2012-05-15</td>\n      <td>전력총합</td>\n      <td>0.062</td>\n      <td>0.075</td>\n      <td>0.051</td>\n      <td>0.044</td>\n      <td>0.060</td>\n      <td>0.066</td>\n      <td>0.035</td>\n      <td>...</td>\n      <td>0.005</td>\n      <td>0.017</td>\n      <td>0.058</td>\n      <td>0.036</td>\n      <td>0.067</td>\n      <td>0.046</td>\n      <td>0.064</td>\n      <td>0.062</td>\n      <td>0.051</td>\n      <td>0.074</td>\n    </tr>\n    <tr>\n      <th>284</th>\n      <td>3</td>\n      <td>2012-05-16</td>\n      <td>전력총합</td>\n      <td>0.032</td>\n      <td>0.058</td>\n      <td>0.076</td>\n      <td>0.026</td>\n      <td>0.060</td>\n      <td>0.063</td>\n      <td>0.044</td>\n      <td>...</td>\n      <td>0.070</td>\n      <td>0.052</td>\n      <td>0.024</td>\n      <td>0.058</td>\n      <td>0.074</td>\n      <td>0.016</td>\n      <td>0.054</td>\n      <td>0.038</td>\n      <td>0.019</td>\n      <td>0.037</td>\n    </tr>\n    <tr>\n      <th>290</th>\n      <td>3</td>\n      <td>2012-05-17</td>\n      <td>전력총합</td>\n      <td>0.061</td>\n      <td>0.084</td>\n      <td>0.063</td>\n      <td>0.065</td>\n      <td>0.052</td>\n      <td>0.031</td>\n      <td>0.049</td>\n      <td>...</td>\n      <td>0.039</td>\n      <td>0.081</td>\n      <td>0.006</td>\n      <td>0.060</td>\n      <td>0.061</td>\n      <td>0.075</td>\n      <td>0.045</td>\n      <td>0.065</td>\n      <td>0.066</td>\n      <td>0.046</td>\n    </tr>\n    <tr>\n      <th>296</th>\n      <td>3</td>\n      <td>2012-05-18</td>\n      <td>전력총합</td>\n      <td>0.072</td>\n      <td>0.056</td>\n      <td>0.052</td>\n      <td>0.080</td>\n      <td>0.030</td>\n      <td>0.004</td>\n      <td>0.050</td>\n      <td>...</td>\n      <td>0.066</td>\n      <td>0.047</td>\n      <td>0.066</td>\n      <td>0.052</td>\n      <td>0.052</td>\n      <td>0.071</td>\n      <td>0.043</td>\n      <td>0.069</td>\n      <td>0.066</td>\n      <td>0.048</td>\n    </tr>\n    <tr>\n      <th>302</th>\n      <td>3</td>\n      <td>2012-05-19</td>\n      <td>전력총합</td>\n      <td>0.064</td>\n      <td>0.035</td>\n      <td>0.055</td>\n      <td>0.042</td>\n      <td>0.046</td>\n      <td>0.055</td>\n      <td>0.030</td>\n      <td>...</td>\n      <td>0.042</td>\n      <td>0.017</td>\n      <td>0.077</td>\n      <td>0.047</td>\n      <td>0.046</td>\n      <td>0.070</td>\n      <td>0.011</td>\n      <td>0.071</td>\n      <td>0.046</td>\n      <td>0.034</td>\n    </tr>\n    <tr>\n      <th>308</th>\n      <td>3</td>\n      <td>2012-05-20</td>\n      <td>전력총합</td>\n      <td>0.037</td>\n      <td>0.043</td>\n      <td>0.072</td>\n      <td>0.051</td>\n      <td>0.072</td>\n      <td>0.079</td>\n      <td>0.006</td>\n      <td>...</td>\n      <td>0.060</td>\n      <td>0.061</td>\n      <td>0.066</td>\n      <td>0.040</td>\n      <td>0.055</td>\n      <td>0.078</td>\n      <td>0.053</td>\n      <td>0.060</td>\n      <td>0.040</td>\n      <td>0.061</td>\n    </tr>\n    <tr>\n      <th>314</th>\n      <td>3</td>\n      <td>2012-05-21</td>\n      <td>전력총합</td>\n      <td>0.053</td>\n      <td>0.056</td>\n      <td>0.044</td>\n      <td>0.070</td>\n      <td>0.044</td>\n      <td>0.023</td>\n      <td>0.032</td>\n      <td>...</td>\n      <td>0.039</td>\n      <td>0.041</td>\n      <td>0.020</td>\n      <td>0.048</td>\n      <td>0.011</td>\n      <td>0.025</td>\n      <td>0.078</td>\n      <td>0.010</td>\n      <td>0.040</td>\n      <td>0.072</td>\n    </tr>\n    <tr>\n      <th>320</th>\n      <td>3</td>\n      <td>2012-05-22</td>\n      <td>전력총합</td>\n      <td>0.046</td>\n      <td>0.061</td>\n      <td>0.078</td>\n      <td>0.042</td>\n      <td>0.057</td>\n      <td>0.039</td>\n      <td>0.064</td>\n      <td>...</td>\n      <td>0.079</td>\n      <td>0.037</td>\n      <td>0.051</td>\n      <td>0.075</td>\n      <td>0.069</td>\n      <td>0.050</td>\n      <td>0.072</td>\n      <td>0.046</td>\n      <td>0.052</td>\n      <td>0.056</td>\n    </tr>\n    <tr>\n      <th>326</th>\n      <td>3</td>\n      <td>2012-05-23</td>\n      <td>전력총합</td>\n      <td>0.045</td>\n      <td>0.068</td>\n      <td>0.035</td>\n      <td>0.062</td>\n      <td>0.051</td>\n      <td>0.059</td>\n      <td>0.057</td>\n      <td>...</td>\n      <td>0.061</td>\n      <td>0.045</td>\n      <td>0.031</td>\n      <td>0.068</td>\n      <td>0.042</td>\n      <td>0.061</td>\n      <td>0.002</td>\n      <td>0.062</td>\n      <td>0.041</td>\n      <td>0.071</td>\n    </tr>\n    <tr>\n      <th>332</th>\n      <td>3</td>\n      <td>2012-05-24</td>\n      <td>전력총합</td>\n      <td>0.071</td>\n      <td>0.038</td>\n      <td>0.067</td>\n      <td>0.044</td>\n      <td>0.058</td>\n      <td>0.041</td>\n      <td>0.040</td>\n      <td>...</td>\n      <td>0.017</td>\n      <td>0.032</td>\n      <td>0.029</td>\n      <td>0.040</td>\n      <td>0.046</td>\n      <td>0.022</td>\n      <td>0.024</td>\n      <td>0.075</td>\n      <td>0.027</td>\n      <td>0.059</td>\n    </tr>\n    <tr>\n      <th>338</th>\n      <td>3</td>\n      <td>2012-05-25</td>\n      <td>전력총합</td>\n      <td>0.024</td>\n      <td>0.035</td>\n      <td>0.069</td>\n      <td>0.057</td>\n      <td>0.045</td>\n      <td>0.026</td>\n      <td>0.037</td>\n      <td>...</td>\n      <td>0.038</td>\n      <td>0.038</td>\n      <td>0.010</td>\n      <td>0.026</td>\n      <td>0.037</td>\n      <td>0.024</td>\n      <td>0.029</td>\n      <td>0.053</td>\n      <td>0.012</td>\n      <td>0.016</td>\n    </tr>\n    <tr>\n      <th>344</th>\n      <td>3</td>\n      <td>2012-05-26</td>\n      <td>전력총합</td>\n      <td>0.036</td>\n      <td>0.043</td>\n      <td>0.033</td>\n      <td>0.043</td>\n      <td>0.045</td>\n      <td>0.043</td>\n      <td>0.026</td>\n      <td>...</td>\n      <td>0.055</td>\n      <td>0.037</td>\n      <td>0.044</td>\n      <td>0.045</td>\n      <td>0.031</td>\n      <td>0.059</td>\n      <td>0.031</td>\n      <td>0.052</td>\n      <td>0.036</td>\n      <td>0.039</td>\n    </tr>\n    <tr>\n      <th>350</th>\n      <td>3</td>\n      <td>2012-05-27</td>\n      <td>전력총합</td>\n      <td>0.052</td>\n      <td>0.031</td>\n      <td>0.058</td>\n      <td>0.032</td>\n      <td>0.045</td>\n      <td>0.044</td>\n      <td>0.035</td>\n      <td>...</td>\n      <td>0.039</td>\n      <td>0.052</td>\n      <td>0.026</td>\n      <td>0.056</td>\n      <td>0.035</td>\n      <td>0.043</td>\n      <td>0.045</td>\n      <td>0.030</td>\n      <td>0.060</td>\n      <td>0.032</td>\n    </tr>\n    <tr>\n      <th>356</th>\n      <td>3</td>\n      <td>2012-05-28</td>\n      <td>전력총합</td>\n      <td>0.046</td>\n      <td>0.041</td>\n      <td>0.034</td>\n      <td>0.059</td>\n      <td>0.030</td>\n      <td>0.046</td>\n      <td>0.042</td>\n      <td>...</td>\n      <td>0.024</td>\n      <td>0.004</td>\n      <td>0.029</td>\n      <td>0.030</td>\n      <td>0.008</td>\n      <td>0.023</td>\n      <td>0.033</td>\n      <td>0.032</td>\n      <td>0.071</td>\n      <td>0.078</td>\n    </tr>\n    <tr>\n      <th>362</th>\n      <td>3</td>\n      <td>2012-05-29</td>\n      <td>전력총합</td>\n      <td>0.041</td>\n      <td>0.051</td>\n      <td>0.022</td>\n      <td>0.080</td>\n      <td>0.046</td>\n      <td>0.047</td>\n      <td>0.076</td>\n      <td>...</td>\n      <td>0.035</td>\n      <td>0.012</td>\n      <td>0.061</td>\n      <td>0.045</td>\n      <td>0.020</td>\n      <td>0.076</td>\n      <td>0.010</td>\n      <td>0.033</td>\n      <td>0.040</td>\n      <td>0.045</td>\n    </tr>\n    <tr>\n      <th>368</th>\n      <td>3</td>\n      <td>2012-05-30</td>\n      <td>전력총합</td>\n      <td>0.060</td>\n      <td>0.006</td>\n      <td>0.042</td>\n      <td>0.037</td>\n      <td>0.041</td>\n      <td>0.058</td>\n      <td>0.046</td>\n      <td>...</td>\n      <td>0.036</td>\n      <td>0.032</td>\n      <td>0.039</td>\n      <td>0.069</td>\n      <td>0.024</td>\n      <td>0.028</td>\n      <td>0.043</td>\n      <td>0.041</td>\n      <td>0.039</td>\n      <td>0.009</td>\n    </tr>\n    <tr>\n      <th>374</th>\n      <td>3</td>\n      <td>2012-05-31</td>\n      <td>전력총합</td>\n      <td>0.018</td>\n      <td>0.063</td>\n      <td>0.071</td>\n      <td>0.038</td>\n      <td>0.033</td>\n      <td>0.050</td>\n      <td>0.060</td>\n      <td>...</td>\n      <td>0.006</td>\n      <td>0.027</td>\n      <td>0.024</td>\n      <td>0.043</td>\n      <td>0.025</td>\n      <td>0.008</td>\n      <td>0.011</td>\n      <td>0.040</td>\n      <td>0.074</td>\n      <td>0.014</td>\n    </tr>\n  </tbody>\n</table>\n<p>31 rows × 147 columns</p>\n</div>"
     },
     "metadata": {},
     "execution_count": 120
    }
   ],
   "source": [
    "test_x"
   ]
  },
  {
   "cell_type": "code",
   "execution_count": 122,
   "metadata": {},
   "outputs": [],
   "source": [
    "test_merge = pd.merge(test_x, test_y, on = 'ST_DATE')"
   ]
  },
  {
   "cell_type": "code",
   "execution_count": 123,
   "metadata": {},
   "outputs": [
    {
     "output_type": "execute_result",
     "data": {
      "text/plain": [
       "    H_ID_x     ST_DATE PointName_x  H00_1_x  H00_2_x  H00_3_x  H00_4_x  \\\n",
       "0        3  2012-05-01        전력총합    0.044    0.043    0.045    0.043   \n",
       "1        3  2012-05-02        전력총합    0.044    0.031    0.045    0.043   \n",
       "2        3  2012-05-03        전력총합    0.052    0.063    0.073    0.035   \n",
       "3        3  2012-05-04        전력총합    0.014    0.010    0.046    0.025   \n",
       "4        3  2012-05-05        전력총합    0.021    0.044    0.026    0.027   \n",
       "5        3  2012-05-06        전력총합    0.021    0.049    0.018    0.035   \n",
       "6        3  2012-05-07        전력총합    0.057    0.044    0.044    0.054   \n",
       "7        3  2012-05-08        전력총합    0.032    0.039    0.068    0.041   \n",
       "8        3  2012-05-09        전력총합    0.059    0.041    0.051    0.082   \n",
       "9        3  2012-05-10        전력총합    0.020    0.068    0.046    0.072   \n",
       "10       3  2012-05-11        전력총합    0.072    0.040    0.061    0.054   \n",
       "11       3  2012-05-12        전력총합    0.064    0.038    0.043    0.063   \n",
       "12       3  2012-05-13        전력총합    0.035    0.050    0.034    0.036   \n",
       "13       3  2012-05-14        전력총합    0.044    0.049    0.071    0.039   \n",
       "14       3  2012-05-15        전력총합    0.062    0.075    0.051    0.044   \n",
       "15       3  2012-05-16        전력총합    0.032    0.058    0.076    0.026   \n",
       "16       3  2012-05-17        전력총합    0.061    0.084    0.063    0.065   \n",
       "17       3  2012-05-18        전력총합    0.072    0.056    0.052    0.080   \n",
       "18       3  2012-05-19        전력총합    0.064    0.035    0.055    0.042   \n",
       "19       3  2012-05-20        전력총합    0.037    0.043    0.072    0.051   \n",
       "20       3  2012-05-21        전력총합    0.053    0.056    0.044    0.070   \n",
       "21       3  2012-05-22        전력총합    0.046    0.061    0.078    0.042   \n",
       "22       3  2012-05-23        전력총합    0.045    0.068    0.035    0.062   \n",
       "23       3  2012-05-24        전력총합    0.071    0.038    0.067    0.044   \n",
       "24       3  2012-05-25        전력총합    0.024    0.035    0.069    0.057   \n",
       "25       3  2012-05-26        전력총합    0.036    0.043    0.033    0.043   \n",
       "26       3  2012-05-27        전력총합    0.052    0.031    0.058    0.032   \n",
       "27       3  2012-05-28        전력총합    0.046    0.041    0.034    0.059   \n",
       "28       3  2012-05-29        전력총합    0.041    0.051    0.022    0.080   \n",
       "29       3  2012-05-30        전력총합    0.060    0.006    0.042    0.037   \n",
       "30       3  2012-05-31        전력총합    0.018    0.063    0.071    0.038   \n",
       "\n",
       "    H00_5_x  H00_6_x  H01_1_x  ...  H22_3_y  H22_4_y  H22_5_y  H22_6_y  \\\n",
       "0     0.045    0.043    0.041  ...    0.007    0.000    0.001    0.000   \n",
       "1     0.045    0.075    0.062  ...    0.018    0.011    0.009    0.011   \n",
       "2     0.047    0.053    0.029  ...    0.007    0.008    0.006    0.042   \n",
       "3     0.053    0.045    0.045  ...    0.007    0.008    0.006    0.007   \n",
       "4     0.043    0.021    0.045  ...    0.000    0.000    0.000    0.000   \n",
       "5     0.037    0.020    0.045  ...    0.007    0.000    0.001    0.000   \n",
       "6     0.068    0.032    0.042  ...    0.007    0.008    0.006    0.007   \n",
       "7     0.060    0.043    0.050  ...    0.007    0.008    0.000    0.007   \n",
       "8     0.057    0.060    0.032  ...    0.000    0.000    0.000    0.001   \n",
       "9     0.053    0.052    0.055  ...    0.001    0.000    0.000    0.000   \n",
       "10    0.033    0.058    0.046  ...    0.000    0.001    0.000    0.000   \n",
       "11    0.041    0.036    0.066  ...    0.012    0.042    0.042    0.042   \n",
       "12    0.042    0.049    0.069  ...    0.026    0.039    0.000    0.000   \n",
       "13    0.046    0.069    0.045  ...    0.000    0.000    0.001    0.000   \n",
       "14    0.060    0.066    0.035  ...    0.001    0.000    0.000    0.000   \n",
       "15    0.060    0.063    0.044  ...    0.000    0.001    0.000    0.000   \n",
       "16    0.052    0.031    0.049  ...    0.007    0.008    0.019    0.011   \n",
       "17    0.030    0.004    0.050  ...    0.007    0.008    0.006    0.007   \n",
       "18    0.046    0.055    0.030  ...    0.000    0.008    0.006    0.007   \n",
       "19    0.072    0.079    0.006  ...    0.010    0.039    0.001    0.000   \n",
       "20    0.044    0.023    0.032  ...    0.007    0.008    0.006    0.000   \n",
       "21    0.057    0.039    0.064  ...    0.000    0.000    0.001    0.000   \n",
       "22    0.051    0.059    0.057  ...    0.007    0.000    0.001    0.000   \n",
       "23    0.058    0.041    0.040  ...    0.024    0.011    0.001    0.000   \n",
       "24    0.045    0.026    0.037  ...    0.007    0.008    0.000    0.007   \n",
       "25    0.045    0.043    0.026  ...    0.000    0.000    0.000    0.001   \n",
       "26    0.045    0.044    0.035  ...    0.007    0.008    0.006    0.007   \n",
       "27    0.030    0.046    0.042  ...    0.000    0.000    0.000    0.001   \n",
       "28    0.046    0.047    0.076  ...    0.000    0.008    0.000    0.000   \n",
       "29    0.041    0.058    0.046  ...    0.007    0.008    0.006    0.007   \n",
       "30    0.033    0.050    0.060  ...    0.000    0.008    0.006    0.000   \n",
       "\n",
       "    H23_1_y  H23_2_y  H23_3_y  H23_4_y  H23_5_y  H23_6_y  \n",
       "0     0.000    0.000    0.006    0.001    0.000    0.003  \n",
       "1     0.000    0.001    0.000    0.000    0.000    0.000  \n",
       "2     0.004    0.005    0.006    0.004    0.003    0.000  \n",
       "3     0.000    0.005    0.006    0.004    0.003    0.003  \n",
       "4     0.001    0.000    0.000    0.000    0.000    0.001  \n",
       "5     0.000    0.000    0.000    0.001    0.000    0.000  \n",
       "6     0.000    0.000    0.000    0.001    0.003    0.000  \n",
       "7     0.004    0.005    0.006    0.004    0.003    0.003  \n",
       "8     0.000    0.000    0.000    0.000    0.001    0.000  \n",
       "9     0.000    0.001    0.000    0.000    0.000    0.000  \n",
       "10    0.000    0.000    0.001    0.000    0.000    0.000  \n",
       "11    0.004    0.000    0.000    0.000    0.000    0.001  \n",
       "12    0.000    0.000    0.001    0.004    0.003    0.003  \n",
       "13    0.000    0.000    0.000    0.001    0.000    0.000  \n",
       "14    0.000    0.001    0.000    0.000    0.000    0.000  \n",
       "15    0.000    0.000    0.000    0.001    0.000    0.000  \n",
       "16    0.001    0.000    0.000    0.000    0.000    0.001  \n",
       "17    0.004    0.005    0.006    0.004    0.003    0.003  \n",
       "18    0.004    0.005    0.000    0.000    0.003    0.003  \n",
       "19    0.001    0.000    0.000    0.000    0.000    0.001  \n",
       "20    0.004    0.005    0.006    0.004    0.003    0.003  \n",
       "21    0.000    0.000    0.000    0.001    0.000    0.000  \n",
       "22    0.000    0.000    0.006    0.001    0.000    0.000  \n",
       "23    0.000    0.005    0.036    0.000    0.013    0.003  \n",
       "24    0.000    0.005    0.001    0.000    0.000    0.000  \n",
       "25    0.000    0.000    0.000    0.000    0.001    0.000  \n",
       "26    0.004    0.005    0.006    0.004    0.003    0.003  \n",
       "27    0.019    0.005    0.006    0.004    0.003    0.003  \n",
       "28    0.000    0.000    0.001    0.000    0.000    0.000  \n",
       "29    0.004    0.005    0.006    0.004    0.003    0.003  \n",
       "30    0.000    0.000    0.000    0.001    0.000    0.000  \n",
       "\n",
       "[31 rows x 293 columns]"
      ],
      "text/html": "<div>\n<style scoped>\n    .dataframe tbody tr th:only-of-type {\n        vertical-align: middle;\n    }\n\n    .dataframe tbody tr th {\n        vertical-align: top;\n    }\n\n    .dataframe thead th {\n        text-align: right;\n    }\n</style>\n<table border=\"1\" class=\"dataframe\">\n  <thead>\n    <tr style=\"text-align: right;\">\n      <th></th>\n      <th>H_ID_x</th>\n      <th>ST_DATE</th>\n      <th>PointName_x</th>\n      <th>H00_1_x</th>\n      <th>H00_2_x</th>\n      <th>H00_3_x</th>\n      <th>H00_4_x</th>\n      <th>H00_5_x</th>\n      <th>H00_6_x</th>\n      <th>H01_1_x</th>\n      <th>...</th>\n      <th>H22_3_y</th>\n      <th>H22_4_y</th>\n      <th>H22_5_y</th>\n      <th>H22_6_y</th>\n      <th>H23_1_y</th>\n      <th>H23_2_y</th>\n      <th>H23_3_y</th>\n      <th>H23_4_y</th>\n      <th>H23_5_y</th>\n      <th>H23_6_y</th>\n    </tr>\n  </thead>\n  <tbody>\n    <tr>\n      <th>0</th>\n      <td>3</td>\n      <td>2012-05-01</td>\n      <td>전력총합</td>\n      <td>0.044</td>\n      <td>0.043</td>\n      <td>0.045</td>\n      <td>0.043</td>\n      <td>0.045</td>\n      <td>0.043</td>\n      <td>0.041</td>\n      <td>...</td>\n      <td>0.007</td>\n      <td>0.000</td>\n      <td>0.001</td>\n      <td>0.000</td>\n      <td>0.000</td>\n      <td>0.000</td>\n      <td>0.006</td>\n      <td>0.001</td>\n      <td>0.000</td>\n      <td>0.003</td>\n    </tr>\n    <tr>\n      <th>1</th>\n      <td>3</td>\n      <td>2012-05-02</td>\n      <td>전력총합</td>\n      <td>0.044</td>\n      <td>0.031</td>\n      <td>0.045</td>\n      <td>0.043</td>\n      <td>0.045</td>\n      <td>0.075</td>\n      <td>0.062</td>\n      <td>...</td>\n      <td>0.018</td>\n      <td>0.011</td>\n      <td>0.009</td>\n      <td>0.011</td>\n      <td>0.000</td>\n      <td>0.001</td>\n      <td>0.000</td>\n      <td>0.000</td>\n      <td>0.000</td>\n      <td>0.000</td>\n    </tr>\n    <tr>\n      <th>2</th>\n      <td>3</td>\n      <td>2012-05-03</td>\n      <td>전력총합</td>\n      <td>0.052</td>\n      <td>0.063</td>\n      <td>0.073</td>\n      <td>0.035</td>\n      <td>0.047</td>\n      <td>0.053</td>\n      <td>0.029</td>\n      <td>...</td>\n      <td>0.007</td>\n      <td>0.008</td>\n      <td>0.006</td>\n      <td>0.042</td>\n      <td>0.004</td>\n      <td>0.005</td>\n      <td>0.006</td>\n      <td>0.004</td>\n      <td>0.003</td>\n      <td>0.000</td>\n    </tr>\n    <tr>\n      <th>3</th>\n      <td>3</td>\n      <td>2012-05-04</td>\n      <td>전력총합</td>\n      <td>0.014</td>\n      <td>0.010</td>\n      <td>0.046</td>\n      <td>0.025</td>\n      <td>0.053</td>\n      <td>0.045</td>\n      <td>0.045</td>\n      <td>...</td>\n      <td>0.007</td>\n      <td>0.008</td>\n      <td>0.006</td>\n      <td>0.007</td>\n      <td>0.000</td>\n      <td>0.005</td>\n      <td>0.006</td>\n      <td>0.004</td>\n      <td>0.003</td>\n      <td>0.003</td>\n    </tr>\n    <tr>\n      <th>4</th>\n      <td>3</td>\n      <td>2012-05-05</td>\n      <td>전력총합</td>\n      <td>0.021</td>\n      <td>0.044</td>\n      <td>0.026</td>\n      <td>0.027</td>\n      <td>0.043</td>\n      <td>0.021</td>\n      <td>0.045</td>\n      <td>...</td>\n      <td>0.000</td>\n      <td>0.000</td>\n      <td>0.000</td>\n      <td>0.000</td>\n      <td>0.001</td>\n      <td>0.000</td>\n      <td>0.000</td>\n      <td>0.000</td>\n      <td>0.000</td>\n      <td>0.001</td>\n    </tr>\n    <tr>\n      <th>5</th>\n      <td>3</td>\n      <td>2012-05-06</td>\n      <td>전력총합</td>\n      <td>0.021</td>\n      <td>0.049</td>\n      <td>0.018</td>\n      <td>0.035</td>\n      <td>0.037</td>\n      <td>0.020</td>\n      <td>0.045</td>\n      <td>...</td>\n      <td>0.007</td>\n      <td>0.000</td>\n      <td>0.001</td>\n      <td>0.000</td>\n      <td>0.000</td>\n      <td>0.000</td>\n      <td>0.000</td>\n      <td>0.001</td>\n      <td>0.000</td>\n      <td>0.000</td>\n    </tr>\n    <tr>\n      <th>6</th>\n      <td>3</td>\n      <td>2012-05-07</td>\n      <td>전력총합</td>\n      <td>0.057</td>\n      <td>0.044</td>\n      <td>0.044</td>\n      <td>0.054</td>\n      <td>0.068</td>\n      <td>0.032</td>\n      <td>0.042</td>\n      <td>...</td>\n      <td>0.007</td>\n      <td>0.008</td>\n      <td>0.006</td>\n      <td>0.007</td>\n      <td>0.000</td>\n      <td>0.000</td>\n      <td>0.000</td>\n      <td>0.001</td>\n      <td>0.003</td>\n      <td>0.000</td>\n    </tr>\n    <tr>\n      <th>7</th>\n      <td>3</td>\n      <td>2012-05-08</td>\n      <td>전력총합</td>\n      <td>0.032</td>\n      <td>0.039</td>\n      <td>0.068</td>\n      <td>0.041</td>\n      <td>0.060</td>\n      <td>0.043</td>\n      <td>0.050</td>\n      <td>...</td>\n      <td>0.007</td>\n      <td>0.008</td>\n      <td>0.000</td>\n      <td>0.007</td>\n      <td>0.004</td>\n      <td>0.005</td>\n      <td>0.006</td>\n      <td>0.004</td>\n      <td>0.003</td>\n      <td>0.003</td>\n    </tr>\n    <tr>\n      <th>8</th>\n      <td>3</td>\n      <td>2012-05-09</td>\n      <td>전력총합</td>\n      <td>0.059</td>\n      <td>0.041</td>\n      <td>0.051</td>\n      <td>0.082</td>\n      <td>0.057</td>\n      <td>0.060</td>\n      <td>0.032</td>\n      <td>...</td>\n      <td>0.000</td>\n      <td>0.000</td>\n      <td>0.000</td>\n      <td>0.001</td>\n      <td>0.000</td>\n      <td>0.000</td>\n      <td>0.000</td>\n      <td>0.000</td>\n      <td>0.001</td>\n      <td>0.000</td>\n    </tr>\n    <tr>\n      <th>9</th>\n      <td>3</td>\n      <td>2012-05-10</td>\n      <td>전력총합</td>\n      <td>0.020</td>\n      <td>0.068</td>\n      <td>0.046</td>\n      <td>0.072</td>\n      <td>0.053</td>\n      <td>0.052</td>\n      <td>0.055</td>\n      <td>...</td>\n      <td>0.001</td>\n      <td>0.000</td>\n      <td>0.000</td>\n      <td>0.000</td>\n      <td>0.000</td>\n      <td>0.001</td>\n      <td>0.000</td>\n      <td>0.000</td>\n      <td>0.000</td>\n      <td>0.000</td>\n    </tr>\n    <tr>\n      <th>10</th>\n      <td>3</td>\n      <td>2012-05-11</td>\n      <td>전력총합</td>\n      <td>0.072</td>\n      <td>0.040</td>\n      <td>0.061</td>\n      <td>0.054</td>\n      <td>0.033</td>\n      <td>0.058</td>\n      <td>0.046</td>\n      <td>...</td>\n      <td>0.000</td>\n      <td>0.001</td>\n      <td>0.000</td>\n      <td>0.000</td>\n      <td>0.000</td>\n      <td>0.000</td>\n      <td>0.001</td>\n      <td>0.000</td>\n      <td>0.000</td>\n      <td>0.000</td>\n    </tr>\n    <tr>\n      <th>11</th>\n      <td>3</td>\n      <td>2012-05-12</td>\n      <td>전력총합</td>\n      <td>0.064</td>\n      <td>0.038</td>\n      <td>0.043</td>\n      <td>0.063</td>\n      <td>0.041</td>\n      <td>0.036</td>\n      <td>0.066</td>\n      <td>...</td>\n      <td>0.012</td>\n      <td>0.042</td>\n      <td>0.042</td>\n      <td>0.042</td>\n      <td>0.004</td>\n      <td>0.000</td>\n      <td>0.000</td>\n      <td>0.000</td>\n      <td>0.000</td>\n      <td>0.001</td>\n    </tr>\n    <tr>\n      <th>12</th>\n      <td>3</td>\n      <td>2012-05-13</td>\n      <td>전력총합</td>\n      <td>0.035</td>\n      <td>0.050</td>\n      <td>0.034</td>\n      <td>0.036</td>\n      <td>0.042</td>\n      <td>0.049</td>\n      <td>0.069</td>\n      <td>...</td>\n      <td>0.026</td>\n      <td>0.039</td>\n      <td>0.000</td>\n      <td>0.000</td>\n      <td>0.000</td>\n      <td>0.000</td>\n      <td>0.001</td>\n      <td>0.004</td>\n      <td>0.003</td>\n      <td>0.003</td>\n    </tr>\n    <tr>\n      <th>13</th>\n      <td>3</td>\n      <td>2012-05-14</td>\n      <td>전력총합</td>\n      <td>0.044</td>\n      <td>0.049</td>\n      <td>0.071</td>\n      <td>0.039</td>\n      <td>0.046</td>\n      <td>0.069</td>\n      <td>0.045</td>\n      <td>...</td>\n      <td>0.000</td>\n      <td>0.000</td>\n      <td>0.001</td>\n      <td>0.000</td>\n      <td>0.000</td>\n      <td>0.000</td>\n      <td>0.000</td>\n      <td>0.001</td>\n      <td>0.000</td>\n      <td>0.000</td>\n    </tr>\n    <tr>\n      <th>14</th>\n      <td>3</td>\n      <td>2012-05-15</td>\n      <td>전력총합</td>\n      <td>0.062</td>\n      <td>0.075</td>\n      <td>0.051</td>\n      <td>0.044</td>\n      <td>0.060</td>\n      <td>0.066</td>\n      <td>0.035</td>\n      <td>...</td>\n      <td>0.001</td>\n      <td>0.000</td>\n      <td>0.000</td>\n      <td>0.000</td>\n      <td>0.000</td>\n      <td>0.001</td>\n      <td>0.000</td>\n      <td>0.000</td>\n      <td>0.000</td>\n      <td>0.000</td>\n    </tr>\n    <tr>\n      <th>15</th>\n      <td>3</td>\n      <td>2012-05-16</td>\n      <td>전력총합</td>\n      <td>0.032</td>\n      <td>0.058</td>\n      <td>0.076</td>\n      <td>0.026</td>\n      <td>0.060</td>\n      <td>0.063</td>\n      <td>0.044</td>\n      <td>...</td>\n      <td>0.000</td>\n      <td>0.001</td>\n      <td>0.000</td>\n      <td>0.000</td>\n      <td>0.000</td>\n      <td>0.000</td>\n      <td>0.000</td>\n      <td>0.001</td>\n      <td>0.000</td>\n      <td>0.000</td>\n    </tr>\n    <tr>\n      <th>16</th>\n      <td>3</td>\n      <td>2012-05-17</td>\n      <td>전력총합</td>\n      <td>0.061</td>\n      <td>0.084</td>\n      <td>0.063</td>\n      <td>0.065</td>\n      <td>0.052</td>\n      <td>0.031</td>\n      <td>0.049</td>\n      <td>...</td>\n      <td>0.007</td>\n      <td>0.008</td>\n      <td>0.019</td>\n      <td>0.011</td>\n      <td>0.001</td>\n      <td>0.000</td>\n      <td>0.000</td>\n      <td>0.000</td>\n      <td>0.000</td>\n      <td>0.001</td>\n    </tr>\n    <tr>\n      <th>17</th>\n      <td>3</td>\n      <td>2012-05-18</td>\n      <td>전력총합</td>\n      <td>0.072</td>\n      <td>0.056</td>\n      <td>0.052</td>\n      <td>0.080</td>\n      <td>0.030</td>\n      <td>0.004</td>\n      <td>0.050</td>\n      <td>...</td>\n      <td>0.007</td>\n      <td>0.008</td>\n      <td>0.006</td>\n      <td>0.007</td>\n      <td>0.004</td>\n      <td>0.005</td>\n      <td>0.006</td>\n      <td>0.004</td>\n      <td>0.003</td>\n      <td>0.003</td>\n    </tr>\n    <tr>\n      <th>18</th>\n      <td>3</td>\n      <td>2012-05-19</td>\n      <td>전력총합</td>\n      <td>0.064</td>\n      <td>0.035</td>\n      <td>0.055</td>\n      <td>0.042</td>\n      <td>0.046</td>\n      <td>0.055</td>\n      <td>0.030</td>\n      <td>...</td>\n      <td>0.000</td>\n      <td>0.008</td>\n      <td>0.006</td>\n      <td>0.007</td>\n      <td>0.004</td>\n      <td>0.005</td>\n      <td>0.000</td>\n      <td>0.000</td>\n      <td>0.003</td>\n      <td>0.003</td>\n    </tr>\n    <tr>\n      <th>19</th>\n      <td>3</td>\n      <td>2012-05-20</td>\n      <td>전력총합</td>\n      <td>0.037</td>\n      <td>0.043</td>\n      <td>0.072</td>\n      <td>0.051</td>\n      <td>0.072</td>\n      <td>0.079</td>\n      <td>0.006</td>\n      <td>...</td>\n      <td>0.010</td>\n      <td>0.039</td>\n      <td>0.001</td>\n      <td>0.000</td>\n      <td>0.001</td>\n      <td>0.000</td>\n      <td>0.000</td>\n      <td>0.000</td>\n      <td>0.000</td>\n      <td>0.001</td>\n    </tr>\n    <tr>\n      <th>20</th>\n      <td>3</td>\n      <td>2012-05-21</td>\n      <td>전력총합</td>\n      <td>0.053</td>\n      <td>0.056</td>\n      <td>0.044</td>\n      <td>0.070</td>\n      <td>0.044</td>\n      <td>0.023</td>\n      <td>0.032</td>\n      <td>...</td>\n      <td>0.007</td>\n      <td>0.008</td>\n      <td>0.006</td>\n      <td>0.000</td>\n      <td>0.004</td>\n      <td>0.005</td>\n      <td>0.006</td>\n      <td>0.004</td>\n      <td>0.003</td>\n      <td>0.003</td>\n    </tr>\n    <tr>\n      <th>21</th>\n      <td>3</td>\n      <td>2012-05-22</td>\n      <td>전력총합</td>\n      <td>0.046</td>\n      <td>0.061</td>\n      <td>0.078</td>\n      <td>0.042</td>\n      <td>0.057</td>\n      <td>0.039</td>\n      <td>0.064</td>\n      <td>...</td>\n      <td>0.000</td>\n      <td>0.000</td>\n      <td>0.001</td>\n      <td>0.000</td>\n      <td>0.000</td>\n      <td>0.000</td>\n      <td>0.000</td>\n      <td>0.001</td>\n      <td>0.000</td>\n      <td>0.000</td>\n    </tr>\n    <tr>\n      <th>22</th>\n      <td>3</td>\n      <td>2012-05-23</td>\n      <td>전력총합</td>\n      <td>0.045</td>\n      <td>0.068</td>\n      <td>0.035</td>\n      <td>0.062</td>\n      <td>0.051</td>\n      <td>0.059</td>\n      <td>0.057</td>\n      <td>...</td>\n      <td>0.007</td>\n      <td>0.000</td>\n      <td>0.001</td>\n      <td>0.000</td>\n      <td>0.000</td>\n      <td>0.000</td>\n      <td>0.006</td>\n      <td>0.001</td>\n      <td>0.000</td>\n      <td>0.000</td>\n    </tr>\n    <tr>\n      <th>23</th>\n      <td>3</td>\n      <td>2012-05-24</td>\n      <td>전력총합</td>\n      <td>0.071</td>\n      <td>0.038</td>\n      <td>0.067</td>\n      <td>0.044</td>\n      <td>0.058</td>\n      <td>0.041</td>\n      <td>0.040</td>\n      <td>...</td>\n      <td>0.024</td>\n      <td>0.011</td>\n      <td>0.001</td>\n      <td>0.000</td>\n      <td>0.000</td>\n      <td>0.005</td>\n      <td>0.036</td>\n      <td>0.000</td>\n      <td>0.013</td>\n      <td>0.003</td>\n    </tr>\n    <tr>\n      <th>24</th>\n      <td>3</td>\n      <td>2012-05-25</td>\n      <td>전력총합</td>\n      <td>0.024</td>\n      <td>0.035</td>\n      <td>0.069</td>\n      <td>0.057</td>\n      <td>0.045</td>\n      <td>0.026</td>\n      <td>0.037</td>\n      <td>...</td>\n      <td>0.007</td>\n      <td>0.008</td>\n      <td>0.000</td>\n      <td>0.007</td>\n      <td>0.000</td>\n      <td>0.005</td>\n      <td>0.001</td>\n      <td>0.000</td>\n      <td>0.000</td>\n      <td>0.000</td>\n    </tr>\n    <tr>\n      <th>25</th>\n      <td>3</td>\n      <td>2012-05-26</td>\n      <td>전력총합</td>\n      <td>0.036</td>\n      <td>0.043</td>\n      <td>0.033</td>\n      <td>0.043</td>\n      <td>0.045</td>\n      <td>0.043</td>\n      <td>0.026</td>\n      <td>...</td>\n      <td>0.000</td>\n      <td>0.000</td>\n      <td>0.000</td>\n      <td>0.001</td>\n      <td>0.000</td>\n      <td>0.000</td>\n      <td>0.000</td>\n      <td>0.000</td>\n      <td>0.001</td>\n      <td>0.000</td>\n    </tr>\n    <tr>\n      <th>26</th>\n      <td>3</td>\n      <td>2012-05-27</td>\n      <td>전력총합</td>\n      <td>0.052</td>\n      <td>0.031</td>\n      <td>0.058</td>\n      <td>0.032</td>\n      <td>0.045</td>\n      <td>0.044</td>\n      <td>0.035</td>\n      <td>...</td>\n      <td>0.007</td>\n      <td>0.008</td>\n      <td>0.006</td>\n      <td>0.007</td>\n      <td>0.004</td>\n      <td>0.005</td>\n      <td>0.006</td>\n      <td>0.004</td>\n      <td>0.003</td>\n      <td>0.003</td>\n    </tr>\n    <tr>\n      <th>27</th>\n      <td>3</td>\n      <td>2012-05-28</td>\n      <td>전력총합</td>\n      <td>0.046</td>\n      <td>0.041</td>\n      <td>0.034</td>\n      <td>0.059</td>\n      <td>0.030</td>\n      <td>0.046</td>\n      <td>0.042</td>\n      <td>...</td>\n      <td>0.000</td>\n      <td>0.000</td>\n      <td>0.000</td>\n      <td>0.001</td>\n      <td>0.019</td>\n      <td>0.005</td>\n      <td>0.006</td>\n      <td>0.004</td>\n      <td>0.003</td>\n      <td>0.003</td>\n    </tr>\n    <tr>\n      <th>28</th>\n      <td>3</td>\n      <td>2012-05-29</td>\n      <td>전력총합</td>\n      <td>0.041</td>\n      <td>0.051</td>\n      <td>0.022</td>\n      <td>0.080</td>\n      <td>0.046</td>\n      <td>0.047</td>\n      <td>0.076</td>\n      <td>...</td>\n      <td>0.000</td>\n      <td>0.008</td>\n      <td>0.000</td>\n      <td>0.000</td>\n      <td>0.000</td>\n      <td>0.000</td>\n      <td>0.001</td>\n      <td>0.000</td>\n      <td>0.000</td>\n      <td>0.000</td>\n    </tr>\n    <tr>\n      <th>29</th>\n      <td>3</td>\n      <td>2012-05-30</td>\n      <td>전력총합</td>\n      <td>0.060</td>\n      <td>0.006</td>\n      <td>0.042</td>\n      <td>0.037</td>\n      <td>0.041</td>\n      <td>0.058</td>\n      <td>0.046</td>\n      <td>...</td>\n      <td>0.007</td>\n      <td>0.008</td>\n      <td>0.006</td>\n      <td>0.007</td>\n      <td>0.004</td>\n      <td>0.005</td>\n      <td>0.006</td>\n      <td>0.004</td>\n      <td>0.003</td>\n      <td>0.003</td>\n    </tr>\n    <tr>\n      <th>30</th>\n      <td>3</td>\n      <td>2012-05-31</td>\n      <td>전력총합</td>\n      <td>0.018</td>\n      <td>0.063</td>\n      <td>0.071</td>\n      <td>0.038</td>\n      <td>0.033</td>\n      <td>0.050</td>\n      <td>0.060</td>\n      <td>...</td>\n      <td>0.000</td>\n      <td>0.008</td>\n      <td>0.006</td>\n      <td>0.000</td>\n      <td>0.000</td>\n      <td>0.000</td>\n      <td>0.000</td>\n      <td>0.001</td>\n      <td>0.000</td>\n      <td>0.000</td>\n    </tr>\n  </tbody>\n</table>\n<p>31 rows × 293 columns</p>\n</div>"
     },
     "metadata": {},
     "execution_count": 123
    }
   ],
   "source": [
    "test_merge"
   ]
  },
  {
   "cell_type": "code",
   "execution_count": null,
   "metadata": {},
   "outputs": [],
   "source": []
  },
  {
   "cell_type": "code",
   "execution_count": 124,
   "metadata": {},
   "outputs": [],
   "source": [
    "test_merge.columns = title"
   ]
  },
  {
   "cell_type": "code",
   "execution_count": 125,
   "metadata": {},
   "outputs": [],
   "source": [
    "cnt = 3\n",
    "cnt1 = 149\n",
    "test_final = test_merge.iloc[:, [cnt, cnt1]]\n",
    "\n",
    "while cnt < 146 :\n",
    "    cnt = cnt + 1\n",
    "    cnt1 = cnt1 + 1\n",
    "    plus = test_merge.iloc[:, [cnt,cnt1]]\n",
    "    test_final = test_final.append(plus)\n",
    "\n"
   ]
  },
  {
   "cell_type": "code",
   "execution_count": 126,
   "metadata": {},
   "outputs": [
    {
     "output_type": "execute_result",
     "data": {
      "text/plain": [
       "        x      x\n",
       "0   0.044  0.004\n",
       "1   0.044  0.000\n",
       "2   0.052  0.001\n",
       "3   0.014  0.004\n",
       "4   0.021  0.004\n",
       "..    ...    ...\n",
       "26  0.032  0.003\n",
       "27  0.078  0.003\n",
       "28  0.045  0.000\n",
       "29  0.009  0.003\n",
       "30  0.014  0.000\n",
       "\n",
       "[4464 rows x 2 columns]"
      ],
      "text/html": "<div>\n<style scoped>\n    .dataframe tbody tr th:only-of-type {\n        vertical-align: middle;\n    }\n\n    .dataframe tbody tr th {\n        vertical-align: top;\n    }\n\n    .dataframe thead th {\n        text-align: right;\n    }\n</style>\n<table border=\"1\" class=\"dataframe\">\n  <thead>\n    <tr style=\"text-align: right;\">\n      <th></th>\n      <th>x</th>\n      <th>x</th>\n    </tr>\n  </thead>\n  <tbody>\n    <tr>\n      <th>0</th>\n      <td>0.044</td>\n      <td>0.004</td>\n    </tr>\n    <tr>\n      <th>1</th>\n      <td>0.044</td>\n      <td>0.000</td>\n    </tr>\n    <tr>\n      <th>2</th>\n      <td>0.052</td>\n      <td>0.001</td>\n    </tr>\n    <tr>\n      <th>3</th>\n      <td>0.014</td>\n      <td>0.004</td>\n    </tr>\n    <tr>\n      <th>4</th>\n      <td>0.021</td>\n      <td>0.004</td>\n    </tr>\n    <tr>\n      <th>...</th>\n      <td>...</td>\n      <td>...</td>\n    </tr>\n    <tr>\n      <th>26</th>\n      <td>0.032</td>\n      <td>0.003</td>\n    </tr>\n    <tr>\n      <th>27</th>\n      <td>0.078</td>\n      <td>0.003</td>\n    </tr>\n    <tr>\n      <th>28</th>\n      <td>0.045</td>\n      <td>0.000</td>\n    </tr>\n    <tr>\n      <th>29</th>\n      <td>0.009</td>\n      <td>0.003</td>\n    </tr>\n    <tr>\n      <th>30</th>\n      <td>0.014</td>\n      <td>0.000</td>\n    </tr>\n  </tbody>\n</table>\n<p>4464 rows × 2 columns</p>\n</div>"
     },
     "metadata": {},
     "execution_count": 126
    }
   ],
   "source": [
    "test_final"
   ]
  },
  {
   "cell_type": "code",
   "execution_count": 129,
   "metadata": {},
   "outputs": [],
   "source": [
    "test_Y =test_final \n"
   ]
  },
  {
   "cell_type": "code",
   "execution_count": 130,
   "metadata": {},
   "outputs": [],
   "source": [
    "for i in range(4464) :\n",
    "    if test_final.iloc[i, 1] > 0.007 :\n",
    "        test_Y.iloc[i,1] = 1\n",
    "    else :\n",
    "        test_Y.iloc[i,1] = 0"
   ]
  },
  {
   "cell_type": "code",
   "execution_count": 131,
   "metadata": {},
   "outputs": [],
   "source": [
    "test_Y['hour'] = 3"
   ]
  },
  {
   "cell_type": "code",
   "execution_count": 132,
   "metadata": {},
   "outputs": [],
   "source": [
    "cnt3 = 0\n",
    "for b in range(4464) :\n",
    "    test_Y.iloc[b, 2] = num[cnt3]\n",
    "    cnt3 += 1\n",
    "    if cnt3 == 144 :\n",
    "        cnt3 = 0"
   ]
  },
  {
   "cell_type": "code",
   "execution_count": 133,
   "metadata": {},
   "outputs": [],
   "source": [
    "test_y = test_Y.iloc[:, 1]"
   ]
  },
  {
   "cell_type": "code",
   "execution_count": 134,
   "metadata": {},
   "outputs": [],
   "source": [
    "test_x = test_Y.iloc[:,[0,2]]"
   ]
  },
  {
   "cell_type": "code",
   "execution_count": 135,
   "metadata": {},
   "outputs": [
    {
     "output_type": "execute_result",
     "data": {
      "text/plain": [
       "        x  hour\n",
       "0   0.044     0\n",
       "1   0.044     0\n",
       "2   0.052     0\n",
       "3   0.014     0\n",
       "4   0.021     0\n",
       "..    ...   ...\n",
       "26  0.032    23\n",
       "27  0.078    23\n",
       "28  0.045    23\n",
       "29  0.009    23\n",
       "30  0.014    23\n",
       "\n",
       "[4464 rows x 2 columns]"
      ],
      "text/html": "<div>\n<style scoped>\n    .dataframe tbody tr th:only-of-type {\n        vertical-align: middle;\n    }\n\n    .dataframe tbody tr th {\n        vertical-align: top;\n    }\n\n    .dataframe thead th {\n        text-align: right;\n    }\n</style>\n<table border=\"1\" class=\"dataframe\">\n  <thead>\n    <tr style=\"text-align: right;\">\n      <th></th>\n      <th>x</th>\n      <th>hour</th>\n    </tr>\n  </thead>\n  <tbody>\n    <tr>\n      <th>0</th>\n      <td>0.044</td>\n      <td>0</td>\n    </tr>\n    <tr>\n      <th>1</th>\n      <td>0.044</td>\n      <td>0</td>\n    </tr>\n    <tr>\n      <th>2</th>\n      <td>0.052</td>\n      <td>0</td>\n    </tr>\n    <tr>\n      <th>3</th>\n      <td>0.014</td>\n      <td>0</td>\n    </tr>\n    <tr>\n      <th>4</th>\n      <td>0.021</td>\n      <td>0</td>\n    </tr>\n    <tr>\n      <th>...</th>\n      <td>...</td>\n      <td>...</td>\n    </tr>\n    <tr>\n      <th>26</th>\n      <td>0.032</td>\n      <td>23</td>\n    </tr>\n    <tr>\n      <th>27</th>\n      <td>0.078</td>\n      <td>23</td>\n    </tr>\n    <tr>\n      <th>28</th>\n      <td>0.045</td>\n      <td>23</td>\n    </tr>\n    <tr>\n      <th>29</th>\n      <td>0.009</td>\n      <td>23</td>\n    </tr>\n    <tr>\n      <th>30</th>\n      <td>0.014</td>\n      <td>23</td>\n    </tr>\n  </tbody>\n</table>\n<p>4464 rows × 2 columns</p>\n</div>"
     },
     "metadata": {},
     "execution_count": 135
    }
   ],
   "source": [
    "test_x"
   ]
  },
  {
   "cell_type": "code",
   "execution_count": 44,
   "metadata": {},
   "outputs": [],
   "source": [
    "from sklearn import tree\n",
    "clf = tree.DecisionTreeClassifier()\n",
    "clf = clf.fit(ele_X, ele_y)"
   ]
  },
  {
   "cell_type": "code",
   "execution_count": 161,
   "metadata": {},
   "outputs": [],
   "source": [
    "from sklearn.ensemble import RandomForestClassifier\n",
    "clf = RandomForestClassifier()\n",
    "clf = clf.fit(ele_X, ele_y)"
   ]
  },
  {
   "cell_type": "code",
   "execution_count": 162,
   "metadata": {},
   "outputs": [],
   "source": [
    "pred = clf.predict(test_x)"
   ]
  },
  {
   "cell_type": "code",
   "execution_count": 142,
   "metadata": {},
   "outputs": [],
   "source": [
    "from sklearn.metrics import accuracy_score, precision_score, recall_score, confusion_matrix, classification_report"
   ]
  },
  {
   "cell_type": "code",
   "execution_count": 147,
   "metadata": {},
   "outputs": [],
   "source": [
    "# 12. 모델 학습\n",
    "from sklearn.ensemble import RandomForestClassifier\n",
    "from sklearn.ensemble import VotingClassifier\n",
    "from sklearn.linear_model import LogisticRegression, RidgeClassifier\n",
    "from xgboost import XGBClassifier \n",
    "from sklearn.svm import SVC \n",
    "from sklearn.ensemble import GradientBoostingClassifier\n",
    "\n",
    "from sklearn.model_selection import GridSearchCV\n",
    "from sklearn.linear_model import SGDClassifier\n",
    "from sklearn.neighbors import KNeighborsClassifier"
   ]
  },
  {
   "cell_type": "code",
   "execution_count": 143,
   "metadata": {},
   "outputs": [
    {
     "output_type": "stream",
     "name": "stdout",
     "text": [
      "0.943100358422939 0.008298755186721992 0.11764705882352941\n"
     ]
    }
   ],
   "source": [
    "print(accuracy_score(pred, test_y), precision_score(pred, test_y), recall_score(pred, test_y))"
   ]
  },
  {
   "cell_type": "code",
   "execution_count": 158,
   "metadata": {},
   "outputs": [],
   "source": [
    "models = [\n",
    "    ('XGBOOST', XGBClassifier()),\n",
    "    ('Randomforest', RandomForestClassifier()),\n",
    "    ('SVC', SVC()),\n",
    "    ('GBC', GradientBoostingClassifier()),\n",
    "    ('sgd', SGDClassifier())\n",
    "]"
   ]
  },
  {
   "cell_type": "code",
   "execution_count": 159,
   "metadata": {},
   "outputs": [
    {
     "output_type": "stream",
     "name": "stderr",
     "text": [
      "C:\\Users\\Admin\\anaconda3\\lib\\site-packages\\xgboost\\sklearn.py:1146: UserWarning: The use of label encoder in XGBClassifier is deprecated and will be removed in a future release. To remove this warning, do the following: 1) Pass option use_label_encoder=False when constructing XGBClassifier object; and 2) Encode your labels (y) as integers starting with 0, i.e. 0, 1, 2, ..., [num_class - 1].\n",
      "  warnings.warn(label_encoder_deprecation_msg, UserWarning)\n",
      "[17:39:47] WARNING: C:/Users/Administrator/workspace/xgboost-win64_release_1.4.0/src/learner.cc:1095: Starting in XGBoost 1.3.0, the default evaluation metric used with the objective 'binary:logistic' was changed from 'error' to 'logloss'. Explicitly set eval_metric if you'd like to restore the old behavior.\n",
      "C:\\Users\\Admin\\anaconda3\\lib\\site-packages\\xgboost\\data.py:112: UserWarning: Use subset (sliced data) of np.ndarray is not recommended because it will generate extra copies and increase memory consumption\n",
      "  warnings.warn(\n"
     ]
    }
   ],
   "source": [
    "vc = VotingClassifier(models, voting='hard')\n",
    "vc.fit(ele_X, ele_y)\n",
    "predicted = vc.predict(test_x)"
   ]
  },
  {
   "cell_type": "code",
   "execution_count": 163,
   "metadata": {},
   "outputs": [
    {
     "output_type": "stream",
     "name": "stdout",
     "text": [
      "              precision    recall  f1-score   support\n\n         0.0       0.99      0.95      0.97      4441\n         1.0       0.00      0.04      0.01        23\n\n    accuracy                           0.94      4464\n   macro avg       0.50      0.49      0.49      4464\nweighted avg       0.99      0.94      0.96      4464\n\n"
     ]
    }
   ],
   "source": [
    "print(classification_report(pred, test_y))"
   ]
  },
  {
   "cell_type": "code",
   "execution_count": 145,
   "metadata": {},
   "outputs": [],
   "source": [
    "df = pd.DataFrame(pred)"
   ]
  },
  {
   "cell_type": "code",
   "execution_count": 146,
   "metadata": {},
   "outputs": [
    {
     "output_type": "execute_result",
     "data": {
      "text/plain": [
       "        0\n",
       "0     0.0\n",
       "1     0.0\n",
       "2     0.0\n",
       "3     0.0\n",
       "4     0.0\n",
       "...   ...\n",
       "4459  0.0\n",
       "4460  0.0\n",
       "4461  0.0\n",
       "4462  0.0\n",
       "4463  0.0\n",
       "\n",
       "[4464 rows x 1 columns]"
      ],
      "text/html": "<div>\n<style scoped>\n    .dataframe tbody tr th:only-of-type {\n        vertical-align: middle;\n    }\n\n    .dataframe tbody tr th {\n        vertical-align: top;\n    }\n\n    .dataframe thead th {\n        text-align: right;\n    }\n</style>\n<table border=\"1\" class=\"dataframe\">\n  <thead>\n    <tr style=\"text-align: right;\">\n      <th></th>\n      <th>0</th>\n    </tr>\n  </thead>\n  <tbody>\n    <tr>\n      <th>0</th>\n      <td>0.0</td>\n    </tr>\n    <tr>\n      <th>1</th>\n      <td>0.0</td>\n    </tr>\n    <tr>\n      <th>2</th>\n      <td>0.0</td>\n    </tr>\n    <tr>\n      <th>3</th>\n      <td>0.0</td>\n    </tr>\n    <tr>\n      <th>4</th>\n      <td>0.0</td>\n    </tr>\n    <tr>\n      <th>...</th>\n      <td>...</td>\n    </tr>\n    <tr>\n      <th>4459</th>\n      <td>0.0</td>\n    </tr>\n    <tr>\n      <th>4460</th>\n      <td>0.0</td>\n    </tr>\n    <tr>\n      <th>4461</th>\n      <td>0.0</td>\n    </tr>\n    <tr>\n      <th>4462</th>\n      <td>0.0</td>\n    </tr>\n    <tr>\n      <th>4463</th>\n      <td>0.0</td>\n    </tr>\n  </tbody>\n</table>\n<p>4464 rows × 1 columns</p>\n</div>"
     },
     "metadata": {},
     "execution_count": 146
    }
   ],
   "source": [
    "df"
   ]
  },
  {
   "cell_type": "code",
   "execution_count": null,
   "metadata": {},
   "outputs": [],
   "source": []
  }
 ],
 "metadata": {
  "kernelspec": {
   "name": "python3",
   "display_name": "Python 3.8.5 64-bit ('base': conda)"
  },
  "language_info": {
   "codemirror_mode": {
    "name": "ipython",
    "version": 3
   },
   "file_extension": ".py",
   "mimetype": "text/x-python",
   "name": "python",
   "nbconvert_exporter": "python",
   "pygments_lexer": "ipython3",
   "version": "3.8.5"
  },
  "interpreter": {
   "hash": "183bbf6827d058c2a2fb0f4acdc0420849dda2b4380af0e437e38c64d798d8b7"
  }
 },
 "nbformat": 4,
 "nbformat_minor": 4
}