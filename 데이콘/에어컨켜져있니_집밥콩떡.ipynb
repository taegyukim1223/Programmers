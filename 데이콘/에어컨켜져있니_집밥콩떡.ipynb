{
 "cells": [
  {
   "cell_type": "code",
   "execution_count": 11,
   "metadata": {},
   "outputs": [],
   "source": [
    "import pandas as pd\n",
    "import glob\n",
    "\n",
    "# files=glob.glob('온도*.txt')\n",
    "\n",
    "# temp = []\n",
    "# for filename in files:\n",
    "#     temp.append(pd.read_csv(filename, sep='\\t', encoding='cp949'))\n",
    "\n",
    "\n",
    "# temp = pd.concat(temp, ignore_index=True)\n",
    "\n",
    "files=glob.glob('전력*.txt')\n",
    "\n",
    "ele = []\n",
    "for filename in files:\n",
    "    ele.append(pd.read_csv(filename, sep='\\t', encoding='cp949'))\n",
    "\n",
    "\n",
    "ele = pd.concat(ele, ignore_index=True)"
   ]
  },
  {
   "cell_type": "code",
   "execution_count": 12,
   "metadata": {},
   "outputs": [],
   "source": [
    "# ele_drop.to_csv('ele_tttt.csv', index=False, encoding='euc-kr')\n"
   ]
  },
  {
   "cell_type": "code",
   "execution_count": 13,
   "metadata": {},
   "outputs": [],
   "source": [
    "ele_drop = ele.drop(['HA','APT_TF','M2','PersonCount'], axis=1)\n",
    "\n",
    "ele_num = ele_drop['H_ID'] == 1\n",
    "elenum = ele_drop[ele_num]\n",
    "\n",
    "temp_1 = elenum['PointName'] == '전력총합'\n",
    "temp_2 = elenum['PointName'] == '에어컨' \n",
    "ele_total = elenum[temp_1]\n",
    "ele_se = elenum[temp_2]\n",
    "\n",
    "ele_total = ele_total.sort_values(['H_ID','ST_DATE'])\n",
    "ele_se = ele_se.sort_values(['H_ID','ST_DATE'])\n"
   ]
  },
  {
   "cell_type": "code",
   "execution_count": 14,
   "metadata": {},
   "outputs": [
    {
     "output_type": "execute_result",
     "data": {
      "text/plain": [
       "       H_ID     ST_DATE PointName  H00_1  H00_2  H00_3  H00_4  H00_5  H00_6  \\\n",
       "96487     1  2012-01-01      전력총합  0.093  0.079  0.062  0.069  0.058  0.029   \n",
       "96488     1  2012-01-02      전력총합  0.033  0.030  0.003  0.009  0.022  0.021   \n",
       "96489     1  2012-01-03      전력총합  0.010  0.008  0.022  0.019  0.008  0.013   \n",
       "96490     1  2012-01-04      전력총합  0.033  0.030  0.028  0.029  0.027  0.027   \n",
       "96491     1  2012-01-05      전력총합  0.033  0.030  0.028  0.029  0.027  0.027   \n",
       "...     ...         ...       ...    ...    ...    ...    ...    ...    ...   \n",
       "27        1    2012.9.5      전력총합  0.022  0.020  0.019  0.021  0.021  0.021   \n",
       "32        1    2012.9.6      전력총합  0.031  0.034  0.036  0.024  0.025  0.024   \n",
       "37        1    2012.9.7      전력총합  0.111  0.050  0.038  0.025  0.025  0.033   \n",
       "42        1    2012.9.8      전력총합  0.046  0.030  0.032  0.049  0.042  0.045   \n",
       "47        1    2012.9.9      전력총합  0.050  0.048  0.046  0.044  0.042  0.033   \n",
       "\n",
       "       H01_1  ...  H22_3  H22_4  H22_5  H22_6  H23_1  H23_2  H23_3  H23_4  \\\n",
       "96487  0.025  ...  0.081  0.044  0.041  0.039  0.025  0.000  0.036  0.033   \n",
       "96488  0.021  ...  0.047  0.028  0.051  0.035  0.043  0.027  0.029  0.039   \n",
       "96489  0.044  ...  0.036  0.035  0.034  0.034  0.034  0.037  0.036  0.033   \n",
       "96490  0.027  ...  0.073  0.080  0.083  0.065  0.043  0.056  0.057  0.046   \n",
       "96491  0.027  ...  0.036  0.035  0.034  0.023  0.027  0.043  0.028  0.014   \n",
       "...      ...  ...    ...    ...    ...    ...    ...    ...    ...    ...   \n",
       "27     0.013  ...  0.019  0.019  0.007  0.009  0.016  0.046  0.040  0.052   \n",
       "32     0.031  ...  0.012  0.008  0.012  0.020  0.038  0.019  0.024  0.022   \n",
       "37     0.032  ...  0.044  0.037  0.036  0.041  0.059  0.099  0.075  0.036   \n",
       "42     0.040  ...  0.043  0.041  0.039  0.041  0.038  0.046  0.045  0.050   \n",
       "47     0.031  ...  0.034  0.041  0.040  0.034  0.029  0.029  0.030  0.034   \n",
       "\n",
       "       H23_5  H23_6  \n",
       "96487  0.032  0.031  \n",
       "96488  0.036  0.017  \n",
       "96489  0.032  0.031  \n",
       "96490  0.042  0.014  \n",
       "96491  0.023  0.028  \n",
       "...      ...    ...  \n",
       "27     0.046  0.039  \n",
       "32     0.024  0.040  \n",
       "37     0.031  0.043  \n",
       "42     0.053  0.046  \n",
       "47     0.032  0.039  \n",
       "\n",
       "[270 rows x 147 columns]"
      ],
      "text/html": "<div>\n<style scoped>\n    .dataframe tbody tr th:only-of-type {\n        vertical-align: middle;\n    }\n\n    .dataframe tbody tr th {\n        vertical-align: top;\n    }\n\n    .dataframe thead th {\n        text-align: right;\n    }\n</style>\n<table border=\"1\" class=\"dataframe\">\n  <thead>\n    <tr style=\"text-align: right;\">\n      <th></th>\n      <th>H_ID</th>\n      <th>ST_DATE</th>\n      <th>PointName</th>\n      <th>H00_1</th>\n      <th>H00_2</th>\n      <th>H00_3</th>\n      <th>H00_4</th>\n      <th>H00_5</th>\n      <th>H00_6</th>\n      <th>H01_1</th>\n      <th>...</th>\n      <th>H22_3</th>\n      <th>H22_4</th>\n      <th>H22_5</th>\n      <th>H22_6</th>\n      <th>H23_1</th>\n      <th>H23_2</th>\n      <th>H23_3</th>\n      <th>H23_4</th>\n      <th>H23_5</th>\n      <th>H23_6</th>\n    </tr>\n  </thead>\n  <tbody>\n    <tr>\n      <th>96487</th>\n      <td>1</td>\n      <td>2012-01-01</td>\n      <td>전력총합</td>\n      <td>0.093</td>\n      <td>0.079</td>\n      <td>0.062</td>\n      <td>0.069</td>\n      <td>0.058</td>\n      <td>0.029</td>\n      <td>0.025</td>\n      <td>...</td>\n      <td>0.081</td>\n      <td>0.044</td>\n      <td>0.041</td>\n      <td>0.039</td>\n      <td>0.025</td>\n      <td>0.000</td>\n      <td>0.036</td>\n      <td>0.033</td>\n      <td>0.032</td>\n      <td>0.031</td>\n    </tr>\n    <tr>\n      <th>96488</th>\n      <td>1</td>\n      <td>2012-01-02</td>\n      <td>전력총합</td>\n      <td>0.033</td>\n      <td>0.030</td>\n      <td>0.003</td>\n      <td>0.009</td>\n      <td>0.022</td>\n      <td>0.021</td>\n      <td>0.021</td>\n      <td>...</td>\n      <td>0.047</td>\n      <td>0.028</td>\n      <td>0.051</td>\n      <td>0.035</td>\n      <td>0.043</td>\n      <td>0.027</td>\n      <td>0.029</td>\n      <td>0.039</td>\n      <td>0.036</td>\n      <td>0.017</td>\n    </tr>\n    <tr>\n      <th>96489</th>\n      <td>1</td>\n      <td>2012-01-03</td>\n      <td>전력총합</td>\n      <td>0.010</td>\n      <td>0.008</td>\n      <td>0.022</td>\n      <td>0.019</td>\n      <td>0.008</td>\n      <td>0.013</td>\n      <td>0.044</td>\n      <td>...</td>\n      <td>0.036</td>\n      <td>0.035</td>\n      <td>0.034</td>\n      <td>0.034</td>\n      <td>0.034</td>\n      <td>0.037</td>\n      <td>0.036</td>\n      <td>0.033</td>\n      <td>0.032</td>\n      <td>0.031</td>\n    </tr>\n    <tr>\n      <th>96490</th>\n      <td>1</td>\n      <td>2012-01-04</td>\n      <td>전력총합</td>\n      <td>0.033</td>\n      <td>0.030</td>\n      <td>0.028</td>\n      <td>0.029</td>\n      <td>0.027</td>\n      <td>0.027</td>\n      <td>0.027</td>\n      <td>...</td>\n      <td>0.073</td>\n      <td>0.080</td>\n      <td>0.083</td>\n      <td>0.065</td>\n      <td>0.043</td>\n      <td>0.056</td>\n      <td>0.057</td>\n      <td>0.046</td>\n      <td>0.042</td>\n      <td>0.014</td>\n    </tr>\n    <tr>\n      <th>96491</th>\n      <td>1</td>\n      <td>2012-01-05</td>\n      <td>전력총합</td>\n      <td>0.033</td>\n      <td>0.030</td>\n      <td>0.028</td>\n      <td>0.029</td>\n      <td>0.027</td>\n      <td>0.027</td>\n      <td>0.027</td>\n      <td>...</td>\n      <td>0.036</td>\n      <td>0.035</td>\n      <td>0.034</td>\n      <td>0.023</td>\n      <td>0.027</td>\n      <td>0.043</td>\n      <td>0.028</td>\n      <td>0.014</td>\n      <td>0.023</td>\n      <td>0.028</td>\n    </tr>\n    <tr>\n      <th>...</th>\n      <td>...</td>\n      <td>...</td>\n      <td>...</td>\n      <td>...</td>\n      <td>...</td>\n      <td>...</td>\n      <td>...</td>\n      <td>...</td>\n      <td>...</td>\n      <td>...</td>\n      <td>...</td>\n      <td>...</td>\n      <td>...</td>\n      <td>...</td>\n      <td>...</td>\n      <td>...</td>\n      <td>...</td>\n      <td>...</td>\n      <td>...</td>\n      <td>...</td>\n      <td>...</td>\n    </tr>\n    <tr>\n      <th>27</th>\n      <td>1</td>\n      <td>2012.9.5</td>\n      <td>전력총합</td>\n      <td>0.022</td>\n      <td>0.020</td>\n      <td>0.019</td>\n      <td>0.021</td>\n      <td>0.021</td>\n      <td>0.021</td>\n      <td>0.013</td>\n      <td>...</td>\n      <td>0.019</td>\n      <td>0.019</td>\n      <td>0.007</td>\n      <td>0.009</td>\n      <td>0.016</td>\n      <td>0.046</td>\n      <td>0.040</td>\n      <td>0.052</td>\n      <td>0.046</td>\n      <td>0.039</td>\n    </tr>\n    <tr>\n      <th>32</th>\n      <td>1</td>\n      <td>2012.9.6</td>\n      <td>전력총합</td>\n      <td>0.031</td>\n      <td>0.034</td>\n      <td>0.036</td>\n      <td>0.024</td>\n      <td>0.025</td>\n      <td>0.024</td>\n      <td>0.031</td>\n      <td>...</td>\n      <td>0.012</td>\n      <td>0.008</td>\n      <td>0.012</td>\n      <td>0.020</td>\n      <td>0.038</td>\n      <td>0.019</td>\n      <td>0.024</td>\n      <td>0.022</td>\n      <td>0.024</td>\n      <td>0.040</td>\n    </tr>\n    <tr>\n      <th>37</th>\n      <td>1</td>\n      <td>2012.9.7</td>\n      <td>전력총합</td>\n      <td>0.111</td>\n      <td>0.050</td>\n      <td>0.038</td>\n      <td>0.025</td>\n      <td>0.025</td>\n      <td>0.033</td>\n      <td>0.032</td>\n      <td>...</td>\n      <td>0.044</td>\n      <td>0.037</td>\n      <td>0.036</td>\n      <td>0.041</td>\n      <td>0.059</td>\n      <td>0.099</td>\n      <td>0.075</td>\n      <td>0.036</td>\n      <td>0.031</td>\n      <td>0.043</td>\n    </tr>\n    <tr>\n      <th>42</th>\n      <td>1</td>\n      <td>2012.9.8</td>\n      <td>전력총합</td>\n      <td>0.046</td>\n      <td>0.030</td>\n      <td>0.032</td>\n      <td>0.049</td>\n      <td>0.042</td>\n      <td>0.045</td>\n      <td>0.040</td>\n      <td>...</td>\n      <td>0.043</td>\n      <td>0.041</td>\n      <td>0.039</td>\n      <td>0.041</td>\n      <td>0.038</td>\n      <td>0.046</td>\n      <td>0.045</td>\n      <td>0.050</td>\n      <td>0.053</td>\n      <td>0.046</td>\n    </tr>\n    <tr>\n      <th>47</th>\n      <td>1</td>\n      <td>2012.9.9</td>\n      <td>전력총합</td>\n      <td>0.050</td>\n      <td>0.048</td>\n      <td>0.046</td>\n      <td>0.044</td>\n      <td>0.042</td>\n      <td>0.033</td>\n      <td>0.031</td>\n      <td>...</td>\n      <td>0.034</td>\n      <td>0.041</td>\n      <td>0.040</td>\n      <td>0.034</td>\n      <td>0.029</td>\n      <td>0.029</td>\n      <td>0.030</td>\n      <td>0.034</td>\n      <td>0.032</td>\n      <td>0.039</td>\n    </tr>\n  </tbody>\n</table>\n<p>270 rows × 147 columns</p>\n</div>"
     },
     "metadata": {},
     "execution_count": 14
    }
   ],
   "source": [
    "ele_total"
   ]
  },
  {
   "cell_type": "code",
   "execution_count": 15,
   "metadata": {},
   "outputs": [],
   "source": [
    "ele_merge = pd.merge(ele_total, ele_se, on = 'ST_DATE')"
   ]
  },
  {
   "cell_type": "code",
   "execution_count": 16,
   "metadata": {},
   "outputs": [
    {
     "output_type": "execute_result",
     "data": {
      "text/plain": [
       "     H_ID_x     ST_DATE PointName_x  H00_1_x  H00_2_x  H00_3_x  H00_4_x  \\\n",
       "0         1  2012-07-10        전력총합    0.000    0.000    0.000    0.000   \n",
       "1         1  2012-07-11        전력총합    0.042    0.033    0.030    0.031   \n",
       "2         1  2012-07-12        전력총합    0.035    0.035    0.026    0.025   \n",
       "3         1  2012-07-13        전력총합    0.031    0.029    0.026    0.025   \n",
       "4         1  2012-07-14        전력총합    0.046    0.045    0.045    0.049   \n",
       "..      ...         ...         ...      ...      ...      ...      ...   \n",
       "119       1    2012.9.5        전력총합    0.022    0.020    0.019    0.021   \n",
       "120       1    2012.9.6        전력총합    0.031    0.034    0.036    0.024   \n",
       "121       1    2012.9.7        전력총합    0.111    0.050    0.038    0.025   \n",
       "122       1    2012.9.8        전력총합    0.046    0.030    0.032    0.049   \n",
       "123       1    2012.9.9        전력총합    0.050    0.048    0.046    0.044   \n",
       "\n",
       "     H00_5_x  H00_6_x  H01_1_x  ...  H22_3_y  H22_4_y  H22_5_y  H22_6_y  \\\n",
       "0      0.000    0.000    0.031  ...    0.000    0.000    0.000    0.001   \n",
       "1      0.027    0.027    0.027  ...    0.000    0.000    0.001    0.011   \n",
       "2      0.037    0.029    0.025  ...    0.001    0.000    0.000    0.000   \n",
       "3      0.023    0.014    0.031  ...    0.000    0.000    0.000    0.000   \n",
       "4      0.052    0.033    0.052  ...    0.000    0.000    0.000    0.000   \n",
       "..       ...      ...      ...  ...      ...      ...      ...      ...   \n",
       "119    0.021    0.021    0.013  ...    0.000    0.000    0.001    0.000   \n",
       "120    0.025    0.024    0.031  ...    0.000    0.000    0.000    0.000   \n",
       "121    0.025    0.033    0.032  ...    0.001    0.000    0.000    0.000   \n",
       "122    0.042    0.045    0.040  ...    0.011    0.012    0.011    0.011   \n",
       "123    0.042    0.033    0.031  ...    0.000    0.000    0.000    0.000   \n",
       "\n",
       "     H23_1_y  H23_2_y  H23_3_y  H23_4_y  H23_5_y  H23_6_y  \n",
       "0      0.000    0.000    0.000    0.000    0.000     0.00  \n",
       "1      0.000    0.000    0.000    0.000    0.000     0.00  \n",
       "2      0.000    0.000    0.000    0.000    0.000     0.00  \n",
       "3      0.000    0.000    0.000    0.000    0.000     0.00  \n",
       "4      0.000    0.000    0.000    0.019    0.000     0.00  \n",
       "..       ...      ...      ...      ...      ...      ...  \n",
       "119    0.000    0.000    0.000    0.019    0.000     0.00  \n",
       "120    0.000    0.000    0.000    0.000    0.001     0.00  \n",
       "121    0.000    0.000    0.000    0.000    0.000     0.00  \n",
       "122    0.012    0.013    0.013    0.019    0.021     0.02  \n",
       "123    0.000    0.000    0.000    0.000    0.000     0.00  \n",
       "\n",
       "[124 rows x 293 columns]"
      ],
      "text/html": "<div>\n<style scoped>\n    .dataframe tbody tr th:only-of-type {\n        vertical-align: middle;\n    }\n\n    .dataframe tbody tr th {\n        vertical-align: top;\n    }\n\n    .dataframe thead th {\n        text-align: right;\n    }\n</style>\n<table border=\"1\" class=\"dataframe\">\n  <thead>\n    <tr style=\"text-align: right;\">\n      <th></th>\n      <th>H_ID_x</th>\n      <th>ST_DATE</th>\n      <th>PointName_x</th>\n      <th>H00_1_x</th>\n      <th>H00_2_x</th>\n      <th>H00_3_x</th>\n      <th>H00_4_x</th>\n      <th>H00_5_x</th>\n      <th>H00_6_x</th>\n      <th>H01_1_x</th>\n      <th>...</th>\n      <th>H22_3_y</th>\n      <th>H22_4_y</th>\n      <th>H22_5_y</th>\n      <th>H22_6_y</th>\n      <th>H23_1_y</th>\n      <th>H23_2_y</th>\n      <th>H23_3_y</th>\n      <th>H23_4_y</th>\n      <th>H23_5_y</th>\n      <th>H23_6_y</th>\n    </tr>\n  </thead>\n  <tbody>\n    <tr>\n      <th>0</th>\n      <td>1</td>\n      <td>2012-07-10</td>\n      <td>전력총합</td>\n      <td>0.000</td>\n      <td>0.000</td>\n      <td>0.000</td>\n      <td>0.000</td>\n      <td>0.000</td>\n      <td>0.000</td>\n      <td>0.031</td>\n      <td>...</td>\n      <td>0.000</td>\n      <td>0.000</td>\n      <td>0.000</td>\n      <td>0.001</td>\n      <td>0.000</td>\n      <td>0.000</td>\n      <td>0.000</td>\n      <td>0.000</td>\n      <td>0.000</td>\n      <td>0.00</td>\n    </tr>\n    <tr>\n      <th>1</th>\n      <td>1</td>\n      <td>2012-07-11</td>\n      <td>전력총합</td>\n      <td>0.042</td>\n      <td>0.033</td>\n      <td>0.030</td>\n      <td>0.031</td>\n      <td>0.027</td>\n      <td>0.027</td>\n      <td>0.027</td>\n      <td>...</td>\n      <td>0.000</td>\n      <td>0.000</td>\n      <td>0.001</td>\n      <td>0.011</td>\n      <td>0.000</td>\n      <td>0.000</td>\n      <td>0.000</td>\n      <td>0.000</td>\n      <td>0.000</td>\n      <td>0.00</td>\n    </tr>\n    <tr>\n      <th>2</th>\n      <td>1</td>\n      <td>2012-07-12</td>\n      <td>전력총합</td>\n      <td>0.035</td>\n      <td>0.035</td>\n      <td>0.026</td>\n      <td>0.025</td>\n      <td>0.037</td>\n      <td>0.029</td>\n      <td>0.025</td>\n      <td>...</td>\n      <td>0.001</td>\n      <td>0.000</td>\n      <td>0.000</td>\n      <td>0.000</td>\n      <td>0.000</td>\n      <td>0.000</td>\n      <td>0.000</td>\n      <td>0.000</td>\n      <td>0.000</td>\n      <td>0.00</td>\n    </tr>\n    <tr>\n      <th>3</th>\n      <td>1</td>\n      <td>2012-07-13</td>\n      <td>전력총합</td>\n      <td>0.031</td>\n      <td>0.029</td>\n      <td>0.026</td>\n      <td>0.025</td>\n      <td>0.023</td>\n      <td>0.014</td>\n      <td>0.031</td>\n      <td>...</td>\n      <td>0.000</td>\n      <td>0.000</td>\n      <td>0.000</td>\n      <td>0.000</td>\n      <td>0.000</td>\n      <td>0.000</td>\n      <td>0.000</td>\n      <td>0.000</td>\n      <td>0.000</td>\n      <td>0.00</td>\n    </tr>\n    <tr>\n      <th>4</th>\n      <td>1</td>\n      <td>2012-07-14</td>\n      <td>전력총합</td>\n      <td>0.046</td>\n      <td>0.045</td>\n      <td>0.045</td>\n      <td>0.049</td>\n      <td>0.052</td>\n      <td>0.033</td>\n      <td>0.052</td>\n      <td>...</td>\n      <td>0.000</td>\n      <td>0.000</td>\n      <td>0.000</td>\n      <td>0.000</td>\n      <td>0.000</td>\n      <td>0.000</td>\n      <td>0.000</td>\n      <td>0.019</td>\n      <td>0.000</td>\n      <td>0.00</td>\n    </tr>\n    <tr>\n      <th>...</th>\n      <td>...</td>\n      <td>...</td>\n      <td>...</td>\n      <td>...</td>\n      <td>...</td>\n      <td>...</td>\n      <td>...</td>\n      <td>...</td>\n      <td>...</td>\n      <td>...</td>\n      <td>...</td>\n      <td>...</td>\n      <td>...</td>\n      <td>...</td>\n      <td>...</td>\n      <td>...</td>\n      <td>...</td>\n      <td>...</td>\n      <td>...</td>\n      <td>...</td>\n      <td>...</td>\n    </tr>\n    <tr>\n      <th>119</th>\n      <td>1</td>\n      <td>2012.9.5</td>\n      <td>전력총합</td>\n      <td>0.022</td>\n      <td>0.020</td>\n      <td>0.019</td>\n      <td>0.021</td>\n      <td>0.021</td>\n      <td>0.021</td>\n      <td>0.013</td>\n      <td>...</td>\n      <td>0.000</td>\n      <td>0.000</td>\n      <td>0.001</td>\n      <td>0.000</td>\n      <td>0.000</td>\n      <td>0.000</td>\n      <td>0.000</td>\n      <td>0.019</td>\n      <td>0.000</td>\n      <td>0.00</td>\n    </tr>\n    <tr>\n      <th>120</th>\n      <td>1</td>\n      <td>2012.9.6</td>\n      <td>전력총합</td>\n      <td>0.031</td>\n      <td>0.034</td>\n      <td>0.036</td>\n      <td>0.024</td>\n      <td>0.025</td>\n      <td>0.024</td>\n      <td>0.031</td>\n      <td>...</td>\n      <td>0.000</td>\n      <td>0.000</td>\n      <td>0.000</td>\n      <td>0.000</td>\n      <td>0.000</td>\n      <td>0.000</td>\n      <td>0.000</td>\n      <td>0.000</td>\n      <td>0.001</td>\n      <td>0.00</td>\n    </tr>\n    <tr>\n      <th>121</th>\n      <td>1</td>\n      <td>2012.9.7</td>\n      <td>전력총합</td>\n      <td>0.111</td>\n      <td>0.050</td>\n      <td>0.038</td>\n      <td>0.025</td>\n      <td>0.025</td>\n      <td>0.033</td>\n      <td>0.032</td>\n      <td>...</td>\n      <td>0.001</td>\n      <td>0.000</td>\n      <td>0.000</td>\n      <td>0.000</td>\n      <td>0.000</td>\n      <td>0.000</td>\n      <td>0.000</td>\n      <td>0.000</td>\n      <td>0.000</td>\n      <td>0.00</td>\n    </tr>\n    <tr>\n      <th>122</th>\n      <td>1</td>\n      <td>2012.9.8</td>\n      <td>전력총합</td>\n      <td>0.046</td>\n      <td>0.030</td>\n      <td>0.032</td>\n      <td>0.049</td>\n      <td>0.042</td>\n      <td>0.045</td>\n      <td>0.040</td>\n      <td>...</td>\n      <td>0.011</td>\n      <td>0.012</td>\n      <td>0.011</td>\n      <td>0.011</td>\n      <td>0.012</td>\n      <td>0.013</td>\n      <td>0.013</td>\n      <td>0.019</td>\n      <td>0.021</td>\n      <td>0.02</td>\n    </tr>\n    <tr>\n      <th>123</th>\n      <td>1</td>\n      <td>2012.9.9</td>\n      <td>전력총합</td>\n      <td>0.050</td>\n      <td>0.048</td>\n      <td>0.046</td>\n      <td>0.044</td>\n      <td>0.042</td>\n      <td>0.033</td>\n      <td>0.031</td>\n      <td>...</td>\n      <td>0.000</td>\n      <td>0.000</td>\n      <td>0.000</td>\n      <td>0.000</td>\n      <td>0.000</td>\n      <td>0.000</td>\n      <td>0.000</td>\n      <td>0.000</td>\n      <td>0.000</td>\n      <td>0.00</td>\n    </tr>\n  </tbody>\n</table>\n<p>124 rows × 293 columns</p>\n</div>"
     },
     "metadata": {},
     "execution_count": 16
    }
   ],
   "source": [
    "ele_merge"
   ]
  },
  {
   "cell_type": "code",
   "execution_count": 17,
   "metadata": {},
   "outputs": [],
   "source": [
    "title = ['H_ID_x', 'ST_DATE', 'PointName_x']"
   ]
  },
  {
   "cell_type": "code",
   "execution_count": 18,
   "metadata": {},
   "outputs": [],
   "source": [
    "for i in range(144) :\n",
    "    title.append('x')"
   ]
  },
  {
   "cell_type": "code",
   "execution_count": 19,
   "metadata": {},
   "outputs": [],
   "source": [
    "title.append('H_ID_y')"
   ]
  },
  {
   "cell_type": "code",
   "execution_count": 20,
   "metadata": {},
   "outputs": [],
   "source": [
    "title.append('PointName_y')"
   ]
  },
  {
   "cell_type": "code",
   "execution_count": 21,
   "metadata": {},
   "outputs": [],
   "source": [
    "for i in range(144) :\n",
    "    title.append('y')"
   ]
  },
  {
   "cell_type": "code",
   "execution_count": 22,
   "metadata": {},
   "outputs": [
    {
     "output_type": "execute_result",
     "data": {
      "text/plain": [
       "293"
      ]
     },
     "metadata": {},
     "execution_count": 22
    }
   ],
   "source": [
    "len(title)"
   ]
  },
  {
   "cell_type": "code",
   "execution_count": 23,
   "metadata": {},
   "outputs": [],
   "source": [
    "ele_merge.columns = title"
   ]
  },
  {
   "cell_type": "code",
   "execution_count": 24,
   "metadata": {},
   "outputs": [
    {
     "output_type": "execute_result",
     "data": {
      "text/plain": [
       "     H_ID_x     ST_DATE PointName_x      x      x      x      x      x      x  \\\n",
       "0         1  2012-07-10        전력총합  0.000  0.000  0.000  0.000  0.000  0.000   \n",
       "1         1  2012-07-11        전력총합  0.042  0.033  0.030  0.031  0.027  0.027   \n",
       "2         1  2012-07-12        전력총합  0.035  0.035  0.026  0.025  0.037  0.029   \n",
       "3         1  2012-07-13        전력총합  0.031  0.029  0.026  0.025  0.023  0.014   \n",
       "4         1  2012-07-14        전력총합  0.046  0.045  0.045  0.049  0.052  0.033   \n",
       "..      ...         ...         ...    ...    ...    ...    ...    ...    ...   \n",
       "119       1    2012.9.5        전력총합  0.022  0.020  0.019  0.021  0.021  0.021   \n",
       "120       1    2012.9.6        전력총합  0.031  0.034  0.036  0.024  0.025  0.024   \n",
       "121       1    2012.9.7        전력총합  0.111  0.050  0.038  0.025  0.025  0.033   \n",
       "122       1    2012.9.8        전력총합  0.046  0.030  0.032  0.049  0.042  0.045   \n",
       "123       1    2012.9.9        전력총합  0.050  0.048  0.046  0.044  0.042  0.033   \n",
       "\n",
       "         x  ...      y      y      y      y      y      y      y      y  \\\n",
       "0    0.031  ...  0.000  0.000  0.000  0.001  0.000  0.000  0.000  0.000   \n",
       "1    0.027  ...  0.000  0.000  0.001  0.011  0.000  0.000  0.000  0.000   \n",
       "2    0.025  ...  0.001  0.000  0.000  0.000  0.000  0.000  0.000  0.000   \n",
       "3    0.031  ...  0.000  0.000  0.000  0.000  0.000  0.000  0.000  0.000   \n",
       "4    0.052  ...  0.000  0.000  0.000  0.000  0.000  0.000  0.000  0.019   \n",
       "..     ...  ...    ...    ...    ...    ...    ...    ...    ...    ...   \n",
       "119  0.013  ...  0.000  0.000  0.001  0.000  0.000  0.000  0.000  0.019   \n",
       "120  0.031  ...  0.000  0.000  0.000  0.000  0.000  0.000  0.000  0.000   \n",
       "121  0.032  ...  0.001  0.000  0.000  0.000  0.000  0.000  0.000  0.000   \n",
       "122  0.040  ...  0.011  0.012  0.011  0.011  0.012  0.013  0.013  0.019   \n",
       "123  0.031  ...  0.000  0.000  0.000  0.000  0.000  0.000  0.000  0.000   \n",
       "\n",
       "         y     y  \n",
       "0    0.000  0.00  \n",
       "1    0.000  0.00  \n",
       "2    0.000  0.00  \n",
       "3    0.000  0.00  \n",
       "4    0.000  0.00  \n",
       "..     ...   ...  \n",
       "119  0.000  0.00  \n",
       "120  0.001  0.00  \n",
       "121  0.000  0.00  \n",
       "122  0.021  0.02  \n",
       "123  0.000  0.00  \n",
       "\n",
       "[124 rows x 293 columns]"
      ],
      "text/html": "<div>\n<style scoped>\n    .dataframe tbody tr th:only-of-type {\n        vertical-align: middle;\n    }\n\n    .dataframe tbody tr th {\n        vertical-align: top;\n    }\n\n    .dataframe thead th {\n        text-align: right;\n    }\n</style>\n<table border=\"1\" class=\"dataframe\">\n  <thead>\n    <tr style=\"text-align: right;\">\n      <th></th>\n      <th>H_ID_x</th>\n      <th>ST_DATE</th>\n      <th>PointName_x</th>\n      <th>x</th>\n      <th>x</th>\n      <th>x</th>\n      <th>x</th>\n      <th>x</th>\n      <th>x</th>\n      <th>x</th>\n      <th>...</th>\n      <th>y</th>\n      <th>y</th>\n      <th>y</th>\n      <th>y</th>\n      <th>y</th>\n      <th>y</th>\n      <th>y</th>\n      <th>y</th>\n      <th>y</th>\n      <th>y</th>\n    </tr>\n  </thead>\n  <tbody>\n    <tr>\n      <th>0</th>\n      <td>1</td>\n      <td>2012-07-10</td>\n      <td>전력총합</td>\n      <td>0.000</td>\n      <td>0.000</td>\n      <td>0.000</td>\n      <td>0.000</td>\n      <td>0.000</td>\n      <td>0.000</td>\n      <td>0.031</td>\n      <td>...</td>\n      <td>0.000</td>\n      <td>0.000</td>\n      <td>0.000</td>\n      <td>0.001</td>\n      <td>0.000</td>\n      <td>0.000</td>\n      <td>0.000</td>\n      <td>0.000</td>\n      <td>0.000</td>\n      <td>0.00</td>\n    </tr>\n    <tr>\n      <th>1</th>\n      <td>1</td>\n      <td>2012-07-11</td>\n      <td>전력총합</td>\n      <td>0.042</td>\n      <td>0.033</td>\n      <td>0.030</td>\n      <td>0.031</td>\n      <td>0.027</td>\n      <td>0.027</td>\n      <td>0.027</td>\n      <td>...</td>\n      <td>0.000</td>\n      <td>0.000</td>\n      <td>0.001</td>\n      <td>0.011</td>\n      <td>0.000</td>\n      <td>0.000</td>\n      <td>0.000</td>\n      <td>0.000</td>\n      <td>0.000</td>\n      <td>0.00</td>\n    </tr>\n    <tr>\n      <th>2</th>\n      <td>1</td>\n      <td>2012-07-12</td>\n      <td>전력총합</td>\n      <td>0.035</td>\n      <td>0.035</td>\n      <td>0.026</td>\n      <td>0.025</td>\n      <td>0.037</td>\n      <td>0.029</td>\n      <td>0.025</td>\n      <td>...</td>\n      <td>0.001</td>\n      <td>0.000</td>\n      <td>0.000</td>\n      <td>0.000</td>\n      <td>0.000</td>\n      <td>0.000</td>\n      <td>0.000</td>\n      <td>0.000</td>\n      <td>0.000</td>\n      <td>0.00</td>\n    </tr>\n    <tr>\n      <th>3</th>\n      <td>1</td>\n      <td>2012-07-13</td>\n      <td>전력총합</td>\n      <td>0.031</td>\n      <td>0.029</td>\n      <td>0.026</td>\n      <td>0.025</td>\n      <td>0.023</td>\n      <td>0.014</td>\n      <td>0.031</td>\n      <td>...</td>\n      <td>0.000</td>\n      <td>0.000</td>\n      <td>0.000</td>\n      <td>0.000</td>\n      <td>0.000</td>\n      <td>0.000</td>\n      <td>0.000</td>\n      <td>0.000</td>\n      <td>0.000</td>\n      <td>0.00</td>\n    </tr>\n    <tr>\n      <th>4</th>\n      <td>1</td>\n      <td>2012-07-14</td>\n      <td>전력총합</td>\n      <td>0.046</td>\n      <td>0.045</td>\n      <td>0.045</td>\n      <td>0.049</td>\n      <td>0.052</td>\n      <td>0.033</td>\n      <td>0.052</td>\n      <td>...</td>\n      <td>0.000</td>\n      <td>0.000</td>\n      <td>0.000</td>\n      <td>0.000</td>\n      <td>0.000</td>\n      <td>0.000</td>\n      <td>0.000</td>\n      <td>0.019</td>\n      <td>0.000</td>\n      <td>0.00</td>\n    </tr>\n    <tr>\n      <th>...</th>\n      <td>...</td>\n      <td>...</td>\n      <td>...</td>\n      <td>...</td>\n      <td>...</td>\n      <td>...</td>\n      <td>...</td>\n      <td>...</td>\n      <td>...</td>\n      <td>...</td>\n      <td>...</td>\n      <td>...</td>\n      <td>...</td>\n      <td>...</td>\n      <td>...</td>\n      <td>...</td>\n      <td>...</td>\n      <td>...</td>\n      <td>...</td>\n      <td>...</td>\n      <td>...</td>\n    </tr>\n    <tr>\n      <th>119</th>\n      <td>1</td>\n      <td>2012.9.5</td>\n      <td>전력총합</td>\n      <td>0.022</td>\n      <td>0.020</td>\n      <td>0.019</td>\n      <td>0.021</td>\n      <td>0.021</td>\n      <td>0.021</td>\n      <td>0.013</td>\n      <td>...</td>\n      <td>0.000</td>\n      <td>0.000</td>\n      <td>0.001</td>\n      <td>0.000</td>\n      <td>0.000</td>\n      <td>0.000</td>\n      <td>0.000</td>\n      <td>0.019</td>\n      <td>0.000</td>\n      <td>0.00</td>\n    </tr>\n    <tr>\n      <th>120</th>\n      <td>1</td>\n      <td>2012.9.6</td>\n      <td>전력총합</td>\n      <td>0.031</td>\n      <td>0.034</td>\n      <td>0.036</td>\n      <td>0.024</td>\n      <td>0.025</td>\n      <td>0.024</td>\n      <td>0.031</td>\n      <td>...</td>\n      <td>0.000</td>\n      <td>0.000</td>\n      <td>0.000</td>\n      <td>0.000</td>\n      <td>0.000</td>\n      <td>0.000</td>\n      <td>0.000</td>\n      <td>0.000</td>\n      <td>0.001</td>\n      <td>0.00</td>\n    </tr>\n    <tr>\n      <th>121</th>\n      <td>1</td>\n      <td>2012.9.7</td>\n      <td>전력총합</td>\n      <td>0.111</td>\n      <td>0.050</td>\n      <td>0.038</td>\n      <td>0.025</td>\n      <td>0.025</td>\n      <td>0.033</td>\n      <td>0.032</td>\n      <td>...</td>\n      <td>0.001</td>\n      <td>0.000</td>\n      <td>0.000</td>\n      <td>0.000</td>\n      <td>0.000</td>\n      <td>0.000</td>\n      <td>0.000</td>\n      <td>0.000</td>\n      <td>0.000</td>\n      <td>0.00</td>\n    </tr>\n    <tr>\n      <th>122</th>\n      <td>1</td>\n      <td>2012.9.8</td>\n      <td>전력총합</td>\n      <td>0.046</td>\n      <td>0.030</td>\n      <td>0.032</td>\n      <td>0.049</td>\n      <td>0.042</td>\n      <td>0.045</td>\n      <td>0.040</td>\n      <td>...</td>\n      <td>0.011</td>\n      <td>0.012</td>\n      <td>0.011</td>\n      <td>0.011</td>\n      <td>0.012</td>\n      <td>0.013</td>\n      <td>0.013</td>\n      <td>0.019</td>\n      <td>0.021</td>\n      <td>0.02</td>\n    </tr>\n    <tr>\n      <th>123</th>\n      <td>1</td>\n      <td>2012.9.9</td>\n      <td>전력총합</td>\n      <td>0.050</td>\n      <td>0.048</td>\n      <td>0.046</td>\n      <td>0.044</td>\n      <td>0.042</td>\n      <td>0.033</td>\n      <td>0.031</td>\n      <td>...</td>\n      <td>0.000</td>\n      <td>0.000</td>\n      <td>0.000</td>\n      <td>0.000</td>\n      <td>0.000</td>\n      <td>0.000</td>\n      <td>0.000</td>\n      <td>0.000</td>\n      <td>0.000</td>\n      <td>0.00</td>\n    </tr>\n  </tbody>\n</table>\n<p>124 rows × 293 columns</p>\n</div>"
     },
     "metadata": {},
     "execution_count": 24
    }
   ],
   "source": [
    "ele_merge"
   ]
  },
  {
   "cell_type": "code",
   "execution_count": 25,
   "metadata": {},
   "outputs": [],
   "source": [
    "ele_x = ele_merge.iloc[:, [3, 149]]"
   ]
  },
  {
   "cell_type": "code",
   "execution_count": 26,
   "metadata": {},
   "outputs": [
    {
     "output_type": "execute_result",
     "data": {
      "text/plain": [
       "         x      y\n",
       "0    0.000  0.034\n",
       "1    0.042  0.000\n",
       "2    0.035  0.000\n",
       "3    0.031  0.000\n",
       "4    0.046  0.000\n",
       "..     ...    ...\n",
       "119  0.022  0.001\n",
       "120  0.031  0.000\n",
       "121  0.111  0.000\n",
       "122  0.046  0.000\n",
       "123  0.050  0.022\n",
       "\n",
       "[124 rows x 2 columns]"
      ],
      "text/html": "<div>\n<style scoped>\n    .dataframe tbody tr th:only-of-type {\n        vertical-align: middle;\n    }\n\n    .dataframe tbody tr th {\n        vertical-align: top;\n    }\n\n    .dataframe thead th {\n        text-align: right;\n    }\n</style>\n<table border=\"1\" class=\"dataframe\">\n  <thead>\n    <tr style=\"text-align: right;\">\n      <th></th>\n      <th>x</th>\n      <th>y</th>\n    </tr>\n  </thead>\n  <tbody>\n    <tr>\n      <th>0</th>\n      <td>0.000</td>\n      <td>0.034</td>\n    </tr>\n    <tr>\n      <th>1</th>\n      <td>0.042</td>\n      <td>0.000</td>\n    </tr>\n    <tr>\n      <th>2</th>\n      <td>0.035</td>\n      <td>0.000</td>\n    </tr>\n    <tr>\n      <th>3</th>\n      <td>0.031</td>\n      <td>0.000</td>\n    </tr>\n    <tr>\n      <th>4</th>\n      <td>0.046</td>\n      <td>0.000</td>\n    </tr>\n    <tr>\n      <th>...</th>\n      <td>...</td>\n      <td>...</td>\n    </tr>\n    <tr>\n      <th>119</th>\n      <td>0.022</td>\n      <td>0.001</td>\n    </tr>\n    <tr>\n      <th>120</th>\n      <td>0.031</td>\n      <td>0.000</td>\n    </tr>\n    <tr>\n      <th>121</th>\n      <td>0.111</td>\n      <td>0.000</td>\n    </tr>\n    <tr>\n      <th>122</th>\n      <td>0.046</td>\n      <td>0.000</td>\n    </tr>\n    <tr>\n      <th>123</th>\n      <td>0.050</td>\n      <td>0.022</td>\n    </tr>\n  </tbody>\n</table>\n<p>124 rows × 2 columns</p>\n</div>"
     },
     "metadata": {},
     "execution_count": 26
    }
   ],
   "source": [
    "ele_x"
   ]
  },
  {
   "cell_type": "code",
   "execution_count": 27,
   "metadata": {},
   "outputs": [],
   "source": [
    "cnt = 3\n",
    "cnt1 = 149\n",
    "\n",
    "while cnt < 146 :\n",
    "    cnt = cnt + 1\n",
    "    cnt1 = cnt1 + 1 \n",
    "    plus = ele_merge.iloc[:, [cnt, cnt1]]\n",
    "    ele_x = ele_x.append(plus)\n",
    "    "
   ]
  },
  {
   "cell_type": "code",
   "execution_count": 28,
   "metadata": {},
   "outputs": [
    {
     "output_type": "execute_result",
     "data": {
      "text/plain": [
       "         x      y\n",
       "0    0.000  0.034\n",
       "1    0.042  0.000\n",
       "2    0.035  0.000\n",
       "3    0.031  0.000\n",
       "4    0.046  0.000\n",
       "..     ...    ...\n",
       "119  0.039  0.000\n",
       "120  0.040  0.000\n",
       "121  0.043  0.000\n",
       "122  0.046  0.020\n",
       "123  0.039  0.000\n",
       "\n",
       "[17856 rows x 2 columns]"
      ],
      "text/html": "<div>\n<style scoped>\n    .dataframe tbody tr th:only-of-type {\n        vertical-align: middle;\n    }\n\n    .dataframe tbody tr th {\n        vertical-align: top;\n    }\n\n    .dataframe thead th {\n        text-align: right;\n    }\n</style>\n<table border=\"1\" class=\"dataframe\">\n  <thead>\n    <tr style=\"text-align: right;\">\n      <th></th>\n      <th>x</th>\n      <th>y</th>\n    </tr>\n  </thead>\n  <tbody>\n    <tr>\n      <th>0</th>\n      <td>0.000</td>\n      <td>0.034</td>\n    </tr>\n    <tr>\n      <th>1</th>\n      <td>0.042</td>\n      <td>0.000</td>\n    </tr>\n    <tr>\n      <th>2</th>\n      <td>0.035</td>\n      <td>0.000</td>\n    </tr>\n    <tr>\n      <th>3</th>\n      <td>0.031</td>\n      <td>0.000</td>\n    </tr>\n    <tr>\n      <th>4</th>\n      <td>0.046</td>\n      <td>0.000</td>\n    </tr>\n    <tr>\n      <th>...</th>\n      <td>...</td>\n      <td>...</td>\n    </tr>\n    <tr>\n      <th>119</th>\n      <td>0.039</td>\n      <td>0.000</td>\n    </tr>\n    <tr>\n      <th>120</th>\n      <td>0.040</td>\n      <td>0.000</td>\n    </tr>\n    <tr>\n      <th>121</th>\n      <td>0.043</td>\n      <td>0.000</td>\n    </tr>\n    <tr>\n      <th>122</th>\n      <td>0.046</td>\n      <td>0.020</td>\n    </tr>\n    <tr>\n      <th>123</th>\n      <td>0.039</td>\n      <td>0.000</td>\n    </tr>\n  </tbody>\n</table>\n<p>17856 rows × 2 columns</p>\n</div>"
     },
     "metadata": {},
     "execution_count": 28
    }
   ],
   "source": [
    "ele_x"
   ]
  },
  {
   "cell_type": "code",
   "execution_count": 29,
   "metadata": {},
   "outputs": [],
   "source": [
    "ele_x['hour'] = 3"
   ]
  },
  {
   "cell_type": "code",
   "execution_count": 30,
   "metadata": {},
   "outputs": [],
   "source": [
    "num = []\n",
    "for a in range(0,24) :\n",
    "    num.append(a)\n",
    "    num.append(a)\n",
    "    num.append(a)\n",
    "    num.append(a)\n",
    "    num.append(a)\n",
    "    num.append(a)"
   ]
  },
  {
   "cell_type": "code",
   "execution_count": 31,
   "metadata": {},
   "outputs": [
    {
     "output_type": "stream",
     "name": "stdout",
     "text": [
      "17856\n"
     ]
    }
   ],
   "source": [
    "print(ele_x['x'].count())"
   ]
  },
  {
   "cell_type": "code",
   "execution_count": 32,
   "metadata": {
    "tags": []
   },
   "outputs": [],
   "source": [
    "cnt3 = 0\n",
    "for b in range(ele_x['x'].count()) :\n",
    "    ele_x.iloc[b, 2] = num[cnt3]\n",
    "    cnt3 += 1\n",
    "    if cnt3 == 144 :\n",
    "        cnt3 = 0"
   ]
  },
  {
   "cell_type": "code",
   "execution_count": 33,
   "metadata": {},
   "outputs": [
    {
     "output_type": "execute_result",
     "data": {
      "text/plain": [
       "         x      y  hour\n",
       "0    0.000  0.034     0\n",
       "1    0.042  0.000     0\n",
       "2    0.035  0.000     0\n",
       "3    0.031  0.000     0\n",
       "4    0.046  0.000     0\n",
       "..     ...    ...   ...\n",
       "119  0.039  0.000    23\n",
       "120  0.040  0.000    23\n",
       "121  0.043  0.000    23\n",
       "122  0.046  0.020    23\n",
       "123  0.039  0.000    23\n",
       "\n",
       "[17856 rows x 3 columns]"
      ],
      "text/html": "<div>\n<style scoped>\n    .dataframe tbody tr th:only-of-type {\n        vertical-align: middle;\n    }\n\n    .dataframe tbody tr th {\n        vertical-align: top;\n    }\n\n    .dataframe thead th {\n        text-align: right;\n    }\n</style>\n<table border=\"1\" class=\"dataframe\">\n  <thead>\n    <tr style=\"text-align: right;\">\n      <th></th>\n      <th>x</th>\n      <th>y</th>\n      <th>hour</th>\n    </tr>\n  </thead>\n  <tbody>\n    <tr>\n      <th>0</th>\n      <td>0.000</td>\n      <td>0.034</td>\n      <td>0</td>\n    </tr>\n    <tr>\n      <th>1</th>\n      <td>0.042</td>\n      <td>0.000</td>\n      <td>0</td>\n    </tr>\n    <tr>\n      <th>2</th>\n      <td>0.035</td>\n      <td>0.000</td>\n      <td>0</td>\n    </tr>\n    <tr>\n      <th>3</th>\n      <td>0.031</td>\n      <td>0.000</td>\n      <td>0</td>\n    </tr>\n    <tr>\n      <th>4</th>\n      <td>0.046</td>\n      <td>0.000</td>\n      <td>0</td>\n    </tr>\n    <tr>\n      <th>...</th>\n      <td>...</td>\n      <td>...</td>\n      <td>...</td>\n    </tr>\n    <tr>\n      <th>119</th>\n      <td>0.039</td>\n      <td>0.000</td>\n      <td>23</td>\n    </tr>\n    <tr>\n      <th>120</th>\n      <td>0.040</td>\n      <td>0.000</td>\n      <td>23</td>\n    </tr>\n    <tr>\n      <th>121</th>\n      <td>0.043</td>\n      <td>0.000</td>\n      <td>23</td>\n    </tr>\n    <tr>\n      <th>122</th>\n      <td>0.046</td>\n      <td>0.020</td>\n      <td>23</td>\n    </tr>\n    <tr>\n      <th>123</th>\n      <td>0.039</td>\n      <td>0.000</td>\n      <td>23</td>\n    </tr>\n  </tbody>\n</table>\n<p>17856 rows × 3 columns</p>\n</div>"
     },
     "metadata": {},
     "execution_count": 33
    }
   ],
   "source": [
    "ele_x"
   ]
  },
  {
   "cell_type": "code",
   "execution_count": 34,
   "metadata": {},
   "outputs": [],
   "source": [
    "ele_y = ele_x.iloc[:, 1]\n",
    "ele_X = ele_x.iloc[:, [0,2]]\n"
   ]
  },
  {
   "cell_type": "code",
   "execution_count": 35,
   "metadata": {},
   "outputs": [],
   "source": [
    "ele_Y = ele_y"
   ]
  },
  {
   "cell_type": "code",
   "execution_count": 56,
   "metadata": {},
   "outputs": [
    {
     "output_type": "stream",
     "name": "stderr",
     "text": [
      "/Users/kimtaegyu/opt/anaconda3/lib/python3.8/site-packages/pandas/core/indexing.py:670: SettingWithCopyWarning: \nA value is trying to be set on a copy of a slice from a DataFrame\n\nSee the caveats in the documentation: https://pandas.pydata.org/pandas-docs/stable/user_guide/indexing.html#returning-a-view-versus-a-copy\n  iloc._setitem_with_indexer(indexer, value)\n"
     ]
    }
   ],
   "source": [
    "for i in range(ele_x['x'].count()) :\n",
    "    if ele_y.iloc[i] > 0.020 :\n",
    "        ele_Y.iloc[i] = 1\n",
    "    else :\n",
    "        ele_Y.iloc[i] = 0"
   ]
  },
  {
   "cell_type": "code",
   "execution_count": 57,
   "metadata": {},
   "outputs": [
    {
     "output_type": "execute_result",
     "data": {
      "text/plain": [
       "0      1.0\n",
       "1      0.0\n",
       "2      0.0\n",
       "3      0.0\n",
       "4      0.0\n",
       "      ... \n",
       "119    0.0\n",
       "120    0.0\n",
       "121    0.0\n",
       "122    1.0\n",
       "123    0.0\n",
       "Name: y, Length: 17856, dtype: float64"
      ]
     },
     "metadata": {},
     "execution_count": 57
    }
   ],
   "source": [
    "ele_Y"
   ]
  },
  {
   "cell_type": "code",
   "execution_count": 58,
   "metadata": {},
   "outputs": [],
   "source": [
    "import numpy as np\n",
    "from sklearn.model_selection import train_test_split"
   ]
  },
  {
   "cell_type": "code",
   "execution_count": 59,
   "metadata": {},
   "outputs": [],
   "source": [
    "X_train, X_test, y_train, y_test = train_test_split(ele_X, ele_Y, test_size=0.2, random_state=42)"
   ]
  },
  {
   "cell_type": "code",
   "execution_count": 60,
   "metadata": {},
   "outputs": [],
   "source": [
    "from sklearn import tree\n",
    "clf = tree.DecisionTreeClassifier()\n",
    "clf = clf.fit(X_train, y_train)"
   ]
  },
  {
   "cell_type": "code",
   "execution_count": 61,
   "metadata": {},
   "outputs": [],
   "source": [
    "from sklearn.ensemble import RandomForestClassifier\n",
    "clf = RandomForestClassifier()\n",
    "clf = clf.fit(ele_X, ele_y)"
   ]
  },
  {
   "cell_type": "code",
   "execution_count": 62,
   "metadata": {},
   "outputs": [],
   "source": [
    "pred = clf.predict(X_test)"
   ]
  },
  {
   "cell_type": "code",
   "execution_count": 63,
   "metadata": {},
   "outputs": [],
   "source": [
    "from sklearn.metrics import accuracy_score, precision_score, recall_score, confusion_matrix, classification_report"
   ]
  },
  {
   "cell_type": "code",
   "execution_count": 64,
   "metadata": {},
   "outputs": [],
   "source": [
    "# # 12. 모델 학습\n",
    "# from sklearn.ensemble import RandomForestClassifier\n",
    "# from sklearn.ensemble import VotingClassifier\n",
    "# from sklearn.linear_model import LogisticRegression, RidgeClassifier\n",
    "# from xgboost import XGBClassifier \n",
    "# from sklearn.svm import SVC \n",
    "# from sklearn.ensemble import GradientBoostingClassifier\n",
    "\n",
    "# from sklearn.model_selection import GridSearchCV\n",
    "# from sklearn.linear_model import SGDClassifier\n",
    "# from sklearn.neighbors import KNeighborsClassifier"
   ]
  },
  {
   "cell_type": "code",
   "execution_count": 65,
   "metadata": {},
   "outputs": [
    {
     "output_type": "stream",
     "name": "stdout",
     "text": [
      "0.9935610302351624 0.6101694915254238 1.0\n"
     ]
    }
   ],
   "source": [
    "print(accuracy_score(pred, y_test), precision_score(pred, y_test), recall_score(pred, y_test))"
   ]
  },
  {
   "cell_type": "code",
   "execution_count": 66,
   "metadata": {},
   "outputs": [
    {
     "output_type": "error",
     "ename": "NameError",
     "evalue": "name 'models' is not defined",
     "traceback": [
      "\u001b[0;31m---------------------------------------------------------------------------\u001b[0m",
      "\u001b[0;31mNameError\u001b[0m                                 Traceback (most recent call last)",
      "\u001b[0;32m<ipython-input-66-6a49753ad7d7>\u001b[0m in \u001b[0;36m<module>\u001b[0;34m\u001b[0m\n\u001b[0;32m----> 1\u001b[0;31m \u001b[0mvc\u001b[0m \u001b[0;34m=\u001b[0m \u001b[0mVotingClassifier\u001b[0m\u001b[0;34m(\u001b[0m\u001b[0mmodels\u001b[0m\u001b[0;34m,\u001b[0m \u001b[0mvoting\u001b[0m\u001b[0;34m=\u001b[0m\u001b[0;34m'hard'\u001b[0m\u001b[0;34m)\u001b[0m\u001b[0;34m\u001b[0m\u001b[0;34m\u001b[0m\u001b[0m\n\u001b[0m\u001b[1;32m      2\u001b[0m \u001b[0mvc\u001b[0m\u001b[0;34m.\u001b[0m\u001b[0mfit\u001b[0m\u001b[0;34m(\u001b[0m\u001b[0mele_X\u001b[0m\u001b[0;34m,\u001b[0m \u001b[0mele_y\u001b[0m\u001b[0;34m)\u001b[0m\u001b[0;34m\u001b[0m\u001b[0;34m\u001b[0m\u001b[0m\n\u001b[1;32m      3\u001b[0m \u001b[0mpredicted\u001b[0m \u001b[0;34m=\u001b[0m \u001b[0mvc\u001b[0m\u001b[0;34m.\u001b[0m\u001b[0mpredict\u001b[0m\u001b[0;34m(\u001b[0m\u001b[0mtest_x\u001b[0m\u001b[0;34m)\u001b[0m\u001b[0;34m\u001b[0m\u001b[0;34m\u001b[0m\u001b[0m\n",
      "\u001b[0;31mNameError\u001b[0m: name 'models' is not defined"
     ]
    }
   ],
   "source": [
    "# vc = VotingClassifier(models, voting='hard')\n",
    "# vc.fit(ele_X, ele_y)\n",
    "# predicted = vc.predict(test_x)"
   ]
  },
  {
   "cell_type": "code",
   "execution_count": 67,
   "metadata": {},
   "outputs": [
    {
     "output_type": "stream",
     "name": "stdout",
     "text": [
      "              precision    recall  f1-score   support\n\n         0.0       1.00      0.99      1.00      3536\n         1.0       0.61      1.00      0.76        36\n\n    accuracy                           0.99      3572\n   macro avg       0.81      1.00      0.88      3572\nweighted avg       1.00      0.99      0.99      3572\n\n"
     ]
    }
   ],
   "source": [
    "print(classification_report(pred, y_test))"
   ]
  }
 ],
 "metadata": {
  "kernelspec": {
   "name": "python385jvsc74a57bd0c80ad821a8c76b04e13427ecc37a34ddaf23b8bd60062d2b974be1801a771519",
   "display_name": "Python 3.8.5 64-bit ('base': conda)"
  },
  "language_info": {
   "codemirror_mode": {
    "name": "ipython",
    "version": 3
   },
   "file_extension": ".py",
   "mimetype": "text/x-python",
   "name": "python",
   "nbconvert_exporter": "python",
   "pygments_lexer": "ipython3",
   "version": "3.8.5"
  },
  "interpreter": {
   "hash": "183bbf6827d058c2a2fb0f4acdc0420849dda2b4380af0e437e38c64d798d8b7"
  },
  "metadata": {
   "interpreter": {
    "hash": "c80ad821a8c76b04e13427ecc37a34ddaf23b8bd60062d2b974be1801a771519"
   }
  }
 },
 "nbformat": 4,
 "nbformat_minor": 4
}