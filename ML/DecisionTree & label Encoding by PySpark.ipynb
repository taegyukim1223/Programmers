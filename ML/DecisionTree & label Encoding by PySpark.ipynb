{
 "cells": [
  {
   "cell_type": "code",
   "execution_count": 1,
   "id": "26f6b80f",
   "metadata": {},
   "outputs": [],
   "source": [
    "from pyspark.mllib.tree import DecisionTree, DecisionTreeModel"
   ]
  },
  {
   "cell_type": "code",
   "execution_count": 20,
   "id": "036ae6c5",
   "metadata": {},
   "outputs": [],
   "source": [
    "indexed = spark.read.csv(\"playtennis.csv\", header = True)"
   ]
  },
  {
   "cell_type": "code",
   "execution_count": 3,
   "id": "c4f5e1cd",
   "metadata": {},
   "outputs": [
    {
     "data": {
      "text/plain": [
       "pyspark.sql.dataframe.DataFrame"
      ]
     },
     "execution_count": 3,
     "metadata": {},
     "output_type": "execute_result"
    }
   ],
   "source": [
    "type(df)"
   ]
  },
  {
   "cell_type": "code",
   "execution_count": 21,
   "id": "76095731",
   "metadata": {},
   "outputs": [
    {
     "name": "stdout",
     "output_type": "stream",
     "text": [
      "+--------+-----------+--------+------+----------+\n",
      "| Outlook|Temperature|Humidity|  Wind|PlayTennis|\n",
      "+--------+-----------+--------+------+----------+\n",
      "|   Sunny|        Hot|    High|  Weak|        No|\n",
      "|   Sunny|        Hot|    High|Strong|        No|\n",
      "|Overcast|        Hot|    High|  Weak|       Yes|\n",
      "|    Rain|       Mild|    High|  Weak|       Yes|\n",
      "|    Rain|       Cool|  Normal|  Weak|       Yes|\n",
      "|    Rain|       Cool|  Normal|Strong|        No|\n",
      "|Overcast|       Cool|  Normal|Strong|       Yes|\n",
      "|   Sunny|       Mild|    High|  Weak|        No|\n",
      "|   Sunny|       Cool|  Normal|  Weak|       Yes|\n",
      "|    Rain|       Mild|  Normal|  Weak|       Yes|\n",
      "|   Sunny|       Mild|  Normal|Strong|       Yes|\n",
      "|Overcast|       Mild|    High|Strong|       Yes|\n",
      "|Overcast|        Hot|  Normal|  Weak|       Yes|\n",
      "|    Rain|       Mild|    High|Strong|        No|\n",
      "+--------+-----------+--------+------+----------+\n",
      "\n"
     ]
    }
   ],
   "source": [
    "indexed.show()"
   ]
  },
  {
   "cell_type": "code",
   "execution_count": 5,
   "id": "9a421b7f",
   "metadata": {},
   "outputs": [],
   "source": [
    "from pyspark.sql import functions as F"
   ]
  },
  {
   "cell_type": "code",
   "execution_count": 6,
   "id": "7d735036",
   "metadata": {
    "scrolled": true
   },
   "outputs": [
    {
     "name": "stdout",
     "output_type": "stream",
     "text": [
      "root\n",
      " |-- Outlook: string (nullable = true)\n",
      " |-- Temperature: string (nullable = true)\n",
      " |-- Humidity: string (nullable = true)\n",
      " |-- Wind: string (nullable = true)\n",
      " |-- PlayTennis: string (nullable = true)\n",
      "\n"
     ]
    }
   ],
   "source": [
    "df.printSchema()"
   ]
  },
  {
   "cell_type": "code",
   "execution_count": 46,
   "id": "1b615fcb",
   "metadata": {},
   "outputs": [
    {
     "data": {
      "text/plain": [
       "['Outlook',\n",
       " 'Temperature',\n",
       " 'Humidity',\n",
       " 'Wind',\n",
       " 'PlayTennis',\n",
       " 'Outlook_indexed',\n",
       " 'Temperature_indexed',\n",
       " 'Humidity_indexed',\n",
       " 'Wind_indexed',\n",
       " 'PlayTennis_indexed']"
      ]
     },
     "execution_count": 46,
     "metadata": {},
     "output_type": "execute_result"
    }
   ],
   "source": [
    "indexed.columns"
   ]
  },
  {
   "cell_type": "code",
   "execution_count": 23,
   "id": "c28685ba",
   "metadata": {
    "scrolled": true
   },
   "outputs": [
    {
     "name": "stdout",
     "output_type": "stream",
     "text": [
      "+--------+-----------+--------+------+----------+---------------+-------------------+----------------+------------+------------------+\n",
      "| Outlook|Temperature|Humidity|  Wind|PlayTennis|Outlook_indexed|Temperature_indexed|Humidity_indexed|Wind_indexed|PlayTennis_indexed|\n",
      "+--------+-----------+--------+------+----------+---------------+-------------------+----------------+------------+------------------+\n",
      "|   Sunny|        Hot|    High|  Weak|        No|            0.0|                1.0|             0.0|         0.0|               1.0|\n",
      "|   Sunny|        Hot|    High|Strong|        No|            0.0|                1.0|             0.0|         1.0|               1.0|\n",
      "|Overcast|        Hot|    High|  Weak|       Yes|            2.0|                1.0|             0.0|         0.0|               0.0|\n",
      "|    Rain|       Mild|    High|  Weak|       Yes|            1.0|                0.0|             0.0|         0.0|               0.0|\n",
      "|    Rain|       Cool|  Normal|  Weak|       Yes|            1.0|                2.0|             1.0|         0.0|               0.0|\n",
      "|    Rain|       Cool|  Normal|Strong|        No|            1.0|                2.0|             1.0|         1.0|               1.0|\n",
      "|Overcast|       Cool|  Normal|Strong|       Yes|            2.0|                2.0|             1.0|         1.0|               0.0|\n",
      "|   Sunny|       Mild|    High|  Weak|        No|            0.0|                0.0|             0.0|         0.0|               1.0|\n",
      "|   Sunny|       Cool|  Normal|  Weak|       Yes|            0.0|                2.0|             1.0|         0.0|               0.0|\n",
      "|    Rain|       Mild|  Normal|  Weak|       Yes|            1.0|                0.0|             1.0|         0.0|               0.0|\n",
      "|   Sunny|       Mild|  Normal|Strong|       Yes|            0.0|                0.0|             1.0|         1.0|               0.0|\n",
      "|Overcast|       Mild|    High|Strong|       Yes|            2.0|                0.0|             0.0|         1.0|               0.0|\n",
      "|Overcast|        Hot|  Normal|  Weak|       Yes|            2.0|                1.0|             1.0|         0.0|               0.0|\n",
      "|    Rain|       Mild|    High|Strong|        No|            1.0|                0.0|             0.0|         1.0|               1.0|\n",
      "+--------+-----------+--------+------+----------+---------------+-------------------+----------------+------------+------------------+\n",
      "\n"
     ]
    }
   ],
   "source": [
    "\n",
    "from pyspark.ml.feature import StringIndexer\n",
    "\n",
    "# 이름을 하나하나 안넣어주고 indexed.columns 해주면 됩니다.\n",
    "categorical_columns= ['Outlook','Temperature', 'Humidity','Wind', 'PlayTennis']\n",
    "\n",
    "indexers = [\n",
    "    StringIndexer(inputCol=c, outputCol=\"{}_indexed\".format(c))\n",
    "    for c in categorical_columns\n",
    "]\n",
    "\n",
    "for indexer in indexers :\n",
    "    indexed = indexer.fit(indexed).transform(indexed)\n",
    "    \n",
    "indexed.show()"
   ]
  },
  {
   "cell_type": "code",
   "execution_count": 26,
   "id": "52974d8a",
   "metadata": {},
   "outputs": [],
   "source": [
    "from pyspark.ml.feature import VectorAssembler\n",
    "assembler = VectorAssembler(inputCols = ['Outlook_indexed','Temperature_indexed', 'Humidity_indexed','Wind_indexed'], outputCol = 'features')"
   ]
  },
  {
   "cell_type": "code",
   "execution_count": 27,
   "id": "dafc0c26",
   "metadata": {},
   "outputs": [
    {
     "name": "stdout",
     "output_type": "stream",
     "text": [
      "+--------+-----------+--------+------+----------+---------------+-------------------+----------------+------------+------------------+-----------------+\n",
      "| Outlook|Temperature|Humidity|  Wind|PlayTennis|Outlook_indexed|Temperature_indexed|Humidity_indexed|Wind_indexed|PlayTennis_indexed|         features|\n",
      "+--------+-----------+--------+------+----------+---------------+-------------------+----------------+------------+------------------+-----------------+\n",
      "|   Sunny|        Hot|    High|  Weak|        No|            0.0|                1.0|             0.0|         0.0|               1.0|    (4,[1],[1.0])|\n",
      "|   Sunny|        Hot|    High|Strong|        No|            0.0|                1.0|             0.0|         1.0|               1.0|[0.0,1.0,0.0,1.0]|\n",
      "|Overcast|        Hot|    High|  Weak|       Yes|            2.0|                1.0|             0.0|         0.0|               0.0|[2.0,1.0,0.0,0.0]|\n",
      "|    Rain|       Mild|    High|  Weak|       Yes|            1.0|                0.0|             0.0|         0.0|               0.0|    (4,[0],[1.0])|\n",
      "|    Rain|       Cool|  Normal|  Weak|       Yes|            1.0|                2.0|             1.0|         0.0|               0.0|[1.0,2.0,1.0,0.0]|\n",
      "|    Rain|       Cool|  Normal|Strong|        No|            1.0|                2.0|             1.0|         1.0|               1.0|[1.0,2.0,1.0,1.0]|\n",
      "|Overcast|       Cool|  Normal|Strong|       Yes|            2.0|                2.0|             1.0|         1.0|               0.0|[2.0,2.0,1.0,1.0]|\n",
      "|   Sunny|       Mild|    High|  Weak|        No|            0.0|                0.0|             0.0|         0.0|               1.0|        (4,[],[])|\n",
      "|   Sunny|       Cool|  Normal|  Weak|       Yes|            0.0|                2.0|             1.0|         0.0|               0.0|[0.0,2.0,1.0,0.0]|\n",
      "|    Rain|       Mild|  Normal|  Weak|       Yes|            1.0|                0.0|             1.0|         0.0|               0.0|[1.0,0.0,1.0,0.0]|\n",
      "|   Sunny|       Mild|  Normal|Strong|       Yes|            0.0|                0.0|             1.0|         1.0|               0.0|[0.0,0.0,1.0,1.0]|\n",
      "|Overcast|       Mild|    High|Strong|       Yes|            2.0|                0.0|             0.0|         1.0|               0.0|[2.0,0.0,0.0,1.0]|\n",
      "|Overcast|        Hot|  Normal|  Weak|       Yes|            2.0|                1.0|             1.0|         0.0|               0.0|[2.0,1.0,1.0,0.0]|\n",
      "|    Rain|       Mild|    High|Strong|        No|            1.0|                0.0|             0.0|         1.0|               1.0|[1.0,0.0,0.0,1.0]|\n",
      "+--------+-----------+--------+------+----------+---------------+-------------------+----------------+------------+------------------+-----------------+\n",
      "\n"
     ]
    }
   ],
   "source": [
    "assemble_indexer = assembler.transform(indexed)\n",
    "assemble_indexer.show()"
   ]
  },
  {
   "cell_type": "code",
   "execution_count": 35,
   "id": "8bcd6ea4",
   "metadata": {},
   "outputs": [],
   "source": [
    "df = assemble_indexer['Outlook_indexed','Temperature_indexed', 'Humidity_indexed','Wind_indexed', 'PlayTennis_indexed', 'features']"
   ]
  },
  {
   "cell_type": "code",
   "execution_count": 36,
   "id": "a37f3c5e",
   "metadata": {},
   "outputs": [
    {
     "name": "stdout",
     "output_type": "stream",
     "text": [
      "+---------------+-------------------+----------------+------------+------------------+-----------------+\n",
      "|Outlook_indexed|Temperature_indexed|Humidity_indexed|Wind_indexed|PlayTennis_indexed|         features|\n",
      "+---------------+-------------------+----------------+------------+------------------+-----------------+\n",
      "|            0.0|                1.0|             0.0|         0.0|               1.0|    (4,[1],[1.0])|\n",
      "|            0.0|                1.0|             0.0|         1.0|               1.0|[0.0,1.0,0.0,1.0]|\n",
      "|            2.0|                1.0|             0.0|         0.0|               0.0|[2.0,1.0,0.0,0.0]|\n",
      "|            1.0|                0.0|             0.0|         0.0|               0.0|    (4,[0],[1.0])|\n",
      "|            1.0|                2.0|             1.0|         0.0|               0.0|[1.0,2.0,1.0,0.0]|\n",
      "|            1.0|                2.0|             1.0|         1.0|               1.0|[1.0,2.0,1.0,1.0]|\n",
      "|            2.0|                2.0|             1.0|         1.0|               0.0|[2.0,2.0,1.0,1.0]|\n",
      "|            0.0|                0.0|             0.0|         0.0|               1.0|        (4,[],[])|\n",
      "|            0.0|                2.0|             1.0|         0.0|               0.0|[0.0,2.0,1.0,0.0]|\n",
      "|            1.0|                0.0|             1.0|         0.0|               0.0|[1.0,0.0,1.0,0.0]|\n",
      "|            0.0|                0.0|             1.0|         1.0|               0.0|[0.0,0.0,1.0,1.0]|\n",
      "|            2.0|                0.0|             0.0|         1.0|               0.0|[2.0,0.0,0.0,1.0]|\n",
      "|            2.0|                1.0|             1.0|         0.0|               0.0|[2.0,1.0,1.0,0.0]|\n",
      "|            1.0|                0.0|             0.0|         1.0|               1.0|[1.0,0.0,0.0,1.0]|\n",
      "+---------------+-------------------+----------------+------------+------------------+-----------------+\n",
      "\n"
     ]
    }
   ],
   "source": [
    "df.show()"
   ]
  },
  {
   "cell_type": "code",
   "execution_count": 37,
   "id": "f136465c",
   "metadata": {},
   "outputs": [],
   "source": [
    "(train_data, test_data) = df.randomSplit([0.7, 0.3])"
   ]
  },
  {
   "cell_type": "code",
   "execution_count": 38,
   "id": "0c854adc",
   "metadata": {},
   "outputs": [
    {
     "name": "stdout",
     "output_type": "stream",
     "text": [
      "+---------------+-------------------+----------------+------------+------------------+-----------------+\n",
      "|Outlook_indexed|Temperature_indexed|Humidity_indexed|Wind_indexed|PlayTennis_indexed|         features|\n",
      "+---------------+-------------------+----------------+------------+------------------+-----------------+\n",
      "|            0.0|                0.0|             0.0|         0.0|               1.0|        (4,[],[])|\n",
      "|            0.0|                0.0|             1.0|         1.0|               0.0|[0.0,0.0,1.0,1.0]|\n",
      "|            1.0|                0.0|             0.0|         0.0|               0.0|    (4,[0],[1.0])|\n",
      "|            1.0|                0.0|             0.0|         1.0|               1.0|[1.0,0.0,0.0,1.0]|\n",
      "|            1.0|                0.0|             1.0|         0.0|               0.0|[1.0,0.0,1.0,0.0]|\n",
      "|            1.0|                2.0|             1.0|         0.0|               0.0|[1.0,2.0,1.0,0.0]|\n",
      "|            1.0|                2.0|             1.0|         1.0|               1.0|[1.0,2.0,1.0,1.0]|\n",
      "|            2.0|                0.0|             0.0|         1.0|               0.0|[2.0,0.0,0.0,1.0]|\n",
      "|            2.0|                1.0|             1.0|         0.0|               0.0|[2.0,1.0,1.0,0.0]|\n",
      "|            2.0|                2.0|             1.0|         1.0|               0.0|[2.0,2.0,1.0,1.0]|\n",
      "+---------------+-------------------+----------------+------------+------------------+-----------------+\n",
      "\n"
     ]
    }
   ],
   "source": [
    "train_data.show()"
   ]
  },
  {
   "cell_type": "code",
   "execution_count": 39,
   "id": "5fd74118",
   "metadata": {},
   "outputs": [],
   "source": [
    "from pyspark.ml.classification import DecisionTreeClassifier"
   ]
  },
  {
   "cell_type": "code",
   "execution_count": 41,
   "id": "264dd478",
   "metadata": {},
   "outputs": [],
   "source": [
    "dt = DecisionTreeClassifier(featuresCol = \"features\", labelCol = \"PlayTennis_indexed\")"
   ]
  },
  {
   "cell_type": "code",
   "execution_count": 42,
   "id": "a5fa77d7",
   "metadata": {},
   "outputs": [],
   "source": [
    "dtmodel = dt.fit(train_data)"
   ]
  },
  {
   "cell_type": "code",
   "execution_count": 43,
   "id": "f404d823",
   "metadata": {},
   "outputs": [
    {
     "data": {
      "text/plain": [
       "DecisionTreeClassificationModel (uid=DecisionTreeClassifier_9e1cebc2a5d0) of depth 4 with 13 nodes"
      ]
     },
     "execution_count": 43,
     "metadata": {},
     "output_type": "execute_result"
    }
   ],
   "source": [
    "dtmodel"
   ]
  },
  {
   "cell_type": "code",
   "execution_count": 44,
   "id": "8b807d0b",
   "metadata": {},
   "outputs": [],
   "source": [
    "prediction = dtmodel.transform(test_data)"
   ]
  },
  {
   "cell_type": "code",
   "execution_count": 45,
   "id": "f9df133d",
   "metadata": {},
   "outputs": [
    {
     "name": "stdout",
     "output_type": "stream",
     "text": [
      "+---------------+-------------------+----------------+------------+------------------+-----------------+-------------+-----------+----------+\n",
      "|Outlook_indexed|Temperature_indexed|Humidity_indexed|Wind_indexed|PlayTennis_indexed|         features|rawPrediction|probability|prediction|\n",
      "+---------------+-------------------+----------------+------------+------------------+-----------------+-------------+-----------+----------+\n",
      "|            0.0|                1.0|             0.0|         0.0|               1.0|    (4,[1],[1.0])|    [0.0,1.0]|  [0.0,1.0]|       1.0|\n",
      "|            0.0|                1.0|             0.0|         1.0|               1.0|[0.0,1.0,0.0,1.0]|    [0.0,1.0]|  [0.0,1.0]|       1.0|\n",
      "|            0.0|                2.0|             1.0|         0.0|               0.0|[0.0,2.0,1.0,0.0]|    [1.0,0.0]|  [1.0,0.0]|       0.0|\n",
      "|            2.0|                1.0|             0.0|         0.0|               0.0|[2.0,1.0,0.0,0.0]|    [3.0,0.0]|  [1.0,0.0]|       0.0|\n",
      "+---------------+-------------------+----------------+------------+------------------+-----------------+-------------+-----------+----------+\n",
      "\n"
     ]
    }
   ],
   "source": [
    "prediction.show()"
   ]
  },
  {
   "cell_type": "code",
   "execution_count": 47,
   "id": "55aee1eb",
   "metadata": {},
   "outputs": [],
   "source": [
    "right_predict = prediction.filter(prediction.PlayTennis_indexed == prediction.prediction)"
   ]
  },
  {
   "cell_type": "code",
   "execution_count": 48,
   "id": "e99920e5",
   "metadata": {},
   "outputs": [
    {
     "name": "stdout",
     "output_type": "stream",
     "text": [
      "+---------------+-------------------+----------------+------------+------------------+-----------------+-------------+-----------+----------+\n",
      "|Outlook_indexed|Temperature_indexed|Humidity_indexed|Wind_indexed|PlayTennis_indexed|         features|rawPrediction|probability|prediction|\n",
      "+---------------+-------------------+----------------+------------+------------------+-----------------+-------------+-----------+----------+\n",
      "|            0.0|                1.0|             0.0|         0.0|               1.0|    (4,[1],[1.0])|    [0.0,1.0]|  [0.0,1.0]|       1.0|\n",
      "|            0.0|                1.0|             0.0|         1.0|               1.0|[0.0,1.0,0.0,1.0]|    [0.0,1.0]|  [0.0,1.0]|       1.0|\n",
      "|            0.0|                2.0|             1.0|         0.0|               0.0|[0.0,2.0,1.0,0.0]|    [1.0,0.0]|  [1.0,0.0]|       0.0|\n",
      "|            2.0|                1.0|             0.0|         0.0|               0.0|[2.0,1.0,0.0,0.0]|    [3.0,0.0]|  [1.0,0.0]|       0.0|\n",
      "+---------------+-------------------+----------------+------------+------------------+-----------------+-------------+-----------+----------+\n",
      "\n"
     ]
    }
   ],
   "source": [
    "right_predict.show()"
   ]
  },
  {
   "cell_type": "code",
   "execution_count": 49,
   "id": "34c3bdd1",
   "metadata": {},
   "outputs": [
    {
     "data": {
      "text/plain": [
       "4"
      ]
     },
     "execution_count": 49,
     "metadata": {},
     "output_type": "execute_result"
    }
   ],
   "source": [
    "right_predict.count()"
   ]
  },
  {
   "cell_type": "code",
   "execution_count": 50,
   "id": "88997502",
   "metadata": {},
   "outputs": [
    {
     "data": {
      "text/plain": [
       "4"
      ]
     },
     "execution_count": 50,
     "metadata": {},
     "output_type": "execute_result"
    }
   ],
   "source": [
    "prediction.count()"
   ]
  },
  {
   "cell_type": "code",
   "execution_count": 51,
   "id": "3c636d1a",
   "metadata": {},
   "outputs": [
    {
     "data": {
      "text/plain": [
       "1.0"
      ]
     },
     "execution_count": 51,
     "metadata": {},
     "output_type": "execute_result"
    }
   ],
   "source": [
    "# 정답률\n",
    "right_predict.count() / prediction.count()"
   ]
  },
  {
   "cell_type": "code",
   "execution_count": null,
   "id": "b2f03d48",
   "metadata": {},
   "outputs": [],
   "source": []
  }
 ],
 "metadata": {
  "kernelspec": {
   "display_name": "Python 3",
   "language": "python",
   "name": "python3"
  },
  "language_info": {
   "codemirror_mode": {
    "name": "ipython",
    "version": 3
   },
   "file_extension": ".py",
   "mimetype": "text/x-python",
   "name": "python",
   "nbconvert_exporter": "python",
   "pygments_lexer": "ipython3",
   "version": "3.6.13"
  }
 },
 "nbformat": 4,
 "nbformat_minor": 5
}
