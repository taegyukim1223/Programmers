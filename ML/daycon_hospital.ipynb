{
 "metadata": {
  "language_info": {
   "codemirror_mode": {
    "name": "ipython",
    "version": 3
   },
   "file_extension": ".py",
   "mimetype": "text/x-python",
   "name": "python",
   "nbconvert_exporter": "python",
   "pygments_lexer": "ipython3",
   "version": "3.9.2-final"
  },
  "orig_nbformat": 2,
  "kernelspec": {
   "name": "python3",
   "display_name": "Python 3.9.2 64-bit",
   "metadata": {
    "interpreter": {
     "hash": "63fd5069d213b44bf678585dea6b12cceca9941eaf7f819626cde1f2670de90d"
    }
   }
  }
 },
 "nbformat": 4,
 "nbformat_minor": 2,
 "cells": [
  {
   "cell_type": "code",
   "execution_count": 1,
   "metadata": {},
   "outputs": [],
   "source": [
    "import numpy as np\n",
    "import pandas as pd\n",
    "import matplotlib.pyplot as plt\n",
    "from sklearn.preprocessing import LabelEncoder\n",
    "from sklearn.ensemble import RandomForestClassifier"
   ]
  },
  {
   "cell_type": "code",
   "execution_count": 2,
   "metadata": {},
   "outputs": [],
   "source": [
    "train_df = pd.read_csv('train.csv')\n",
    "test_df = pd.read_csv('test.csv')"
   ]
  },
  {
   "cell_type": "code",
   "execution_count": 3,
   "metadata": {},
   "outputs": [],
   "source": [
    "test_df[\"employee1\"] = train_df[\"employee1\"].astype(\"str\").str.replace(\",\", \"\").astype(\"float\")\n",
    "test_df[\"employee2\"] = train_df[\"employee2\"].astype(\"str\").str.replace(\",\", \"\").astype(\"float\")"
   ]
  },
  {
   "cell_type": "code",
   "execution_count": 4,
   "metadata": {},
   "outputs": [],
   "source": [
    "train_df[\"employee1\"] = train_df[\"employee1\"].astype(\"float\")\n",
    "train_df[\"employee2\"] = train_df[\"employee2\"].astype(\"float\")\n",
    "train_df[\"OC\"] = train_df[\"OC\"].astype(\"str\").str.replace(\" \", \"\")"
   ]
  },
  {
   "cell_type": "code",
   "execution_count": 5,
   "metadata": {},
   "outputs": [],
   "source": [
    "train_test_df = train_df.append(test_df)"
   ]
  },
  {
   "cell_type": "code",
   "execution_count": 6,
   "metadata": {},
   "outputs": [
    {
     "output_type": "execute_result",
     "data": {
      "text/plain": [
       "     inst_id     OC       sido  sgg  openDate  bedCount              instkind  \\\n",
       "0          1   open  choongnam   73  20071228     175.0      nursing_hospital   \n",
       "1          3   open  gyeongnam   32  19970401     410.0      general_hospital   \n",
       "2          4   open   gyeonggi   89  20161228     468.0      nursing_hospital   \n",
       "3          7   open    incheon  141  20000814     353.0      general_hospital   \n",
       "4          9   open  gyeongnam   32  20050901     196.0      general_hospital   \n",
       "..       ...    ...        ...  ...       ...       ...                   ...   \n",
       "296      422   open    jeonnam  178  20050211     214.0      nursing_hospital   \n",
       "297      423  close  choongnam  159  20140618       NaN              hospital   \n",
       "298      426  close  gyeongbuk  107  19830705       NaN              hospital   \n",
       "299      427  close   gyeonggi  169  20070101     180.0      nursing_hospital   \n",
       "300      428   open      seoul   79  20011017       NaN  traditional_hospital   \n",
       "\n",
       "         revenue1    salescost1          sga1  ...         debt2  \\\n",
       "0    4.217530e+09  0.000000e+00  3.961135e+09  ...  7.589937e+08   \n",
       "1             NaN           NaN           NaN  ...           NaN   \n",
       "2    1.004522e+09  5.154837e+08  4.472197e+08  ...  0.000000e+00   \n",
       "3    7.250734e+10  0.000000e+00  7.067740e+10  ...  3.775501e+10   \n",
       "4    4.904354e+10  0.000000e+00  4.765605e+10  ...  5.143259e+10   \n",
       "..            ...           ...           ...  ...           ...   \n",
       "296  7.614697e+09  4.153475e+08  5.903119e+09  ...  9.423771e+09   \n",
       "297  6.717144e+09  8.200000e+09  0.000000e+00  ...  0.000000e+00   \n",
       "298  0.000000e+00  0.000000e+00  5.479428e+07  ...  6.370097e+09   \n",
       "299  2.116892e+09  2.681748e+08  3.286245e+09  ...  6.392336e+08   \n",
       "300  1.340971e+09  8.108450e+08  5.043409e+08  ...  5.349000e+09   \n",
       "\n",
       "     liquidLiabilities2    shortLoan2  NCLiabilities2     longLoan2  \\\n",
       "0          2.228769e+08  0.000000e+00    5.361169e+08  3.900000e+08   \n",
       "1                   NaN           NaN             NaN           NaN   \n",
       "2          0.000000e+00  0.000000e+00    0.000000e+00  0.000000e+00   \n",
       "3          1.701860e+10  9.219427e+09    2.073641e+10  1.510000e+10   \n",
       "4          3.007259e+10  1.759375e+10    2.136001e+10  1.410803e+10   \n",
       "..                  ...           ...             ...           ...   \n",
       "296        2.618201e+09  0.000000e+00    6.805570e+09  5.930000e+09   \n",
       "297        0.000000e+00  0.000000e+00    0.000000e+00  0.000000e+00   \n",
       "298        2.170973e+09  0.000000e+00    4.199124e+09  2.498749e+09   \n",
       "299        6.400000e+09  0.000000e+00    0.000000e+00  0.000000e+00   \n",
       "300        3.123072e+09  0.000000e+00    2.225928e+09  2.190000e+09   \n",
       "\n",
       "        netAsset2      surplus2  employee1  employee2  ownerChange  \n",
       "0    2.619290e+09  1.271224e+09       62.0       64.0         same  \n",
       "1             NaN           NaN      801.0      813.0         same  \n",
       "2    0.000000e+00  0.000000e+00      234.0        1.0         same  \n",
       "3    1.295427e+10  7.740829e+09      663.0      663.0         same  \n",
       "4    5.561941e+06  9.025550e+09      206.0      197.0         same  \n",
       "..            ...           ...        ...        ...          ...  \n",
       "296  5.379502e+09  8.116416e+08      193.0      141.0         same  \n",
       "297  0.000000e+00  0.000000e+00       79.0       79.0         same  \n",
       "298  3.259161e+09  0.000000e+00        NaN        NaN          NaN  \n",
       "299  0.000000e+00  0.000000e+00      100.0        NaN          NaN  \n",
       "300  5.536178e+09  6.269440e+09       15.0       15.0         same  \n",
       "\n",
       "[301 rows x 58 columns]"
      ],
      "text/html": "<div>\n<style scoped>\n    .dataframe tbody tr th:only-of-type {\n        vertical-align: middle;\n    }\n\n    .dataframe tbody tr th {\n        vertical-align: top;\n    }\n\n    .dataframe thead th {\n        text-align: right;\n    }\n</style>\n<table border=\"1\" class=\"dataframe\">\n  <thead>\n    <tr style=\"text-align: right;\">\n      <th></th>\n      <th>inst_id</th>\n      <th>OC</th>\n      <th>sido</th>\n      <th>sgg</th>\n      <th>openDate</th>\n      <th>bedCount</th>\n      <th>instkind</th>\n      <th>revenue1</th>\n      <th>salescost1</th>\n      <th>sga1</th>\n      <th>...</th>\n      <th>debt2</th>\n      <th>liquidLiabilities2</th>\n      <th>shortLoan2</th>\n      <th>NCLiabilities2</th>\n      <th>longLoan2</th>\n      <th>netAsset2</th>\n      <th>surplus2</th>\n      <th>employee1</th>\n      <th>employee2</th>\n      <th>ownerChange</th>\n    </tr>\n  </thead>\n  <tbody>\n    <tr>\n      <th>0</th>\n      <td>1</td>\n      <td>open</td>\n      <td>choongnam</td>\n      <td>73</td>\n      <td>20071228</td>\n      <td>175.0</td>\n      <td>nursing_hospital</td>\n      <td>4.217530e+09</td>\n      <td>0.000000e+00</td>\n      <td>3.961135e+09</td>\n      <td>...</td>\n      <td>7.589937e+08</td>\n      <td>2.228769e+08</td>\n      <td>0.000000e+00</td>\n      <td>5.361169e+08</td>\n      <td>3.900000e+08</td>\n      <td>2.619290e+09</td>\n      <td>1.271224e+09</td>\n      <td>62.0</td>\n      <td>64.0</td>\n      <td>same</td>\n    </tr>\n    <tr>\n      <th>1</th>\n      <td>3</td>\n      <td>open</td>\n      <td>gyeongnam</td>\n      <td>32</td>\n      <td>19970401</td>\n      <td>410.0</td>\n      <td>general_hospital</td>\n      <td>NaN</td>\n      <td>NaN</td>\n      <td>NaN</td>\n      <td>...</td>\n      <td>NaN</td>\n      <td>NaN</td>\n      <td>NaN</td>\n      <td>NaN</td>\n      <td>NaN</td>\n      <td>NaN</td>\n      <td>NaN</td>\n      <td>801.0</td>\n      <td>813.0</td>\n      <td>same</td>\n    </tr>\n    <tr>\n      <th>2</th>\n      <td>4</td>\n      <td>open</td>\n      <td>gyeonggi</td>\n      <td>89</td>\n      <td>20161228</td>\n      <td>468.0</td>\n      <td>nursing_hospital</td>\n      <td>1.004522e+09</td>\n      <td>5.154837e+08</td>\n      <td>4.472197e+08</td>\n      <td>...</td>\n      <td>0.000000e+00</td>\n      <td>0.000000e+00</td>\n      <td>0.000000e+00</td>\n      <td>0.000000e+00</td>\n      <td>0.000000e+00</td>\n      <td>0.000000e+00</td>\n      <td>0.000000e+00</td>\n      <td>234.0</td>\n      <td>1.0</td>\n      <td>same</td>\n    </tr>\n    <tr>\n      <th>3</th>\n      <td>7</td>\n      <td>open</td>\n      <td>incheon</td>\n      <td>141</td>\n      <td>20000814</td>\n      <td>353.0</td>\n      <td>general_hospital</td>\n      <td>7.250734e+10</td>\n      <td>0.000000e+00</td>\n      <td>7.067740e+10</td>\n      <td>...</td>\n      <td>3.775501e+10</td>\n      <td>1.701860e+10</td>\n      <td>9.219427e+09</td>\n      <td>2.073641e+10</td>\n      <td>1.510000e+10</td>\n      <td>1.295427e+10</td>\n      <td>7.740829e+09</td>\n      <td>663.0</td>\n      <td>663.0</td>\n      <td>same</td>\n    </tr>\n    <tr>\n      <th>4</th>\n      <td>9</td>\n      <td>open</td>\n      <td>gyeongnam</td>\n      <td>32</td>\n      <td>20050901</td>\n      <td>196.0</td>\n      <td>general_hospital</td>\n      <td>4.904354e+10</td>\n      <td>0.000000e+00</td>\n      <td>4.765605e+10</td>\n      <td>...</td>\n      <td>5.143259e+10</td>\n      <td>3.007259e+10</td>\n      <td>1.759375e+10</td>\n      <td>2.136001e+10</td>\n      <td>1.410803e+10</td>\n      <td>5.561941e+06</td>\n      <td>9.025550e+09</td>\n      <td>206.0</td>\n      <td>197.0</td>\n      <td>same</td>\n    </tr>\n    <tr>\n      <th>...</th>\n      <td>...</td>\n      <td>...</td>\n      <td>...</td>\n      <td>...</td>\n      <td>...</td>\n      <td>...</td>\n      <td>...</td>\n      <td>...</td>\n      <td>...</td>\n      <td>...</td>\n      <td>...</td>\n      <td>...</td>\n      <td>...</td>\n      <td>...</td>\n      <td>...</td>\n      <td>...</td>\n      <td>...</td>\n      <td>...</td>\n      <td>...</td>\n      <td>...</td>\n      <td>...</td>\n    </tr>\n    <tr>\n      <th>296</th>\n      <td>422</td>\n      <td>open</td>\n      <td>jeonnam</td>\n      <td>178</td>\n      <td>20050211</td>\n      <td>214.0</td>\n      <td>nursing_hospital</td>\n      <td>7.614697e+09</td>\n      <td>4.153475e+08</td>\n      <td>5.903119e+09</td>\n      <td>...</td>\n      <td>9.423771e+09</td>\n      <td>2.618201e+09</td>\n      <td>0.000000e+00</td>\n      <td>6.805570e+09</td>\n      <td>5.930000e+09</td>\n      <td>5.379502e+09</td>\n      <td>8.116416e+08</td>\n      <td>193.0</td>\n      <td>141.0</td>\n      <td>same</td>\n    </tr>\n    <tr>\n      <th>297</th>\n      <td>423</td>\n      <td>close</td>\n      <td>choongnam</td>\n      <td>159</td>\n      <td>20140618</td>\n      <td>NaN</td>\n      <td>hospital</td>\n      <td>6.717144e+09</td>\n      <td>8.200000e+09</td>\n      <td>0.000000e+00</td>\n      <td>...</td>\n      <td>0.000000e+00</td>\n      <td>0.000000e+00</td>\n      <td>0.000000e+00</td>\n      <td>0.000000e+00</td>\n      <td>0.000000e+00</td>\n      <td>0.000000e+00</td>\n      <td>0.000000e+00</td>\n      <td>79.0</td>\n      <td>79.0</td>\n      <td>same</td>\n    </tr>\n    <tr>\n      <th>298</th>\n      <td>426</td>\n      <td>close</td>\n      <td>gyeongbuk</td>\n      <td>107</td>\n      <td>19830705</td>\n      <td>NaN</td>\n      <td>hospital</td>\n      <td>0.000000e+00</td>\n      <td>0.000000e+00</td>\n      <td>5.479428e+07</td>\n      <td>...</td>\n      <td>6.370097e+09</td>\n      <td>2.170973e+09</td>\n      <td>0.000000e+00</td>\n      <td>4.199124e+09</td>\n      <td>2.498749e+09</td>\n      <td>3.259161e+09</td>\n      <td>0.000000e+00</td>\n      <td>NaN</td>\n      <td>NaN</td>\n      <td>NaN</td>\n    </tr>\n    <tr>\n      <th>299</th>\n      <td>427</td>\n      <td>close</td>\n      <td>gyeonggi</td>\n      <td>169</td>\n      <td>20070101</td>\n      <td>180.0</td>\n      <td>nursing_hospital</td>\n      <td>2.116892e+09</td>\n      <td>2.681748e+08</td>\n      <td>3.286245e+09</td>\n      <td>...</td>\n      <td>6.392336e+08</td>\n      <td>6.400000e+09</td>\n      <td>0.000000e+00</td>\n      <td>0.000000e+00</td>\n      <td>0.000000e+00</td>\n      <td>0.000000e+00</td>\n      <td>0.000000e+00</td>\n      <td>100.0</td>\n      <td>NaN</td>\n      <td>NaN</td>\n    </tr>\n    <tr>\n      <th>300</th>\n      <td>428</td>\n      <td>open</td>\n      <td>seoul</td>\n      <td>79</td>\n      <td>20011017</td>\n      <td>NaN</td>\n      <td>traditional_hospital</td>\n      <td>1.340971e+09</td>\n      <td>8.108450e+08</td>\n      <td>5.043409e+08</td>\n      <td>...</td>\n      <td>5.349000e+09</td>\n      <td>3.123072e+09</td>\n      <td>0.000000e+00</td>\n      <td>2.225928e+09</td>\n      <td>2.190000e+09</td>\n      <td>5.536178e+09</td>\n      <td>6.269440e+09</td>\n      <td>15.0</td>\n      <td>15.0</td>\n      <td>same</td>\n    </tr>\n  </tbody>\n</table>\n<p>301 rows × 58 columns</p>\n</div>"
     },
     "metadata": {},
     "execution_count": 6
    }
   ],
   "source": [
    "train_df"
   ]
  },
  {
   "cell_type": "code",
   "execution_count": 7,
   "metadata": {},
   "outputs": [
    {
     "output_type": "execute_result",
     "data": {
      "text/plain": [
       "     inst_id    OC       sido  sgg    openDate  bedCount  \\\n",
       "0          1  open  choongnam   73  20071228.0     175.0   \n",
       "1          3  open  gyeongnam   32  19970401.0     410.0   \n",
       "2          4  open   gyeonggi   89  20161228.0     468.0   \n",
       "3          7  open    incheon  141  20000814.0     353.0   \n",
       "4          9  open  gyeongnam   32  20050901.0     196.0   \n",
       "..       ...   ...        ...  ...         ...       ...   \n",
       "122      424   NaN    jeonnam   33  20011012.0       0.0   \n",
       "123      425   NaN   gyeonggi   74  20010530.0       NaN   \n",
       "124      429   NaN   gyeonggi  116  20010101.0     150.0   \n",
       "125      430   NaN       jeju   76  20010201.0       NaN   \n",
       "126      431   NaN  choongbuk  163  19961216.0      96.0   \n",
       "\n",
       "                 instkind      revenue1    salescost1          sga1  ...  \\\n",
       "0        nursing_hospital  4.217530e+09  0.000000e+00  3.961135e+09  ...   \n",
       "1        general_hospital           NaN           NaN           NaN  ...   \n",
       "2        nursing_hospital  1.004522e+09  5.154837e+08  4.472197e+08  ...   \n",
       "3        general_hospital  7.250734e+10  0.000000e+00  7.067740e+10  ...   \n",
       "4        general_hospital  4.904354e+10  0.000000e+00  4.765605e+10  ...   \n",
       "..                    ...           ...           ...           ...  ...   \n",
       "122    traditional_clinic  2.233031e+10  8.484657e+08  1.849255e+10  ...   \n",
       "123  traditional_hospital  1.833906e+10  0.000000e+00  1.760117e+10  ...   \n",
       "124              hospital  1.424266e+10  1.726174e+09  1.148722e+10  ...   \n",
       "125                   NaN  4.892710e+10  4.157148e+10  4.721485e+09  ...   \n",
       "126              hospital  1.092444e+10  1.168731e+09  8.709839e+09  ...   \n",
       "\n",
       "            debt2  liquidLiabilities2    shortLoan2  NCLiabilities2  \\\n",
       "0    7.589937e+08        2.228769e+08  0.000000e+00    5.361169e+08   \n",
       "1             NaN                 NaN           NaN             NaN   \n",
       "2    0.000000e+00        0.000000e+00  0.000000e+00    0.000000e+00   \n",
       "3    3.775501e+10        1.701860e+10  9.219427e+09    2.073641e+10   \n",
       "4    5.143259e+10        3.007259e+10  1.759375e+10    2.136001e+10   \n",
       "..            ...                 ...           ...             ...   \n",
       "122  1.563217e+10        1.288180e+10  0.000000e+00    2.750371e+09   \n",
       "123  3.176628e+09        1.376742e+09  0.000000e+00    1.799886e+09   \n",
       "124  0.000000e+00        0.000000e+00  0.000000e+00    0.000000e+00   \n",
       "125  3.720397e+10        8.485918e+09  0.000000e+00    2.871805e+10   \n",
       "126  0.000000e+00        0.000000e+00  0.000000e+00    0.000000e+00   \n",
       "\n",
       "        longLoan2     netAsset2      surplus2  employee1  employee2  \\\n",
       "0    3.900000e+08  2.619290e+09  1.271224e+09       62.0       64.0   \n",
       "1             NaN           NaN           NaN      801.0      813.0   \n",
       "2    0.000000e+00  0.000000e+00  0.000000e+00      234.0        1.0   \n",
       "3    1.510000e+10  1.295427e+10  7.740829e+09      663.0      663.0   \n",
       "4    1.410803e+10  5.561941e+06  9.025550e+09      206.0      197.0   \n",
       "..            ...           ...           ...        ...        ...   \n",
       "122  0.000000e+00  1.384958e+10  0.000000e+00       87.0       90.0   \n",
       "123  1.740000e+09  8.574502e+09  7.136681e+09      125.0      125.0   \n",
       "124  0.000000e+00  0.000000e+00  0.000000e+00       54.0       57.0   \n",
       "125  2.563120e+10 -2.050629e+08  0.000000e+00      105.0      113.0   \n",
       "126  0.000000e+00  0.000000e+00  0.000000e+00      170.0      170.0   \n",
       "\n",
       "     ownerChange  \n",
       "0           same  \n",
       "1           same  \n",
       "2           same  \n",
       "3           same  \n",
       "4           same  \n",
       "..           ...  \n",
       "122          NaN  \n",
       "123         same  \n",
       "124          NaN  \n",
       "125         same  \n",
       "126          NaN  \n",
       "\n",
       "[428 rows x 58 columns]"
      ],
      "text/html": "<div>\n<style scoped>\n    .dataframe tbody tr th:only-of-type {\n        vertical-align: middle;\n    }\n\n    .dataframe tbody tr th {\n        vertical-align: top;\n    }\n\n    .dataframe thead th {\n        text-align: right;\n    }\n</style>\n<table border=\"1\" class=\"dataframe\">\n  <thead>\n    <tr style=\"text-align: right;\">\n      <th></th>\n      <th>inst_id</th>\n      <th>OC</th>\n      <th>sido</th>\n      <th>sgg</th>\n      <th>openDate</th>\n      <th>bedCount</th>\n      <th>instkind</th>\n      <th>revenue1</th>\n      <th>salescost1</th>\n      <th>sga1</th>\n      <th>...</th>\n      <th>debt2</th>\n      <th>liquidLiabilities2</th>\n      <th>shortLoan2</th>\n      <th>NCLiabilities2</th>\n      <th>longLoan2</th>\n      <th>netAsset2</th>\n      <th>surplus2</th>\n      <th>employee1</th>\n      <th>employee2</th>\n      <th>ownerChange</th>\n    </tr>\n  </thead>\n  <tbody>\n    <tr>\n      <th>0</th>\n      <td>1</td>\n      <td>open</td>\n      <td>choongnam</td>\n      <td>73</td>\n      <td>20071228.0</td>\n      <td>175.0</td>\n      <td>nursing_hospital</td>\n      <td>4.217530e+09</td>\n      <td>0.000000e+00</td>\n      <td>3.961135e+09</td>\n      <td>...</td>\n      <td>7.589937e+08</td>\n      <td>2.228769e+08</td>\n      <td>0.000000e+00</td>\n      <td>5.361169e+08</td>\n      <td>3.900000e+08</td>\n      <td>2.619290e+09</td>\n      <td>1.271224e+09</td>\n      <td>62.0</td>\n      <td>64.0</td>\n      <td>same</td>\n    </tr>\n    <tr>\n      <th>1</th>\n      <td>3</td>\n      <td>open</td>\n      <td>gyeongnam</td>\n      <td>32</td>\n      <td>19970401.0</td>\n      <td>410.0</td>\n      <td>general_hospital</td>\n      <td>NaN</td>\n      <td>NaN</td>\n      <td>NaN</td>\n      <td>...</td>\n      <td>NaN</td>\n      <td>NaN</td>\n      <td>NaN</td>\n      <td>NaN</td>\n      <td>NaN</td>\n      <td>NaN</td>\n      <td>NaN</td>\n      <td>801.0</td>\n      <td>813.0</td>\n      <td>same</td>\n    </tr>\n    <tr>\n      <th>2</th>\n      <td>4</td>\n      <td>open</td>\n      <td>gyeonggi</td>\n      <td>89</td>\n      <td>20161228.0</td>\n      <td>468.0</td>\n      <td>nursing_hospital</td>\n      <td>1.004522e+09</td>\n      <td>5.154837e+08</td>\n      <td>4.472197e+08</td>\n      <td>...</td>\n      <td>0.000000e+00</td>\n      <td>0.000000e+00</td>\n      <td>0.000000e+00</td>\n      <td>0.000000e+00</td>\n      <td>0.000000e+00</td>\n      <td>0.000000e+00</td>\n      <td>0.000000e+00</td>\n      <td>234.0</td>\n      <td>1.0</td>\n      <td>same</td>\n    </tr>\n    <tr>\n      <th>3</th>\n      <td>7</td>\n      <td>open</td>\n      <td>incheon</td>\n      <td>141</td>\n      <td>20000814.0</td>\n      <td>353.0</td>\n      <td>general_hospital</td>\n      <td>7.250734e+10</td>\n      <td>0.000000e+00</td>\n      <td>7.067740e+10</td>\n      <td>...</td>\n      <td>3.775501e+10</td>\n      <td>1.701860e+10</td>\n      <td>9.219427e+09</td>\n      <td>2.073641e+10</td>\n      <td>1.510000e+10</td>\n      <td>1.295427e+10</td>\n      <td>7.740829e+09</td>\n      <td>663.0</td>\n      <td>663.0</td>\n      <td>same</td>\n    </tr>\n    <tr>\n      <th>4</th>\n      <td>9</td>\n      <td>open</td>\n      <td>gyeongnam</td>\n      <td>32</td>\n      <td>20050901.0</td>\n      <td>196.0</td>\n      <td>general_hospital</td>\n      <td>4.904354e+10</td>\n      <td>0.000000e+00</td>\n      <td>4.765605e+10</td>\n      <td>...</td>\n      <td>5.143259e+10</td>\n      <td>3.007259e+10</td>\n      <td>1.759375e+10</td>\n      <td>2.136001e+10</td>\n      <td>1.410803e+10</td>\n      <td>5.561941e+06</td>\n      <td>9.025550e+09</td>\n      <td>206.0</td>\n      <td>197.0</td>\n      <td>same</td>\n    </tr>\n    <tr>\n      <th>...</th>\n      <td>...</td>\n      <td>...</td>\n      <td>...</td>\n      <td>...</td>\n      <td>...</td>\n      <td>...</td>\n      <td>...</td>\n      <td>...</td>\n      <td>...</td>\n      <td>...</td>\n      <td>...</td>\n      <td>...</td>\n      <td>...</td>\n      <td>...</td>\n      <td>...</td>\n      <td>...</td>\n      <td>...</td>\n      <td>...</td>\n      <td>...</td>\n      <td>...</td>\n      <td>...</td>\n    </tr>\n    <tr>\n      <th>122</th>\n      <td>424</td>\n      <td>NaN</td>\n      <td>jeonnam</td>\n      <td>33</td>\n      <td>20011012.0</td>\n      <td>0.0</td>\n      <td>traditional_clinic</td>\n      <td>2.233031e+10</td>\n      <td>8.484657e+08</td>\n      <td>1.849255e+10</td>\n      <td>...</td>\n      <td>1.563217e+10</td>\n      <td>1.288180e+10</td>\n      <td>0.000000e+00</td>\n      <td>2.750371e+09</td>\n      <td>0.000000e+00</td>\n      <td>1.384958e+10</td>\n      <td>0.000000e+00</td>\n      <td>87.0</td>\n      <td>90.0</td>\n      <td>NaN</td>\n    </tr>\n    <tr>\n      <th>123</th>\n      <td>425</td>\n      <td>NaN</td>\n      <td>gyeonggi</td>\n      <td>74</td>\n      <td>20010530.0</td>\n      <td>NaN</td>\n      <td>traditional_hospital</td>\n      <td>1.833906e+10</td>\n      <td>0.000000e+00</td>\n      <td>1.760117e+10</td>\n      <td>...</td>\n      <td>3.176628e+09</td>\n      <td>1.376742e+09</td>\n      <td>0.000000e+00</td>\n      <td>1.799886e+09</td>\n      <td>1.740000e+09</td>\n      <td>8.574502e+09</td>\n      <td>7.136681e+09</td>\n      <td>125.0</td>\n      <td>125.0</td>\n      <td>same</td>\n    </tr>\n    <tr>\n      <th>124</th>\n      <td>429</td>\n      <td>NaN</td>\n      <td>gyeonggi</td>\n      <td>116</td>\n      <td>20010101.0</td>\n      <td>150.0</td>\n      <td>hospital</td>\n      <td>1.424266e+10</td>\n      <td>1.726174e+09</td>\n      <td>1.148722e+10</td>\n      <td>...</td>\n      <td>0.000000e+00</td>\n      <td>0.000000e+00</td>\n      <td>0.000000e+00</td>\n      <td>0.000000e+00</td>\n      <td>0.000000e+00</td>\n      <td>0.000000e+00</td>\n      <td>0.000000e+00</td>\n      <td>54.0</td>\n      <td>57.0</td>\n      <td>NaN</td>\n    </tr>\n    <tr>\n      <th>125</th>\n      <td>430</td>\n      <td>NaN</td>\n      <td>jeju</td>\n      <td>76</td>\n      <td>20010201.0</td>\n      <td>NaN</td>\n      <td>NaN</td>\n      <td>4.892710e+10</td>\n      <td>4.157148e+10</td>\n      <td>4.721485e+09</td>\n      <td>...</td>\n      <td>3.720397e+10</td>\n      <td>8.485918e+09</td>\n      <td>0.000000e+00</td>\n      <td>2.871805e+10</td>\n      <td>2.563120e+10</td>\n      <td>-2.050629e+08</td>\n      <td>0.000000e+00</td>\n      <td>105.0</td>\n      <td>113.0</td>\n      <td>same</td>\n    </tr>\n    <tr>\n      <th>126</th>\n      <td>431</td>\n      <td>NaN</td>\n      <td>choongbuk</td>\n      <td>163</td>\n      <td>19961216.0</td>\n      <td>96.0</td>\n      <td>hospital</td>\n      <td>1.092444e+10</td>\n      <td>1.168731e+09</td>\n      <td>8.709839e+09</td>\n      <td>...</td>\n      <td>0.000000e+00</td>\n      <td>0.000000e+00</td>\n      <td>0.000000e+00</td>\n      <td>0.000000e+00</td>\n      <td>0.000000e+00</td>\n      <td>0.000000e+00</td>\n      <td>0.000000e+00</td>\n      <td>170.0</td>\n      <td>170.0</td>\n      <td>NaN</td>\n    </tr>\n  </tbody>\n</table>\n<p>428 rows × 58 columns</p>\n</div>"
     },
     "metadata": {},
     "execution_count": 7
    }
   ],
   "source": [
    "train_test_df"
   ]
  },
  {
   "cell_type": "code",
   "execution_count": 8,
   "metadata": {},
   "outputs": [],
   "source": [
    "factor_columns = train_test_df.select_dtypes(include = ['object']).columns\n",
    "numeric_columns = train_test_df.columns.difference(factor_columns)"
   ]
  },
  {
   "cell_type": "code",
   "execution_count": 9,
   "metadata": {},
   "outputs": [],
   "source": [
    "train_test_df.loc[train_test_df.inst_id == 430, ['instkind']] = 'dental_clinic'\n",
    "train_test_df.loc[train_test_df.inst_id == 430, ['bedCount']] = 0\n",
    "train_test_df.loc[train_test_df.inst_id == 413, ['bedCount']] = -999"
   ]
  },
  {
   "cell_type": "code",
   "execution_count": 10,
   "metadata": {},
   "outputs": [],
   "source": [
    "train_test_df[factor_columns] = train_test_df[factor_columns].fillna(\"Not_Sure\")"
   ]
  },
  {
   "cell_type": "code",
   "execution_count": 11,
   "metadata": {},
   "outputs": [],
   "source": [
    "train_test_df[numeric_columns] = train_test_df[numeric_columns].fillna(-999)"
   ]
  },
  {
   "cell_type": "code",
   "execution_count": 12,
   "metadata": {},
   "outputs": [
    {
     "output_type": "execute_result",
     "data": {
      "text/plain": [
       "     inst_id        OC       sido  sgg    openDate  bedCount  \\\n",
       "0          1      open  choongnam   73  20071228.0     175.0   \n",
       "1          3      open  gyeongnam   32  19970401.0     410.0   \n",
       "2          4      open   gyeonggi   89  20161228.0     468.0   \n",
       "3          7      open    incheon  141  20000814.0     353.0   \n",
       "4          9      open  gyeongnam   32  20050901.0     196.0   \n",
       "..       ...       ...        ...  ...         ...       ...   \n",
       "122      424  Not_Sure    jeonnam   33  20011012.0       0.0   \n",
       "123      425  Not_Sure   gyeonggi   74  20010530.0    -999.0   \n",
       "124      429  Not_Sure   gyeonggi  116  20010101.0     150.0   \n",
       "125      430  Not_Sure       jeju   76  20010201.0       0.0   \n",
       "126      431  Not_Sure  choongbuk  163  19961216.0      96.0   \n",
       "\n",
       "                 instkind      revenue1    salescost1          sga1  ...  \\\n",
       "0        nursing_hospital  4.217530e+09  0.000000e+00  3.961135e+09  ...   \n",
       "1        general_hospital -9.990000e+02 -9.990000e+02 -9.990000e+02  ...   \n",
       "2        nursing_hospital  1.004522e+09  5.154837e+08  4.472197e+08  ...   \n",
       "3        general_hospital  7.250734e+10  0.000000e+00  7.067740e+10  ...   \n",
       "4        general_hospital  4.904354e+10  0.000000e+00  4.765605e+10  ...   \n",
       "..                    ...           ...           ...           ...  ...   \n",
       "122    traditional_clinic  2.233031e+10  8.484657e+08  1.849255e+10  ...   \n",
       "123  traditional_hospital  1.833906e+10  0.000000e+00  1.760117e+10  ...   \n",
       "124              hospital  1.424266e+10  1.726174e+09  1.148722e+10  ...   \n",
       "125         dental_clinic  4.892710e+10  4.157148e+10  4.721485e+09  ...   \n",
       "126              hospital  1.092444e+10  1.168731e+09  8.709839e+09  ...   \n",
       "\n",
       "            debt2  liquidLiabilities2    shortLoan2  NCLiabilities2  \\\n",
       "0    7.589937e+08        2.228769e+08  0.000000e+00    5.361169e+08   \n",
       "1   -9.990000e+02       -9.990000e+02 -9.990000e+02   -9.990000e+02   \n",
       "2    0.000000e+00        0.000000e+00  0.000000e+00    0.000000e+00   \n",
       "3    3.775501e+10        1.701860e+10  9.219427e+09    2.073641e+10   \n",
       "4    5.143259e+10        3.007259e+10  1.759375e+10    2.136001e+10   \n",
       "..            ...                 ...           ...             ...   \n",
       "122  1.563217e+10        1.288180e+10  0.000000e+00    2.750371e+09   \n",
       "123  3.176628e+09        1.376742e+09  0.000000e+00    1.799886e+09   \n",
       "124  0.000000e+00        0.000000e+00  0.000000e+00    0.000000e+00   \n",
       "125  3.720397e+10        8.485918e+09  0.000000e+00    2.871805e+10   \n",
       "126  0.000000e+00        0.000000e+00  0.000000e+00    0.000000e+00   \n",
       "\n",
       "        longLoan2     netAsset2      surplus2  employee1  employee2  \\\n",
       "0    3.900000e+08  2.619290e+09  1.271224e+09       62.0       64.0   \n",
       "1   -9.990000e+02 -9.990000e+02 -9.990000e+02      801.0      813.0   \n",
       "2    0.000000e+00  0.000000e+00  0.000000e+00      234.0        1.0   \n",
       "3    1.510000e+10  1.295427e+10  7.740829e+09      663.0      663.0   \n",
       "4    1.410803e+10  5.561941e+06  9.025550e+09      206.0      197.0   \n",
       "..            ...           ...           ...        ...        ...   \n",
       "122  0.000000e+00  1.384958e+10  0.000000e+00       87.0       90.0   \n",
       "123  1.740000e+09  8.574502e+09  7.136681e+09      125.0      125.0   \n",
       "124  0.000000e+00  0.000000e+00  0.000000e+00       54.0       57.0   \n",
       "125  2.563120e+10 -2.050629e+08  0.000000e+00      105.0      113.0   \n",
       "126  0.000000e+00  0.000000e+00  0.000000e+00      170.0      170.0   \n",
       "\n",
       "     ownerChange  \n",
       "0           same  \n",
       "1           same  \n",
       "2           same  \n",
       "3           same  \n",
       "4           same  \n",
       "..           ...  \n",
       "122     Not_Sure  \n",
       "123         same  \n",
       "124     Not_Sure  \n",
       "125         same  \n",
       "126     Not_Sure  \n",
       "\n",
       "[428 rows x 58 columns]"
      ],
      "text/html": "<div>\n<style scoped>\n    .dataframe tbody tr th:only-of-type {\n        vertical-align: middle;\n    }\n\n    .dataframe tbody tr th {\n        vertical-align: top;\n    }\n\n    .dataframe thead th {\n        text-align: right;\n    }\n</style>\n<table border=\"1\" class=\"dataframe\">\n  <thead>\n    <tr style=\"text-align: right;\">\n      <th></th>\n      <th>inst_id</th>\n      <th>OC</th>\n      <th>sido</th>\n      <th>sgg</th>\n      <th>openDate</th>\n      <th>bedCount</th>\n      <th>instkind</th>\n      <th>revenue1</th>\n      <th>salescost1</th>\n      <th>sga1</th>\n      <th>...</th>\n      <th>debt2</th>\n      <th>liquidLiabilities2</th>\n      <th>shortLoan2</th>\n      <th>NCLiabilities2</th>\n      <th>longLoan2</th>\n      <th>netAsset2</th>\n      <th>surplus2</th>\n      <th>employee1</th>\n      <th>employee2</th>\n      <th>ownerChange</th>\n    </tr>\n  </thead>\n  <tbody>\n    <tr>\n      <th>0</th>\n      <td>1</td>\n      <td>open</td>\n      <td>choongnam</td>\n      <td>73</td>\n      <td>20071228.0</td>\n      <td>175.0</td>\n      <td>nursing_hospital</td>\n      <td>4.217530e+09</td>\n      <td>0.000000e+00</td>\n      <td>3.961135e+09</td>\n      <td>...</td>\n      <td>7.589937e+08</td>\n      <td>2.228769e+08</td>\n      <td>0.000000e+00</td>\n      <td>5.361169e+08</td>\n      <td>3.900000e+08</td>\n      <td>2.619290e+09</td>\n      <td>1.271224e+09</td>\n      <td>62.0</td>\n      <td>64.0</td>\n      <td>same</td>\n    </tr>\n    <tr>\n      <th>1</th>\n      <td>3</td>\n      <td>open</td>\n      <td>gyeongnam</td>\n      <td>32</td>\n      <td>19970401.0</td>\n      <td>410.0</td>\n      <td>general_hospital</td>\n      <td>-9.990000e+02</td>\n      <td>-9.990000e+02</td>\n      <td>-9.990000e+02</td>\n      <td>...</td>\n      <td>-9.990000e+02</td>\n      <td>-9.990000e+02</td>\n      <td>-9.990000e+02</td>\n      <td>-9.990000e+02</td>\n      <td>-9.990000e+02</td>\n      <td>-9.990000e+02</td>\n      <td>-9.990000e+02</td>\n      <td>801.0</td>\n      <td>813.0</td>\n      <td>same</td>\n    </tr>\n    <tr>\n      <th>2</th>\n      <td>4</td>\n      <td>open</td>\n      <td>gyeonggi</td>\n      <td>89</td>\n      <td>20161228.0</td>\n      <td>468.0</td>\n      <td>nursing_hospital</td>\n      <td>1.004522e+09</td>\n      <td>5.154837e+08</td>\n      <td>4.472197e+08</td>\n      <td>...</td>\n      <td>0.000000e+00</td>\n      <td>0.000000e+00</td>\n      <td>0.000000e+00</td>\n      <td>0.000000e+00</td>\n      <td>0.000000e+00</td>\n      <td>0.000000e+00</td>\n      <td>0.000000e+00</td>\n      <td>234.0</td>\n      <td>1.0</td>\n      <td>same</td>\n    </tr>\n    <tr>\n      <th>3</th>\n      <td>7</td>\n      <td>open</td>\n      <td>incheon</td>\n      <td>141</td>\n      <td>20000814.0</td>\n      <td>353.0</td>\n      <td>general_hospital</td>\n      <td>7.250734e+10</td>\n      <td>0.000000e+00</td>\n      <td>7.067740e+10</td>\n      <td>...</td>\n      <td>3.775501e+10</td>\n      <td>1.701860e+10</td>\n      <td>9.219427e+09</td>\n      <td>2.073641e+10</td>\n      <td>1.510000e+10</td>\n      <td>1.295427e+10</td>\n      <td>7.740829e+09</td>\n      <td>663.0</td>\n      <td>663.0</td>\n      <td>same</td>\n    </tr>\n    <tr>\n      <th>4</th>\n      <td>9</td>\n      <td>open</td>\n      <td>gyeongnam</td>\n      <td>32</td>\n      <td>20050901.0</td>\n      <td>196.0</td>\n      <td>general_hospital</td>\n      <td>4.904354e+10</td>\n      <td>0.000000e+00</td>\n      <td>4.765605e+10</td>\n      <td>...</td>\n      <td>5.143259e+10</td>\n      <td>3.007259e+10</td>\n      <td>1.759375e+10</td>\n      <td>2.136001e+10</td>\n      <td>1.410803e+10</td>\n      <td>5.561941e+06</td>\n      <td>9.025550e+09</td>\n      <td>206.0</td>\n      <td>197.0</td>\n      <td>same</td>\n    </tr>\n    <tr>\n      <th>...</th>\n      <td>...</td>\n      <td>...</td>\n      <td>...</td>\n      <td>...</td>\n      <td>...</td>\n      <td>...</td>\n      <td>...</td>\n      <td>...</td>\n      <td>...</td>\n      <td>...</td>\n      <td>...</td>\n      <td>...</td>\n      <td>...</td>\n      <td>...</td>\n      <td>...</td>\n      <td>...</td>\n      <td>...</td>\n      <td>...</td>\n      <td>...</td>\n      <td>...</td>\n      <td>...</td>\n    </tr>\n    <tr>\n      <th>122</th>\n      <td>424</td>\n      <td>Not_Sure</td>\n      <td>jeonnam</td>\n      <td>33</td>\n      <td>20011012.0</td>\n      <td>0.0</td>\n      <td>traditional_clinic</td>\n      <td>2.233031e+10</td>\n      <td>8.484657e+08</td>\n      <td>1.849255e+10</td>\n      <td>...</td>\n      <td>1.563217e+10</td>\n      <td>1.288180e+10</td>\n      <td>0.000000e+00</td>\n      <td>2.750371e+09</td>\n      <td>0.000000e+00</td>\n      <td>1.384958e+10</td>\n      <td>0.000000e+00</td>\n      <td>87.0</td>\n      <td>90.0</td>\n      <td>Not_Sure</td>\n    </tr>\n    <tr>\n      <th>123</th>\n      <td>425</td>\n      <td>Not_Sure</td>\n      <td>gyeonggi</td>\n      <td>74</td>\n      <td>20010530.0</td>\n      <td>-999.0</td>\n      <td>traditional_hospital</td>\n      <td>1.833906e+10</td>\n      <td>0.000000e+00</td>\n      <td>1.760117e+10</td>\n      <td>...</td>\n      <td>3.176628e+09</td>\n      <td>1.376742e+09</td>\n      <td>0.000000e+00</td>\n      <td>1.799886e+09</td>\n      <td>1.740000e+09</td>\n      <td>8.574502e+09</td>\n      <td>7.136681e+09</td>\n      <td>125.0</td>\n      <td>125.0</td>\n      <td>same</td>\n    </tr>\n    <tr>\n      <th>124</th>\n      <td>429</td>\n      <td>Not_Sure</td>\n      <td>gyeonggi</td>\n      <td>116</td>\n      <td>20010101.0</td>\n      <td>150.0</td>\n      <td>hospital</td>\n      <td>1.424266e+10</td>\n      <td>1.726174e+09</td>\n      <td>1.148722e+10</td>\n      <td>...</td>\n      <td>0.000000e+00</td>\n      <td>0.000000e+00</td>\n      <td>0.000000e+00</td>\n      <td>0.000000e+00</td>\n      <td>0.000000e+00</td>\n      <td>0.000000e+00</td>\n      <td>0.000000e+00</td>\n      <td>54.0</td>\n      <td>57.0</td>\n      <td>Not_Sure</td>\n    </tr>\n    <tr>\n      <th>125</th>\n      <td>430</td>\n      <td>Not_Sure</td>\n      <td>jeju</td>\n      <td>76</td>\n      <td>20010201.0</td>\n      <td>0.0</td>\n      <td>dental_clinic</td>\n      <td>4.892710e+10</td>\n      <td>4.157148e+10</td>\n      <td>4.721485e+09</td>\n      <td>...</td>\n      <td>3.720397e+10</td>\n      <td>8.485918e+09</td>\n      <td>0.000000e+00</td>\n      <td>2.871805e+10</td>\n      <td>2.563120e+10</td>\n      <td>-2.050629e+08</td>\n      <td>0.000000e+00</td>\n      <td>105.0</td>\n      <td>113.0</td>\n      <td>same</td>\n    </tr>\n    <tr>\n      <th>126</th>\n      <td>431</td>\n      <td>Not_Sure</td>\n      <td>choongbuk</td>\n      <td>163</td>\n      <td>19961216.0</td>\n      <td>96.0</td>\n      <td>hospital</td>\n      <td>1.092444e+10</td>\n      <td>1.168731e+09</td>\n      <td>8.709839e+09</td>\n      <td>...</td>\n      <td>0.000000e+00</td>\n      <td>0.000000e+00</td>\n      <td>0.000000e+00</td>\n      <td>0.000000e+00</td>\n      <td>0.000000e+00</td>\n      <td>0.000000e+00</td>\n      <td>0.000000e+00</td>\n      <td>170.0</td>\n      <td>170.0</td>\n      <td>Not_Sure</td>\n    </tr>\n  </tbody>\n</table>\n<p>428 rows × 58 columns</p>\n</div>"
     },
     "metadata": {},
     "execution_count": 12
    }
   ],
   "source": [
    "train_test_df"
   ]
  },
  {
   "cell_type": "code",
   "execution_count": 13,
   "metadata": {},
   "outputs": [],
   "source": [
    "fac_le = LabelEncoder()"
   ]
  },
  {
   "cell_type": "code",
   "execution_count": 14,
   "metadata": {},
   "outputs": [],
   "source": [
    "train_test_df[factor_columns] = train_test_df.loc[: , factor_columns].apply(lambda x: fac_le.fit_transform(x))"
   ]
  },
  {
   "cell_type": "code",
   "execution_count": 15,
   "metadata": {},
   "outputs": [
    {
     "output_type": "execute_result",
     "data": {
      "text/plain": [
       "     inst_id  OC  sido  sgg    openDate  bedCount  instkind      revenue1  \\\n",
       "0          1   2     2   73  20071228.0     175.0         5  4.217530e+09   \n",
       "1          3   2     9   32  19970401.0     410.0         3 -9.990000e+02   \n",
       "2          4   2     8   89  20161228.0     468.0         5  1.004522e+09   \n",
       "3          7   2    10  141  20000814.0     353.0         3  7.250734e+10   \n",
       "4          9   2     9   32  20050901.0     196.0         3  4.904354e+10   \n",
       "..       ...  ..   ...  ...         ...       ...       ...           ...   \n",
       "122      424   0    13   33  20011012.0       0.0         6  2.233031e+10   \n",
       "123      425   0     8   74  20010530.0    -999.0         7  1.833906e+10   \n",
       "124      429   0     8  116  20010101.0     150.0         4  1.424266e+10   \n",
       "125      430   0    11   76  20010201.0       0.0         2  4.892710e+10   \n",
       "126      431   0     1  163  19961216.0      96.0         4  1.092444e+10   \n",
       "\n",
       "       salescost1          sga1  ...         debt2  liquidLiabilities2  \\\n",
       "0    0.000000e+00  3.961135e+09  ...  7.589937e+08        2.228769e+08   \n",
       "1   -9.990000e+02 -9.990000e+02  ... -9.990000e+02       -9.990000e+02   \n",
       "2    5.154837e+08  4.472197e+08  ...  0.000000e+00        0.000000e+00   \n",
       "3    0.000000e+00  7.067740e+10  ...  3.775501e+10        1.701860e+10   \n",
       "4    0.000000e+00  4.765605e+10  ...  5.143259e+10        3.007259e+10   \n",
       "..            ...           ...  ...           ...                 ...   \n",
       "122  8.484657e+08  1.849255e+10  ...  1.563217e+10        1.288180e+10   \n",
       "123  0.000000e+00  1.760117e+10  ...  3.176628e+09        1.376742e+09   \n",
       "124  1.726174e+09  1.148722e+10  ...  0.000000e+00        0.000000e+00   \n",
       "125  4.157148e+10  4.721485e+09  ...  3.720397e+10        8.485918e+09   \n",
       "126  1.168731e+09  8.709839e+09  ...  0.000000e+00        0.000000e+00   \n",
       "\n",
       "       shortLoan2  NCLiabilities2     longLoan2     netAsset2      surplus2  \\\n",
       "0    0.000000e+00    5.361169e+08  3.900000e+08  2.619290e+09  1.271224e+09   \n",
       "1   -9.990000e+02   -9.990000e+02 -9.990000e+02 -9.990000e+02 -9.990000e+02   \n",
       "2    0.000000e+00    0.000000e+00  0.000000e+00  0.000000e+00  0.000000e+00   \n",
       "3    9.219427e+09    2.073641e+10  1.510000e+10  1.295427e+10  7.740829e+09   \n",
       "4    1.759375e+10    2.136001e+10  1.410803e+10  5.561941e+06  9.025550e+09   \n",
       "..            ...             ...           ...           ...           ...   \n",
       "122  0.000000e+00    2.750371e+09  0.000000e+00  1.384958e+10  0.000000e+00   \n",
       "123  0.000000e+00    1.799886e+09  1.740000e+09  8.574502e+09  7.136681e+09   \n",
       "124  0.000000e+00    0.000000e+00  0.000000e+00  0.000000e+00  0.000000e+00   \n",
       "125  0.000000e+00    2.871805e+10  2.563120e+10 -2.050629e+08  0.000000e+00   \n",
       "126  0.000000e+00    0.000000e+00  0.000000e+00  0.000000e+00  0.000000e+00   \n",
       "\n",
       "     employee1  employee2  ownerChange  \n",
       "0         62.0       64.0            2  \n",
       "1        801.0      813.0            2  \n",
       "2        234.0        1.0            2  \n",
       "3        663.0      663.0            2  \n",
       "4        206.0      197.0            2  \n",
       "..         ...        ...          ...  \n",
       "122       87.0       90.0            0  \n",
       "123      125.0      125.0            2  \n",
       "124       54.0       57.0            0  \n",
       "125      105.0      113.0            2  \n",
       "126      170.0      170.0            0  \n",
       "\n",
       "[428 rows x 58 columns]"
      ],
      "text/html": "<div>\n<style scoped>\n    .dataframe tbody tr th:only-of-type {\n        vertical-align: middle;\n    }\n\n    .dataframe tbody tr th {\n        vertical-align: top;\n    }\n\n    .dataframe thead th {\n        text-align: right;\n    }\n</style>\n<table border=\"1\" class=\"dataframe\">\n  <thead>\n    <tr style=\"text-align: right;\">\n      <th></th>\n      <th>inst_id</th>\n      <th>OC</th>\n      <th>sido</th>\n      <th>sgg</th>\n      <th>openDate</th>\n      <th>bedCount</th>\n      <th>instkind</th>\n      <th>revenue1</th>\n      <th>salescost1</th>\n      <th>sga1</th>\n      <th>...</th>\n      <th>debt2</th>\n      <th>liquidLiabilities2</th>\n      <th>shortLoan2</th>\n      <th>NCLiabilities2</th>\n      <th>longLoan2</th>\n      <th>netAsset2</th>\n      <th>surplus2</th>\n      <th>employee1</th>\n      <th>employee2</th>\n      <th>ownerChange</th>\n    </tr>\n  </thead>\n  <tbody>\n    <tr>\n      <th>0</th>\n      <td>1</td>\n      <td>2</td>\n      <td>2</td>\n      <td>73</td>\n      <td>20071228.0</td>\n      <td>175.0</td>\n      <td>5</td>\n      <td>4.217530e+09</td>\n      <td>0.000000e+00</td>\n      <td>3.961135e+09</td>\n      <td>...</td>\n      <td>7.589937e+08</td>\n      <td>2.228769e+08</td>\n      <td>0.000000e+00</td>\n      <td>5.361169e+08</td>\n      <td>3.900000e+08</td>\n      <td>2.619290e+09</td>\n      <td>1.271224e+09</td>\n      <td>62.0</td>\n      <td>64.0</td>\n      <td>2</td>\n    </tr>\n    <tr>\n      <th>1</th>\n      <td>3</td>\n      <td>2</td>\n      <td>9</td>\n      <td>32</td>\n      <td>19970401.0</td>\n      <td>410.0</td>\n      <td>3</td>\n      <td>-9.990000e+02</td>\n      <td>-9.990000e+02</td>\n      <td>-9.990000e+02</td>\n      <td>...</td>\n      <td>-9.990000e+02</td>\n      <td>-9.990000e+02</td>\n      <td>-9.990000e+02</td>\n      <td>-9.990000e+02</td>\n      <td>-9.990000e+02</td>\n      <td>-9.990000e+02</td>\n      <td>-9.990000e+02</td>\n      <td>801.0</td>\n      <td>813.0</td>\n      <td>2</td>\n    </tr>\n    <tr>\n      <th>2</th>\n      <td>4</td>\n      <td>2</td>\n      <td>8</td>\n      <td>89</td>\n      <td>20161228.0</td>\n      <td>468.0</td>\n      <td>5</td>\n      <td>1.004522e+09</td>\n      <td>5.154837e+08</td>\n      <td>4.472197e+08</td>\n      <td>...</td>\n      <td>0.000000e+00</td>\n      <td>0.000000e+00</td>\n      <td>0.000000e+00</td>\n      <td>0.000000e+00</td>\n      <td>0.000000e+00</td>\n      <td>0.000000e+00</td>\n      <td>0.000000e+00</td>\n      <td>234.0</td>\n      <td>1.0</td>\n      <td>2</td>\n    </tr>\n    <tr>\n      <th>3</th>\n      <td>7</td>\n      <td>2</td>\n      <td>10</td>\n      <td>141</td>\n      <td>20000814.0</td>\n      <td>353.0</td>\n      <td>3</td>\n      <td>7.250734e+10</td>\n      <td>0.000000e+00</td>\n      <td>7.067740e+10</td>\n      <td>...</td>\n      <td>3.775501e+10</td>\n      <td>1.701860e+10</td>\n      <td>9.219427e+09</td>\n      <td>2.073641e+10</td>\n      <td>1.510000e+10</td>\n      <td>1.295427e+10</td>\n      <td>7.740829e+09</td>\n      <td>663.0</td>\n      <td>663.0</td>\n      <td>2</td>\n    </tr>\n    <tr>\n      <th>4</th>\n      <td>9</td>\n      <td>2</td>\n      <td>9</td>\n      <td>32</td>\n      <td>20050901.0</td>\n      <td>196.0</td>\n      <td>3</td>\n      <td>4.904354e+10</td>\n      <td>0.000000e+00</td>\n      <td>4.765605e+10</td>\n      <td>...</td>\n      <td>5.143259e+10</td>\n      <td>3.007259e+10</td>\n      <td>1.759375e+10</td>\n      <td>2.136001e+10</td>\n      <td>1.410803e+10</td>\n      <td>5.561941e+06</td>\n      <td>9.025550e+09</td>\n      <td>206.0</td>\n      <td>197.0</td>\n      <td>2</td>\n    </tr>\n    <tr>\n      <th>...</th>\n      <td>...</td>\n      <td>...</td>\n      <td>...</td>\n      <td>...</td>\n      <td>...</td>\n      <td>...</td>\n      <td>...</td>\n      <td>...</td>\n      <td>...</td>\n      <td>...</td>\n      <td>...</td>\n      <td>...</td>\n      <td>...</td>\n      <td>...</td>\n      <td>...</td>\n      <td>...</td>\n      <td>...</td>\n      <td>...</td>\n      <td>...</td>\n      <td>...</td>\n      <td>...</td>\n    </tr>\n    <tr>\n      <th>122</th>\n      <td>424</td>\n      <td>0</td>\n      <td>13</td>\n      <td>33</td>\n      <td>20011012.0</td>\n      <td>0.0</td>\n      <td>6</td>\n      <td>2.233031e+10</td>\n      <td>8.484657e+08</td>\n      <td>1.849255e+10</td>\n      <td>...</td>\n      <td>1.563217e+10</td>\n      <td>1.288180e+10</td>\n      <td>0.000000e+00</td>\n      <td>2.750371e+09</td>\n      <td>0.000000e+00</td>\n      <td>1.384958e+10</td>\n      <td>0.000000e+00</td>\n      <td>87.0</td>\n      <td>90.0</td>\n      <td>0</td>\n    </tr>\n    <tr>\n      <th>123</th>\n      <td>425</td>\n      <td>0</td>\n      <td>8</td>\n      <td>74</td>\n      <td>20010530.0</td>\n      <td>-999.0</td>\n      <td>7</td>\n      <td>1.833906e+10</td>\n      <td>0.000000e+00</td>\n      <td>1.760117e+10</td>\n      <td>...</td>\n      <td>3.176628e+09</td>\n      <td>1.376742e+09</td>\n      <td>0.000000e+00</td>\n      <td>1.799886e+09</td>\n      <td>1.740000e+09</td>\n      <td>8.574502e+09</td>\n      <td>7.136681e+09</td>\n      <td>125.0</td>\n      <td>125.0</td>\n      <td>2</td>\n    </tr>\n    <tr>\n      <th>124</th>\n      <td>429</td>\n      <td>0</td>\n      <td>8</td>\n      <td>116</td>\n      <td>20010101.0</td>\n      <td>150.0</td>\n      <td>4</td>\n      <td>1.424266e+10</td>\n      <td>1.726174e+09</td>\n      <td>1.148722e+10</td>\n      <td>...</td>\n      <td>0.000000e+00</td>\n      <td>0.000000e+00</td>\n      <td>0.000000e+00</td>\n      <td>0.000000e+00</td>\n      <td>0.000000e+00</td>\n      <td>0.000000e+00</td>\n      <td>0.000000e+00</td>\n      <td>54.0</td>\n      <td>57.0</td>\n      <td>0</td>\n    </tr>\n    <tr>\n      <th>125</th>\n      <td>430</td>\n      <td>0</td>\n      <td>11</td>\n      <td>76</td>\n      <td>20010201.0</td>\n      <td>0.0</td>\n      <td>2</td>\n      <td>4.892710e+10</td>\n      <td>4.157148e+10</td>\n      <td>4.721485e+09</td>\n      <td>...</td>\n      <td>3.720397e+10</td>\n      <td>8.485918e+09</td>\n      <td>0.000000e+00</td>\n      <td>2.871805e+10</td>\n      <td>2.563120e+10</td>\n      <td>-2.050629e+08</td>\n      <td>0.000000e+00</td>\n      <td>105.0</td>\n      <td>113.0</td>\n      <td>2</td>\n    </tr>\n    <tr>\n      <th>126</th>\n      <td>431</td>\n      <td>0</td>\n      <td>1</td>\n      <td>163</td>\n      <td>19961216.0</td>\n      <td>96.0</td>\n      <td>4</td>\n      <td>1.092444e+10</td>\n      <td>1.168731e+09</td>\n      <td>8.709839e+09</td>\n      <td>...</td>\n      <td>0.000000e+00</td>\n      <td>0.000000e+00</td>\n      <td>0.000000e+00</td>\n      <td>0.000000e+00</td>\n      <td>0.000000e+00</td>\n      <td>0.000000e+00</td>\n      <td>0.000000e+00</td>\n      <td>170.0</td>\n      <td>170.0</td>\n      <td>0</td>\n    </tr>\n  </tbody>\n</table>\n<p>428 rows × 58 columns</p>\n</div>"
     },
     "metadata": {},
     "execution_count": 15
    }
   ],
   "source": [
    "train_test_df"
   ]
  },
  {
   "cell_type": "code",
   "execution_count": 16,
   "metadata": {},
   "outputs": [
    {
     "output_type": "stream",
     "name": "stderr",
     "text": [
      "<ipython-input-16-b77c908f4a6c>:3: SettingWithCopyWarning: \nA value is trying to be set on a copy of a slice from a DataFrame.\nTry using .loc[row_indexer,col_indexer] = value instead\n\nSee the caveats in the documentation: https://pandas.pydata.org/pandas-docs/stable/user_guide/indexing.html#returning-a-view-versus-a-copy\n  train_df[\"OC\"] = train_df[\"OC\"] - 1\n"
     ]
    }
   ],
   "source": [
    "train_df = train_test_df.loc[train_test_df[\"OC\"] != 0, :]\n",
    "test_df = train_test_df.loc[train_test_df[\"OC\"] == 0, :]\n",
    "train_df[\"OC\"] = train_df[\"OC\"] - 1"
   ]
  },
  {
   "cell_type": "code",
   "execution_count": 17,
   "metadata": {},
   "outputs": [
    {
     "output_type": "execute_result",
     "data": {
      "text/plain": [
       "     inst_id  OC  sido  sgg    openDate  bedCount  instkind      revenue1  \\\n",
       "0          1   1     2   73  20071228.0     175.0         5  4.217530e+09   \n",
       "1          3   1     9   32  19970401.0     410.0         3 -9.990000e+02   \n",
       "2          4   1     8   89  20161228.0     468.0         5  1.004522e+09   \n",
       "3          7   1    10  141  20000814.0     353.0         3  7.250734e+10   \n",
       "4          9   1     9   32  20050901.0     196.0         3  4.904354e+10   \n",
       "..       ...  ..   ...  ...         ...       ...       ...           ...   \n",
       "296      422   1    13  178  20050211.0     214.0         5  7.614697e+09   \n",
       "297      423   0     2  159  20140618.0    -999.0         4  6.717144e+09   \n",
       "298      426   0     7  107  19830705.0    -999.0         4  0.000000e+00   \n",
       "299      427   0     8  169  20070101.0     180.0         5  2.116892e+09   \n",
       "300      428   1    15   79  20011017.0    -999.0         7  1.340971e+09   \n",
       "\n",
       "       salescost1          sga1  ...         debt2  liquidLiabilities2  \\\n",
       "0    0.000000e+00  3.961135e+09  ...  7.589937e+08        2.228769e+08   \n",
       "1   -9.990000e+02 -9.990000e+02  ... -9.990000e+02       -9.990000e+02   \n",
       "2    5.154837e+08  4.472197e+08  ...  0.000000e+00        0.000000e+00   \n",
       "3    0.000000e+00  7.067740e+10  ...  3.775501e+10        1.701860e+10   \n",
       "4    0.000000e+00  4.765605e+10  ...  5.143259e+10        3.007259e+10   \n",
       "..            ...           ...  ...           ...                 ...   \n",
       "296  4.153475e+08  5.903119e+09  ...  9.423771e+09        2.618201e+09   \n",
       "297  8.200000e+09  0.000000e+00  ...  0.000000e+00        0.000000e+00   \n",
       "298  0.000000e+00  5.479428e+07  ...  6.370097e+09        2.170973e+09   \n",
       "299  2.681748e+08  3.286245e+09  ...  6.392336e+08        6.400000e+09   \n",
       "300  8.108450e+08  5.043409e+08  ...  5.349000e+09        3.123072e+09   \n",
       "\n",
       "       shortLoan2  NCLiabilities2     longLoan2     netAsset2      surplus2  \\\n",
       "0    0.000000e+00    5.361169e+08  3.900000e+08  2.619290e+09  1.271224e+09   \n",
       "1   -9.990000e+02   -9.990000e+02 -9.990000e+02 -9.990000e+02 -9.990000e+02   \n",
       "2    0.000000e+00    0.000000e+00  0.000000e+00  0.000000e+00  0.000000e+00   \n",
       "3    9.219427e+09    2.073641e+10  1.510000e+10  1.295427e+10  7.740829e+09   \n",
       "4    1.759375e+10    2.136001e+10  1.410803e+10  5.561941e+06  9.025550e+09   \n",
       "..            ...             ...           ...           ...           ...   \n",
       "296  0.000000e+00    6.805570e+09  5.930000e+09  5.379502e+09  8.116416e+08   \n",
       "297  0.000000e+00    0.000000e+00  0.000000e+00  0.000000e+00  0.000000e+00   \n",
       "298  0.000000e+00    4.199124e+09  2.498749e+09  3.259161e+09  0.000000e+00   \n",
       "299  0.000000e+00    0.000000e+00  0.000000e+00  0.000000e+00  0.000000e+00   \n",
       "300  0.000000e+00    2.225928e+09  2.190000e+09  5.536178e+09  6.269440e+09   \n",
       "\n",
       "     employee1  employee2  ownerChange  \n",
       "0         62.0       64.0            2  \n",
       "1        801.0      813.0            2  \n",
       "2        234.0        1.0            2  \n",
       "3        663.0      663.0            2  \n",
       "4        206.0      197.0            2  \n",
       "..         ...        ...          ...  \n",
       "296      193.0      141.0            2  \n",
       "297       79.0       79.0            2  \n",
       "298     -999.0     -999.0            0  \n",
       "299      100.0     -999.0            0  \n",
       "300       15.0       15.0            2  \n",
       "\n",
       "[301 rows x 58 columns]"
      ],
      "text/html": "<div>\n<style scoped>\n    .dataframe tbody tr th:only-of-type {\n        vertical-align: middle;\n    }\n\n    .dataframe tbody tr th {\n        vertical-align: top;\n    }\n\n    .dataframe thead th {\n        text-align: right;\n    }\n</style>\n<table border=\"1\" class=\"dataframe\">\n  <thead>\n    <tr style=\"text-align: right;\">\n      <th></th>\n      <th>inst_id</th>\n      <th>OC</th>\n      <th>sido</th>\n      <th>sgg</th>\n      <th>openDate</th>\n      <th>bedCount</th>\n      <th>instkind</th>\n      <th>revenue1</th>\n      <th>salescost1</th>\n      <th>sga1</th>\n      <th>...</th>\n      <th>debt2</th>\n      <th>liquidLiabilities2</th>\n      <th>shortLoan2</th>\n      <th>NCLiabilities2</th>\n      <th>longLoan2</th>\n      <th>netAsset2</th>\n      <th>surplus2</th>\n      <th>employee1</th>\n      <th>employee2</th>\n      <th>ownerChange</th>\n    </tr>\n  </thead>\n  <tbody>\n    <tr>\n      <th>0</th>\n      <td>1</td>\n      <td>1</td>\n      <td>2</td>\n      <td>73</td>\n      <td>20071228.0</td>\n      <td>175.0</td>\n      <td>5</td>\n      <td>4.217530e+09</td>\n      <td>0.000000e+00</td>\n      <td>3.961135e+09</td>\n      <td>...</td>\n      <td>7.589937e+08</td>\n      <td>2.228769e+08</td>\n      <td>0.000000e+00</td>\n      <td>5.361169e+08</td>\n      <td>3.900000e+08</td>\n      <td>2.619290e+09</td>\n      <td>1.271224e+09</td>\n      <td>62.0</td>\n      <td>64.0</td>\n      <td>2</td>\n    </tr>\n    <tr>\n      <th>1</th>\n      <td>3</td>\n      <td>1</td>\n      <td>9</td>\n      <td>32</td>\n      <td>19970401.0</td>\n      <td>410.0</td>\n      <td>3</td>\n      <td>-9.990000e+02</td>\n      <td>-9.990000e+02</td>\n      <td>-9.990000e+02</td>\n      <td>...</td>\n      <td>-9.990000e+02</td>\n      <td>-9.990000e+02</td>\n      <td>-9.990000e+02</td>\n      <td>-9.990000e+02</td>\n      <td>-9.990000e+02</td>\n      <td>-9.990000e+02</td>\n      <td>-9.990000e+02</td>\n      <td>801.0</td>\n      <td>813.0</td>\n      <td>2</td>\n    </tr>\n    <tr>\n      <th>2</th>\n      <td>4</td>\n      <td>1</td>\n      <td>8</td>\n      <td>89</td>\n      <td>20161228.0</td>\n      <td>468.0</td>\n      <td>5</td>\n      <td>1.004522e+09</td>\n      <td>5.154837e+08</td>\n      <td>4.472197e+08</td>\n      <td>...</td>\n      <td>0.000000e+00</td>\n      <td>0.000000e+00</td>\n      <td>0.000000e+00</td>\n      <td>0.000000e+00</td>\n      <td>0.000000e+00</td>\n      <td>0.000000e+00</td>\n      <td>0.000000e+00</td>\n      <td>234.0</td>\n      <td>1.0</td>\n      <td>2</td>\n    </tr>\n    <tr>\n      <th>3</th>\n      <td>7</td>\n      <td>1</td>\n      <td>10</td>\n      <td>141</td>\n      <td>20000814.0</td>\n      <td>353.0</td>\n      <td>3</td>\n      <td>7.250734e+10</td>\n      <td>0.000000e+00</td>\n      <td>7.067740e+10</td>\n      <td>...</td>\n      <td>3.775501e+10</td>\n      <td>1.701860e+10</td>\n      <td>9.219427e+09</td>\n      <td>2.073641e+10</td>\n      <td>1.510000e+10</td>\n      <td>1.295427e+10</td>\n      <td>7.740829e+09</td>\n      <td>663.0</td>\n      <td>663.0</td>\n      <td>2</td>\n    </tr>\n    <tr>\n      <th>4</th>\n      <td>9</td>\n      <td>1</td>\n      <td>9</td>\n      <td>32</td>\n      <td>20050901.0</td>\n      <td>196.0</td>\n      <td>3</td>\n      <td>4.904354e+10</td>\n      <td>0.000000e+00</td>\n      <td>4.765605e+10</td>\n      <td>...</td>\n      <td>5.143259e+10</td>\n      <td>3.007259e+10</td>\n      <td>1.759375e+10</td>\n      <td>2.136001e+10</td>\n      <td>1.410803e+10</td>\n      <td>5.561941e+06</td>\n      <td>9.025550e+09</td>\n      <td>206.0</td>\n      <td>197.0</td>\n      <td>2</td>\n    </tr>\n    <tr>\n      <th>...</th>\n      <td>...</td>\n      <td>...</td>\n      <td>...</td>\n      <td>...</td>\n      <td>...</td>\n      <td>...</td>\n      <td>...</td>\n      <td>...</td>\n      <td>...</td>\n      <td>...</td>\n      <td>...</td>\n      <td>...</td>\n      <td>...</td>\n      <td>...</td>\n      <td>...</td>\n      <td>...</td>\n      <td>...</td>\n      <td>...</td>\n      <td>...</td>\n      <td>...</td>\n      <td>...</td>\n    </tr>\n    <tr>\n      <th>296</th>\n      <td>422</td>\n      <td>1</td>\n      <td>13</td>\n      <td>178</td>\n      <td>20050211.0</td>\n      <td>214.0</td>\n      <td>5</td>\n      <td>7.614697e+09</td>\n      <td>4.153475e+08</td>\n      <td>5.903119e+09</td>\n      <td>...</td>\n      <td>9.423771e+09</td>\n      <td>2.618201e+09</td>\n      <td>0.000000e+00</td>\n      <td>6.805570e+09</td>\n      <td>5.930000e+09</td>\n      <td>5.379502e+09</td>\n      <td>8.116416e+08</td>\n      <td>193.0</td>\n      <td>141.0</td>\n      <td>2</td>\n    </tr>\n    <tr>\n      <th>297</th>\n      <td>423</td>\n      <td>0</td>\n      <td>2</td>\n      <td>159</td>\n      <td>20140618.0</td>\n      <td>-999.0</td>\n      <td>4</td>\n      <td>6.717144e+09</td>\n      <td>8.200000e+09</td>\n      <td>0.000000e+00</td>\n      <td>...</td>\n      <td>0.000000e+00</td>\n      <td>0.000000e+00</td>\n      <td>0.000000e+00</td>\n      <td>0.000000e+00</td>\n      <td>0.000000e+00</td>\n      <td>0.000000e+00</td>\n      <td>0.000000e+00</td>\n      <td>79.0</td>\n      <td>79.0</td>\n      <td>2</td>\n    </tr>\n    <tr>\n      <th>298</th>\n      <td>426</td>\n      <td>0</td>\n      <td>7</td>\n      <td>107</td>\n      <td>19830705.0</td>\n      <td>-999.0</td>\n      <td>4</td>\n      <td>0.000000e+00</td>\n      <td>0.000000e+00</td>\n      <td>5.479428e+07</td>\n      <td>...</td>\n      <td>6.370097e+09</td>\n      <td>2.170973e+09</td>\n      <td>0.000000e+00</td>\n      <td>4.199124e+09</td>\n      <td>2.498749e+09</td>\n      <td>3.259161e+09</td>\n      <td>0.000000e+00</td>\n      <td>-999.0</td>\n      <td>-999.0</td>\n      <td>0</td>\n    </tr>\n    <tr>\n      <th>299</th>\n      <td>427</td>\n      <td>0</td>\n      <td>8</td>\n      <td>169</td>\n      <td>20070101.0</td>\n      <td>180.0</td>\n      <td>5</td>\n      <td>2.116892e+09</td>\n      <td>2.681748e+08</td>\n      <td>3.286245e+09</td>\n      <td>...</td>\n      <td>6.392336e+08</td>\n      <td>6.400000e+09</td>\n      <td>0.000000e+00</td>\n      <td>0.000000e+00</td>\n      <td>0.000000e+00</td>\n      <td>0.000000e+00</td>\n      <td>0.000000e+00</td>\n      <td>100.0</td>\n      <td>-999.0</td>\n      <td>0</td>\n    </tr>\n    <tr>\n      <th>300</th>\n      <td>428</td>\n      <td>1</td>\n      <td>15</td>\n      <td>79</td>\n      <td>20011017.0</td>\n      <td>-999.0</td>\n      <td>7</td>\n      <td>1.340971e+09</td>\n      <td>8.108450e+08</td>\n      <td>5.043409e+08</td>\n      <td>...</td>\n      <td>5.349000e+09</td>\n      <td>3.123072e+09</td>\n      <td>0.000000e+00</td>\n      <td>2.225928e+09</td>\n      <td>2.190000e+09</td>\n      <td>5.536178e+09</td>\n      <td>6.269440e+09</td>\n      <td>15.0</td>\n      <td>15.0</td>\n      <td>2</td>\n    </tr>\n  </tbody>\n</table>\n<p>301 rows × 58 columns</p>\n</div>"
     },
     "metadata": {},
     "execution_count": 17
    }
   ],
   "source": [
    "train_df"
   ]
  },
  {
   "cell_type": "code",
   "execution_count": 18,
   "metadata": {},
   "outputs": [],
   "source": [
    "sub_id = test_df.inst_id\n",
    "dep = ['OC']\n",
    "indep = train_test_df.columns.difference(dep)"
   ]
  },
  {
   "cell_type": "code",
   "execution_count": 19,
   "metadata": {},
   "outputs": [],
   "source": [
    "train_X = train_df[indep]\n",
    "train_Y = train_df[dep]\n",
    "test_X = test_df[indep]"
   ]
  },
  {
   "cell_type": "code",
   "execution_count": 20,
   "metadata": {},
   "outputs": [
    {
     "output_type": "stream",
     "name": "stderr",
     "text": [
      "<ipython-input-20-c12c35734c32>:3: DataConversionWarning: A column-vector y was passed when a 1d array was expected. Please change the shape of y to (n_samples,), for example using ravel().\n  RF_model = RF.fit(train_X, train_Y)\n"
     ]
    }
   ],
   "source": [
    "np.random.seed(100)\n",
    "RF = RandomForestClassifier(n_estimators=10)\n",
    "RF_model = RF.fit(train_X, train_Y)\n",
    "RF_prd = RF.predict(test_X)\n",
    "RF_prd_prob = RF.predict_proba(test_X)"
   ]
  },
  {
   "cell_type": "code",
   "execution_count": 21,
   "metadata": {},
   "outputs": [
    {
     "output_type": "execute_result",
     "data": {
      "text/plain": [
       "array([1, 1, 1, 1, 1, 1, 1, 1, 1, 1, 1, 1, 1, 1, 1, 1, 1, 1, 1, 1, 1, 1,\n",
       "       0, 1, 1, 1, 1, 1, 1, 1, 1, 1, 1, 1, 1, 1, 1, 1, 1, 1, 1, 1, 1, 1,\n",
       "       1, 1, 1, 1, 1, 1, 1, 1, 0, 1, 1, 1, 1, 1, 1, 1, 1, 1, 1, 1, 1, 1,\n",
       "       1, 1, 1, 1, 1, 1, 1, 1, 1, 1, 1, 1, 1, 1, 1, 1, 1, 1, 1, 1, 1, 1,\n",
       "       1, 1, 1, 1, 1, 1, 1, 1, 1, 1, 1, 0, 1, 1, 1, 1, 1, 1, 1, 1, 1, 1,\n",
       "       1, 1, 1, 1, 1, 1, 1, 1, 1, 1, 0, 1, 0, 1, 1, 1, 1])"
      ]
     },
     "metadata": {},
     "execution_count": 21
    }
   ],
   "source": [
    "RF_prd"
   ]
  },
  {
   "cell_type": "code",
   "execution_count": 22,
   "metadata": {},
   "outputs": [],
   "source": [
    "submission = pd.DataFrame(sub_id)"
   ]
  },
  {
   "cell_type": "code",
   "execution_count": 23,
   "metadata": {},
   "outputs": [],
   "source": [
    "submission[\"OC\"] = RF_prd"
   ]
  },
  {
   "cell_type": "code",
   "execution_count": 24,
   "metadata": {},
   "outputs": [],
   "source": [
    "submission.to_csv(\"submission.csv\", index=False)"
   ]
  },
  {
   "cell_type": "code",
   "execution_count": null,
   "metadata": {},
   "outputs": [],
   "source": []
  }
 ]
}