{
 "cells": [
  {
   "cell_type": "markdown",
   "metadata": {},
   "source": [
    "### 딥-러닝 과정 Mulit Layer Perceptron(MLP) "
   ]
  },
  {
   "cell_type": "markdown",
   "metadata": {},
   "source": [
    "## Keras 모델 생성/학습 - 당뇨병 예측 모델"
   ]
  },
  {
   "cell_type": "code",
   "execution_count": 1,
   "metadata": {},
   "outputs": [],
   "source": [
    "# 1. Pandas 가져오기\n",
    "import pandas as pd"
   ]
  },
  {
   "cell_type": "code",
   "execution_count": 2,
   "metadata": {},
   "outputs": [
    {
     "data": {
      "text/html": [
       "<div>\n",
       "<style scoped>\n",
       "    .dataframe tbody tr th:only-of-type {\n",
       "        vertical-align: middle;\n",
       "    }\n",
       "\n",
       "    .dataframe tbody tr th {\n",
       "        vertical-align: top;\n",
       "    }\n",
       "\n",
       "    .dataframe thead th {\n",
       "        text-align: right;\n",
       "    }\n",
       "</style>\n",
       "<table border=\"1\" class=\"dataframe\">\n",
       "  <thead>\n",
       "    <tr style=\"text-align: right;\">\n",
       "      <th></th>\n",
       "      <th>pregnant</th>\n",
       "      <th>gloucose</th>\n",
       "      <th>blood pressure</th>\n",
       "      <th>skin thickness</th>\n",
       "      <th>insulin</th>\n",
       "      <th>BMI</th>\n",
       "      <th>DPF</th>\n",
       "      <th>age</th>\n",
       "      <th>result</th>\n",
       "    </tr>\n",
       "  </thead>\n",
       "  <tbody>\n",
       "    <tr>\n",
       "      <th>0</th>\n",
       "      <td>6</td>\n",
       "      <td>148</td>\n",
       "      <td>72</td>\n",
       "      <td>35</td>\n",
       "      <td>0</td>\n",
       "      <td>33.6</td>\n",
       "      <td>0.627</td>\n",
       "      <td>50</td>\n",
       "      <td>1</td>\n",
       "    </tr>\n",
       "    <tr>\n",
       "      <th>1</th>\n",
       "      <td>1</td>\n",
       "      <td>85</td>\n",
       "      <td>66</td>\n",
       "      <td>29</td>\n",
       "      <td>0</td>\n",
       "      <td>26.6</td>\n",
       "      <td>0.351</td>\n",
       "      <td>31</td>\n",
       "      <td>0</td>\n",
       "    </tr>\n",
       "    <tr>\n",
       "      <th>2</th>\n",
       "      <td>8</td>\n",
       "      <td>183</td>\n",
       "      <td>64</td>\n",
       "      <td>0</td>\n",
       "      <td>0</td>\n",
       "      <td>23.3</td>\n",
       "      <td>0.672</td>\n",
       "      <td>32</td>\n",
       "      <td>1</td>\n",
       "    </tr>\n",
       "    <tr>\n",
       "      <th>3</th>\n",
       "      <td>1</td>\n",
       "      <td>89</td>\n",
       "      <td>66</td>\n",
       "      <td>23</td>\n",
       "      <td>94</td>\n",
       "      <td>28.1</td>\n",
       "      <td>0.167</td>\n",
       "      <td>21</td>\n",
       "      <td>0</td>\n",
       "    </tr>\n",
       "    <tr>\n",
       "      <th>4</th>\n",
       "      <td>0</td>\n",
       "      <td>137</td>\n",
       "      <td>40</td>\n",
       "      <td>35</td>\n",
       "      <td>168</td>\n",
       "      <td>43.1</td>\n",
       "      <td>2.288</td>\n",
       "      <td>33</td>\n",
       "      <td>1</td>\n",
       "    </tr>\n",
       "    <tr>\n",
       "      <th>...</th>\n",
       "      <td>...</td>\n",
       "      <td>...</td>\n",
       "      <td>...</td>\n",
       "      <td>...</td>\n",
       "      <td>...</td>\n",
       "      <td>...</td>\n",
       "      <td>...</td>\n",
       "      <td>...</td>\n",
       "      <td>...</td>\n",
       "    </tr>\n",
       "    <tr>\n",
       "      <th>763</th>\n",
       "      <td>10</td>\n",
       "      <td>101</td>\n",
       "      <td>76</td>\n",
       "      <td>48</td>\n",
       "      <td>180</td>\n",
       "      <td>32.9</td>\n",
       "      <td>0.171</td>\n",
       "      <td>63</td>\n",
       "      <td>0</td>\n",
       "    </tr>\n",
       "    <tr>\n",
       "      <th>764</th>\n",
       "      <td>2</td>\n",
       "      <td>122</td>\n",
       "      <td>70</td>\n",
       "      <td>27</td>\n",
       "      <td>0</td>\n",
       "      <td>36.8</td>\n",
       "      <td>0.340</td>\n",
       "      <td>27</td>\n",
       "      <td>0</td>\n",
       "    </tr>\n",
       "    <tr>\n",
       "      <th>765</th>\n",
       "      <td>5</td>\n",
       "      <td>121</td>\n",
       "      <td>72</td>\n",
       "      <td>23</td>\n",
       "      <td>112</td>\n",
       "      <td>26.2</td>\n",
       "      <td>0.245</td>\n",
       "      <td>30</td>\n",
       "      <td>0</td>\n",
       "    </tr>\n",
       "    <tr>\n",
       "      <th>766</th>\n",
       "      <td>1</td>\n",
       "      <td>126</td>\n",
       "      <td>60</td>\n",
       "      <td>0</td>\n",
       "      <td>0</td>\n",
       "      <td>30.1</td>\n",
       "      <td>0.349</td>\n",
       "      <td>47</td>\n",
       "      <td>1</td>\n",
       "    </tr>\n",
       "    <tr>\n",
       "      <th>767</th>\n",
       "      <td>1</td>\n",
       "      <td>93</td>\n",
       "      <td>70</td>\n",
       "      <td>31</td>\n",
       "      <td>0</td>\n",
       "      <td>30.4</td>\n",
       "      <td>0.315</td>\n",
       "      <td>23</td>\n",
       "      <td>0</td>\n",
       "    </tr>\n",
       "  </tbody>\n",
       "</table>\n",
       "<p>768 rows × 9 columns</p>\n",
       "</div>"
      ],
      "text/plain": [
       "     pregnant  gloucose  blood pressure  skin thickness  insulin   BMI    DPF  \\\n",
       "0           6       148              72              35        0  33.6  0.627   \n",
       "1           1        85              66              29        0  26.6  0.351   \n",
       "2           8       183              64               0        0  23.3  0.672   \n",
       "3           1        89              66              23       94  28.1  0.167   \n",
       "4           0       137              40              35      168  43.1  2.288   \n",
       "..        ...       ...             ...             ...      ...   ...    ...   \n",
       "763        10       101              76              48      180  32.9  0.171   \n",
       "764         2       122              70              27        0  36.8  0.340   \n",
       "765         5       121              72              23      112  26.2  0.245   \n",
       "766         1       126              60               0        0  30.1  0.349   \n",
       "767         1        93              70              31        0  30.4  0.315   \n",
       "\n",
       "     age  result  \n",
       "0     50       1  \n",
       "1     31       0  \n",
       "2     32       1  \n",
       "3     21       0  \n",
       "4     33       1  \n",
       "..   ...     ...  \n",
       "763   63       0  \n",
       "764   27       0  \n",
       "765   30       0  \n",
       "766   47       1  \n",
       "767   23       0  \n",
       "\n",
       "[768 rows x 9 columns]"
      ]
     },
     "execution_count": 2,
     "metadata": {},
     "output_type": "execute_result"
    }
   ],
   "source": [
    "# 2. 데이터 불러오기\n",
    "df = pd.read_csv('diabetes_data.csv')\n",
    "df"
   ]
  },
  {
   "cell_type": "code",
   "execution_count": 3,
   "metadata": {},
   "outputs": [
    {
     "data": {
      "text/html": [
       "<div>\n",
       "<style scoped>\n",
       "    .dataframe tbody tr th:only-of-type {\n",
       "        vertical-align: middle;\n",
       "    }\n",
       "\n",
       "    .dataframe tbody tr th {\n",
       "        vertical-align: top;\n",
       "    }\n",
       "\n",
       "    .dataframe thead th {\n",
       "        text-align: right;\n",
       "    }\n",
       "</style>\n",
       "<table border=\"1\" class=\"dataframe\">\n",
       "  <thead>\n",
       "    <tr style=\"text-align: right;\">\n",
       "      <th></th>\n",
       "      <th>result</th>\n",
       "    </tr>\n",
       "  </thead>\n",
       "  <tbody>\n",
       "    <tr>\n",
       "      <th>0</th>\n",
       "      <td>1</td>\n",
       "    </tr>\n",
       "    <tr>\n",
       "      <th>1</th>\n",
       "      <td>0</td>\n",
       "    </tr>\n",
       "    <tr>\n",
       "      <th>2</th>\n",
       "      <td>1</td>\n",
       "    </tr>\n",
       "    <tr>\n",
       "      <th>3</th>\n",
       "      <td>0</td>\n",
       "    </tr>\n",
       "    <tr>\n",
       "      <th>4</th>\n",
       "      <td>1</td>\n",
       "    </tr>\n",
       "    <tr>\n",
       "      <th>...</th>\n",
       "      <td>...</td>\n",
       "    </tr>\n",
       "    <tr>\n",
       "      <th>763</th>\n",
       "      <td>0</td>\n",
       "    </tr>\n",
       "    <tr>\n",
       "      <th>764</th>\n",
       "      <td>0</td>\n",
       "    </tr>\n",
       "    <tr>\n",
       "      <th>765</th>\n",
       "      <td>0</td>\n",
       "    </tr>\n",
       "    <tr>\n",
       "      <th>766</th>\n",
       "      <td>1</td>\n",
       "    </tr>\n",
       "    <tr>\n",
       "      <th>767</th>\n",
       "      <td>0</td>\n",
       "    </tr>\n",
       "  </tbody>\n",
       "</table>\n",
       "<p>768 rows × 1 columns</p>\n",
       "</div>"
      ],
      "text/plain": [
       "     result\n",
       "0         1\n",
       "1         0\n",
       "2         1\n",
       "3         0\n",
       "4         1\n",
       "..      ...\n",
       "763       0\n",
       "764       0\n",
       "765       0\n",
       "766       1\n",
       "767       0\n",
       "\n",
       "[768 rows x 1 columns]"
      ]
     },
     "execution_count": 3,
     "metadata": {},
     "output_type": "execute_result"
    }
   ],
   "source": [
    "# 3. X/y 나누기\n",
    "X = df.iloc[:,:8]\n",
    "X\n",
    "y = df.iloc[:, 8:]\n",
    "y"
   ]
  },
  {
   "cell_type": "code",
   "execution_count": 4,
   "metadata": {},
   "outputs": [],
   "source": [
    "# 4. Train set, Test set split\n",
    "from sklearn.model_selection import train_test_split\n",
    "X_train, X_test, y_train, y_test = train_test_split(X, y, test_size=0.30, random_state=321)\n",
    "\n",
    "#validation set's added.\n",
    "X_val, X_test, y_val, y_test = train_test_split(X_test, y_test, test_size = 0.5, random_state= 100)\n"
   ]
  },
  {
   "cell_type": "code",
   "execution_count": 5,
   "metadata": {},
   "outputs": [],
   "source": [
    "# 5. Keras 패키지 가져오기\n",
    "from tensorflow import keras\n",
    "from tensorflow.keras import layers\n",
    "from tensorflow.keras.layers import Dense, Dropout"
   ]
  },
  {
   "cell_type": "code",
   "execution_count": 72,
   "metadata": {},
   "outputs": [],
   "source": [
    "# 6. MLP 모델 생성\n",
    "model = keras.Sequential()\n",
    "model.add(Dense(input_dim = 8, units = 128, activation='relu'))\n",
    "model.add(Dense(units = 64, activation ='relu'))\n",
    "\n",
    "model.add(layers.Dropout(0.2)) # 0.2~0.5 selelct often\n",
    "\n",
    "model.add(Dense(units = 16, activation ='relu'))\n",
    "model.add(Dense(units = 1, activation ='sigmoid'))"
   ]
  },
  {
   "cell_type": "code",
   "execution_count": 73,
   "metadata": {},
   "outputs": [
    {
     "name": "stdout",
     "output_type": "stream",
     "text": [
      "Model: \"sequential_9\"\n",
      "_________________________________________________________________\n",
      "Layer (type)                 Output Shape              Param #   \n",
      "=================================================================\n",
      "dense_36 (Dense)             (None, 128)               1152      \n",
      "_________________________________________________________________\n",
      "dense_37 (Dense)             (None, 64)                8256      \n",
      "_________________________________________________________________\n",
      "dropout_7 (Dropout)          (None, 64)                0         \n",
      "_________________________________________________________________\n",
      "dense_38 (Dense)             (None, 16)                1040      \n",
      "_________________________________________________________________\n",
      "dense_39 (Dense)             (None, 1)                 17        \n",
      "=================================================================\n",
      "Total params: 10,465\n",
      "Trainable params: 10,465\n",
      "Non-trainable params: 0\n",
      "_________________________________________________________________\n"
     ]
    }
   ],
   "source": [
    "model.summary()"
   ]
  },
  {
   "cell_type": "code",
   "execution_count": 74,
   "metadata": {},
   "outputs": [],
   "source": [
    "# 7. Compile - Optimizer, Loss function 설정\n",
    "model.compile(loss = 'binary_crossentropy', optimizer='adam', metrics = ['accuracy'])"
   ]
  },
  {
   "cell_type": "code",
   "execution_count": 75,
   "metadata": {},
   "outputs": [
    {
     "name": "stdout",
     "output_type": "stream",
     "text": [
      "Epoch 1/1000\n",
      "68/68 [==============================] - 1s 4ms/step - loss: 4.8649 - accuracy: 0.5350 - val_loss: 0.8398 - val_accuracy: 0.6522\n",
      "Epoch 2/1000\n",
      "68/68 [==============================] - 0s 2ms/step - loss: 1.1362 - accuracy: 0.5492 - val_loss: 0.8828 - val_accuracy: 0.6261\n",
      "Epoch 3/1000\n",
      "68/68 [==============================] - 0s 2ms/step - loss: 0.8897 - accuracy: 0.6139 - val_loss: 0.6550 - val_accuracy: 0.6609\n",
      "Epoch 4/1000\n",
      "68/68 [==============================] - 0s 2ms/step - loss: 0.6376 - accuracy: 0.6703 - val_loss: 0.6594 - val_accuracy: 0.6696\n",
      "Epoch 5/1000\n",
      "68/68 [==============================] - 0s 2ms/step - loss: 0.6445 - accuracy: 0.6727 - val_loss: 0.6569 - val_accuracy: 0.6696\n",
      "Epoch 6/1000\n",
      "68/68 [==============================] - 0s 2ms/step - loss: 0.6432 - accuracy: 0.6679 - val_loss: 0.6122 - val_accuracy: 0.6783\n",
      "Epoch 7/1000\n",
      "68/68 [==============================] - 0s 2ms/step - loss: 0.6362 - accuracy: 0.6508 - val_loss: 0.5933 - val_accuracy: 0.7043\n",
      "Epoch 8/1000\n",
      "68/68 [==============================] - 0s 2ms/step - loss: 0.6411 - accuracy: 0.6739 - val_loss: 0.6635 - val_accuracy: 0.6609\n",
      "Epoch 9/1000\n",
      "68/68 [==============================] - 0s 2ms/step - loss: 0.5618 - accuracy: 0.7071 - val_loss: 0.6201 - val_accuracy: 0.6783\n",
      "Epoch 10/1000\n",
      "68/68 [==============================] - 0s 2ms/step - loss: 0.5871 - accuracy: 0.6711 - val_loss: 0.6314 - val_accuracy: 0.6783\n",
      "Epoch 11/1000\n",
      "68/68 [==============================] - 0s 2ms/step - loss: 0.6451 - accuracy: 0.6588 - val_loss: 0.6336 - val_accuracy: 0.6348\n",
      "Epoch 12/1000\n",
      "68/68 [==============================] - 0s 2ms/step - loss: 0.5785 - accuracy: 0.6965 - val_loss: 0.6108 - val_accuracy: 0.6522\n",
      "Epoch 13/1000\n",
      "68/68 [==============================] - 0s 2ms/step - loss: 0.5898 - accuracy: 0.6775 - val_loss: 0.6202 - val_accuracy: 0.6435\n",
      "Epoch 14/1000\n",
      "68/68 [==============================] - 0s 2ms/step - loss: 0.6077 - accuracy: 0.6615 - val_loss: 0.6092 - val_accuracy: 0.6609\n",
      "Epoch 15/1000\n",
      "68/68 [==============================] - 0s 2ms/step - loss: 0.5764 - accuracy: 0.7376 - val_loss: 0.6420 - val_accuracy: 0.6522\n",
      "Epoch 16/1000\n",
      "68/68 [==============================] - 0s 2ms/step - loss: 0.5773 - accuracy: 0.7261 - val_loss: 0.6247 - val_accuracy: 0.6522\n",
      "Epoch 17/1000\n",
      "68/68 [==============================] - 0s 2ms/step - loss: 0.5961 - accuracy: 0.6976 - val_loss: 0.6671 - val_accuracy: 0.6783\n"
     ]
    }
   ],
   "source": [
    "# 8. 학습시키기\n",
    "from keras.callbacks import EarlyStopping # epochs will be stopped when good timing.\n",
    "early_stopping = EarlyStopping(monitor = 'val_loss', patience=10) \n",
    "hist = model.fit(X_train, y_train, validation_data = (X_val, y_val), batch_size = 8, epochs = 1000, callbacks=early_stopping)#verbose = 0,1,2 "
   ]
  },
  {
   "cell_type": "code",
   "execution_count": 76,
   "metadata": {},
   "outputs": [
    {
     "name": "stdout",
     "output_type": "stream",
     "text": [
      "17/17 [==============================] - 0s 959us/step - loss: 0.5538 - accuracy: 0.7393\n",
      "4/4 [==============================] - 0s 1ms/step - loss: 0.6777 - accuracy: 0.7328\n",
      "[0.5537627935409546, 0.7392923831939697]\n",
      "[0.6777154207229614, 0.732758641242981]\n"
     ]
    }
   ],
   "source": [
    "#model evaluate\n",
    "train_result = model.evaluate(X_train, y_train)\n",
    "test_result = model.evaluate(X_test, y_test)\n",
    "print(train_result)\n",
    "print(test_result)"
   ]
  },
  {
   "cell_type": "code",
   "execution_count": 70,
   "metadata": {},
   "outputs": [
    {
     "data": {
      "image/png": "[encoded data removed]",
      "text/plain": [
       "<Figure size 432x288 with 1 Axes>"
      ]
     },
     "metadata": {
      "needs_background": "light"
     },
     "output_type": "display_data"
    }
   ],
   "source": [
    "# 10. 학습 시각화하기\n",
    "import matplotlib.pyplot as plt\n",
    "\n",
    "plt.plot(hist.history['accuracy'])\n",
    "plt.plot(hist.history['val_accuracy'])\n",
    "\n",
    "plt.xlabel('Epoch')\n",
    "plt.ylabel('Accuracy')\n",
    "plt.legend(['train', 'val'], loc = 'upper left')\n",
    "plt.show()"
   ]
  },
  {
   "cell_type": "code",
   "execution_count": 71,
   "metadata": {},
   "outputs": [
    {
     "data": {
      "image/png": "[encoded data removed]",
      "text/plain": [
       "<Figure size 432x288 with 1 Axes>"
      ]
     },
     "metadata": {
      "needs_background": "light"
     },
     "output_type": "display_data"
    }
   ],
   "source": [
    "plt.plot(hist.history['loss'])\n",
    "plt.plot(hist.history['val_loss'])\n",
    "\n",
    "plt.xlabel('Epoch')\n",
    "plt.ylabel('loss')\n",
    "plt.legend(['train', 'loss'], loc = 'upper left')\n",
    "plt.show()\n",
    "#loss dont decent.\n",
    "#why decent afther drop out?"
   ]
  },
  {
   "cell_type": "code",
   "execution_count": null,
   "metadata": {},
   "outputs": [],
   "source": []
  },
  {
   "cell_type": "code",
   "execution_count": null,
   "metadata": {},
   "outputs": [],
   "source": []
  },
  {
   "cell_type": "code",
   "execution_count": null,
   "metadata": {},
   "outputs": [],
   "source": []
  },
  {
   "cell_type": "code",
   "execution_count": null,
   "metadata": {},
   "outputs": [],
   "source": []
  },
  {
   "cell_type": "code",
   "execution_count": null,
   "metadata": {},
   "outputs": [],
   "source": []
  }
 ],
 "metadata": {
  "kernelspec": {
   "display_name": "py38_tensorflow",
   "language": "python",
   "name": "conda-env-py38_tensorflow-py"
  },
  "language_info": {
   "codemirror_mode": {
    "name": "ipython",
    "version": 3
   },
   "file_extension": ".py",
   "mimetype": "text/x-python",
   "name": "python",
   "nbconvert_exporter": "python",
   "pygments_lexer": "ipython3",
   "version": "3.8.8"
  }
 },
 "nbformat": 4,
 "nbformat_minor": 2
}
